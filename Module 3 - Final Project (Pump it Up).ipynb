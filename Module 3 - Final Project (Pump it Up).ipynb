{
 "cells": [
  {
   "cell_type": "markdown",
   "metadata": {},
   "source": [
    "# Module 3 Project - Pump it Up: Data Mining the Water Table"
   ]
  },
  {
   "cell_type": "markdown",
   "metadata": {},
   "source": [
    "The goal of this project is to construct a classification model that can be used to predict the condition of water wells in Tanzania. This model will classify the condition of water wells into 3 categories namely - \n",
    "\n",
    "- functional - the waterpoint is operational and there are no repairs needed\n",
    "- functional needs repair - the waterpoint is operational, but needs repairs\n",
    "- non functional - the waterpoint is not operational\n",
    "\n",
    "To construct this model, I will use the data from Taarifa and the Tanzanian Ministry of Water. My approach for this project is to follow the OSEMN framework. The steps of this framework is as follow - \n",
    "\n",
    "1. Obtain the data\n",
    "2. Scrub the data\n",
    "3. Explore the data\n",
    "4. Model the data\n",
    "5. Interpret the data"
   ]
  },
  {
   "cell_type": "markdown",
   "metadata": {},
   "source": [
    "As the first step, I will import the necessary tools to construct the model."
   ]
  },
  {
   "cell_type": "code",
   "execution_count": 1,
   "metadata": {},
   "outputs": [],
   "source": [
    "import pandas as pd\n",
    "import seaborn as sns\n",
    "import numpy as np\n",
    "import matplotlib.pyplot as plt\n",
    "%matplotlib inline\n",
    "\n",
    "import warnings\n",
    "warnings.filterwarnings('ignore')"
   ]
  },
  {
   "cell_type": "markdown",
   "metadata": {},
   "source": [
    "# Obtaining Data"
   ]
  },
  {
   "cell_type": "markdown",
   "metadata": {},
   "source": [
    "The data from Taarifa and the Tanzanian Ministry of Water is originally divided into 3 csv files - \n",
    "\n",
    "- Test set values: The independent variables that need predictions\n",
    "\n",
    "- Training set labels: The dependent variable (status_group) for each of the rows in Training set values\n",
    "\n",
    "- Training set values: The independent variables for the training set\n",
    "\n",
    "Since there is no labels for the test dataset, I will primarily use the training dataset to construct the model as well as test the various scores of the model. Then I will use the values of test data to generate predictions."
   ]
  },
  {
   "cell_type": "markdown",
   "metadata": {},
   "source": [
    "First, I will use pandas to create the feature dataframe from \"Training set value\" csv file and inspect the first 5 rows."
   ]
  },
  {
   "cell_type": "code",
   "execution_count": 2,
   "metadata": {
    "scrolled": true
   },
   "outputs": [
    {
     "data": {
      "text/html": [
       "<div>\n",
       "<style scoped>\n",
       "    .dataframe tbody tr th:only-of-type {\n",
       "        vertical-align: middle;\n",
       "    }\n",
       "\n",
       "    .dataframe tbody tr th {\n",
       "        vertical-align: top;\n",
       "    }\n",
       "\n",
       "    .dataframe thead th {\n",
       "        text-align: right;\n",
       "    }\n",
       "</style>\n",
       "<table border=\"1\" class=\"dataframe\">\n",
       "  <thead>\n",
       "    <tr style=\"text-align: right;\">\n",
       "      <th></th>\n",
       "      <th>amount_tsh</th>\n",
       "      <th>date_recorded</th>\n",
       "      <th>funder</th>\n",
       "      <th>gps_height</th>\n",
       "      <th>installer</th>\n",
       "      <th>longitude</th>\n",
       "      <th>latitude</th>\n",
       "      <th>wpt_name</th>\n",
       "      <th>num_private</th>\n",
       "      <th>basin</th>\n",
       "      <th>...</th>\n",
       "      <th>payment_type</th>\n",
       "      <th>water_quality</th>\n",
       "      <th>quality_group</th>\n",
       "      <th>quantity</th>\n",
       "      <th>quantity_group</th>\n",
       "      <th>source</th>\n",
       "      <th>source_type</th>\n",
       "      <th>source_class</th>\n",
       "      <th>waterpoint_type</th>\n",
       "      <th>waterpoint_type_group</th>\n",
       "    </tr>\n",
       "    <tr>\n",
       "      <th>id</th>\n",
       "      <th></th>\n",
       "      <th></th>\n",
       "      <th></th>\n",
       "      <th></th>\n",
       "      <th></th>\n",
       "      <th></th>\n",
       "      <th></th>\n",
       "      <th></th>\n",
       "      <th></th>\n",
       "      <th></th>\n",
       "      <th></th>\n",
       "      <th></th>\n",
       "      <th></th>\n",
       "      <th></th>\n",
       "      <th></th>\n",
       "      <th></th>\n",
       "      <th></th>\n",
       "      <th></th>\n",
       "      <th></th>\n",
       "      <th></th>\n",
       "      <th></th>\n",
       "    </tr>\n",
       "  </thead>\n",
       "  <tbody>\n",
       "    <tr>\n",
       "      <th>69572</th>\n",
       "      <td>6000.0</td>\n",
       "      <td>2011-03-14</td>\n",
       "      <td>Roman</td>\n",
       "      <td>1390</td>\n",
       "      <td>Roman</td>\n",
       "      <td>34.938093</td>\n",
       "      <td>-9.856322</td>\n",
       "      <td>none</td>\n",
       "      <td>0</td>\n",
       "      <td>Lake Nyasa</td>\n",
       "      <td>...</td>\n",
       "      <td>annually</td>\n",
       "      <td>soft</td>\n",
       "      <td>good</td>\n",
       "      <td>enough</td>\n",
       "      <td>enough</td>\n",
       "      <td>spring</td>\n",
       "      <td>spring</td>\n",
       "      <td>groundwater</td>\n",
       "      <td>communal standpipe</td>\n",
       "      <td>communal standpipe</td>\n",
       "    </tr>\n",
       "    <tr>\n",
       "      <th>8776</th>\n",
       "      <td>0.0</td>\n",
       "      <td>2013-03-06</td>\n",
       "      <td>Grumeti</td>\n",
       "      <td>1399</td>\n",
       "      <td>GRUMETI</td>\n",
       "      <td>34.698766</td>\n",
       "      <td>-2.147466</td>\n",
       "      <td>Zahanati</td>\n",
       "      <td>0</td>\n",
       "      <td>Lake Victoria</td>\n",
       "      <td>...</td>\n",
       "      <td>never pay</td>\n",
       "      <td>soft</td>\n",
       "      <td>good</td>\n",
       "      <td>insufficient</td>\n",
       "      <td>insufficient</td>\n",
       "      <td>rainwater harvesting</td>\n",
       "      <td>rainwater harvesting</td>\n",
       "      <td>surface</td>\n",
       "      <td>communal standpipe</td>\n",
       "      <td>communal standpipe</td>\n",
       "    </tr>\n",
       "    <tr>\n",
       "      <th>34310</th>\n",
       "      <td>25.0</td>\n",
       "      <td>2013-02-25</td>\n",
       "      <td>Lottery Club</td>\n",
       "      <td>686</td>\n",
       "      <td>World vision</td>\n",
       "      <td>37.460664</td>\n",
       "      <td>-3.821329</td>\n",
       "      <td>Kwa Mahundi</td>\n",
       "      <td>0</td>\n",
       "      <td>Pangani</td>\n",
       "      <td>...</td>\n",
       "      <td>per bucket</td>\n",
       "      <td>soft</td>\n",
       "      <td>good</td>\n",
       "      <td>enough</td>\n",
       "      <td>enough</td>\n",
       "      <td>dam</td>\n",
       "      <td>dam</td>\n",
       "      <td>surface</td>\n",
       "      <td>communal standpipe multiple</td>\n",
       "      <td>communal standpipe</td>\n",
       "    </tr>\n",
       "    <tr>\n",
       "      <th>67743</th>\n",
       "      <td>0.0</td>\n",
       "      <td>2013-01-28</td>\n",
       "      <td>Unicef</td>\n",
       "      <td>263</td>\n",
       "      <td>UNICEF</td>\n",
       "      <td>38.486161</td>\n",
       "      <td>-11.155298</td>\n",
       "      <td>Zahanati Ya Nanyumbu</td>\n",
       "      <td>0</td>\n",
       "      <td>Ruvuma / Southern Coast</td>\n",
       "      <td>...</td>\n",
       "      <td>never pay</td>\n",
       "      <td>soft</td>\n",
       "      <td>good</td>\n",
       "      <td>dry</td>\n",
       "      <td>dry</td>\n",
       "      <td>machine dbh</td>\n",
       "      <td>borehole</td>\n",
       "      <td>groundwater</td>\n",
       "      <td>communal standpipe multiple</td>\n",
       "      <td>communal standpipe</td>\n",
       "    </tr>\n",
       "    <tr>\n",
       "      <th>19728</th>\n",
       "      <td>0.0</td>\n",
       "      <td>2011-07-13</td>\n",
       "      <td>Action In A</td>\n",
       "      <td>0</td>\n",
       "      <td>Artisan</td>\n",
       "      <td>31.130847</td>\n",
       "      <td>-1.825359</td>\n",
       "      <td>Shuleni</td>\n",
       "      <td>0</td>\n",
       "      <td>Lake Victoria</td>\n",
       "      <td>...</td>\n",
       "      <td>never pay</td>\n",
       "      <td>soft</td>\n",
       "      <td>good</td>\n",
       "      <td>seasonal</td>\n",
       "      <td>seasonal</td>\n",
       "      <td>rainwater harvesting</td>\n",
       "      <td>rainwater harvesting</td>\n",
       "      <td>surface</td>\n",
       "      <td>communal standpipe</td>\n",
       "      <td>communal standpipe</td>\n",
       "    </tr>\n",
       "  </tbody>\n",
       "</table>\n",
       "<p>5 rows × 39 columns</p>\n",
       "</div>"
      ],
      "text/plain": [
       "       amount_tsh date_recorded        funder  gps_height     installer  \\\n",
       "id                                                                        \n",
       "69572      6000.0    2011-03-14         Roman        1390         Roman   \n",
       "8776          0.0    2013-03-06       Grumeti        1399       GRUMETI   \n",
       "34310        25.0    2013-02-25  Lottery Club         686  World vision   \n",
       "67743         0.0    2013-01-28        Unicef         263        UNICEF   \n",
       "19728         0.0    2011-07-13   Action In A           0       Artisan   \n",
       "\n",
       "       longitude   latitude              wpt_name  num_private  \\\n",
       "id                                                               \n",
       "69572  34.938093  -9.856322                  none            0   \n",
       "8776   34.698766  -2.147466              Zahanati            0   \n",
       "34310  37.460664  -3.821329           Kwa Mahundi            0   \n",
       "67743  38.486161 -11.155298  Zahanati Ya Nanyumbu            0   \n",
       "19728  31.130847  -1.825359               Shuleni            0   \n",
       "\n",
       "                         basin  ... payment_type water_quality  quality_group  \\\n",
       "id                              ...                                             \n",
       "69572               Lake Nyasa  ...     annually          soft           good   \n",
       "8776             Lake Victoria  ...    never pay          soft           good   \n",
       "34310                  Pangani  ...   per bucket          soft           good   \n",
       "67743  Ruvuma / Southern Coast  ...    never pay          soft           good   \n",
       "19728            Lake Victoria  ...    never pay          soft           good   \n",
       "\n",
       "           quantity quantity_group                source  \\\n",
       "id                                                         \n",
       "69572        enough         enough                spring   \n",
       "8776   insufficient   insufficient  rainwater harvesting   \n",
       "34310        enough         enough                   dam   \n",
       "67743           dry            dry           machine dbh   \n",
       "19728      seasonal       seasonal  rainwater harvesting   \n",
       "\n",
       "                source_type source_class              waterpoint_type  \\\n",
       "id                                                                      \n",
       "69572                spring  groundwater           communal standpipe   \n",
       "8776   rainwater harvesting      surface           communal standpipe   \n",
       "34310                   dam      surface  communal standpipe multiple   \n",
       "67743              borehole  groundwater  communal standpipe multiple   \n",
       "19728  rainwater harvesting      surface           communal standpipe   \n",
       "\n",
       "      waterpoint_type_group  \n",
       "id                           \n",
       "69572    communal standpipe  \n",
       "8776     communal standpipe  \n",
       "34310    communal standpipe  \n",
       "67743    communal standpipe  \n",
       "19728    communal standpipe  \n",
       "\n",
       "[5 rows x 39 columns]"
      ]
     },
     "execution_count": 2,
     "metadata": {},
     "output_type": "execute_result"
    }
   ],
   "source": [
    "features = pd.read_csv('TrainingSetValues.csv', index_col='id')\n",
    "features.head()"
   ]
  },
  {
   "cell_type": "code",
   "execution_count": 3,
   "metadata": {},
   "outputs": [
    {
     "data": {
      "text/plain": [
       "39"
      ]
     },
     "execution_count": 3,
     "metadata": {},
     "output_type": "execute_result"
    }
   ],
   "source": [
    "# checking how many columns are in the dataframe\n",
    "len(features.columns)"
   ]
  },
  {
   "cell_type": "markdown",
   "metadata": {},
   "source": [
    "Next, I will use pandas to create the target dataframe from \"Training Set Labels\" csv file and check the first 5 rows."
   ]
  },
  {
   "cell_type": "code",
   "execution_count": 4,
   "metadata": {
    "scrolled": false
   },
   "outputs": [
    {
     "data": {
      "text/html": [
       "<div>\n",
       "<style scoped>\n",
       "    .dataframe tbody tr th:only-of-type {\n",
       "        vertical-align: middle;\n",
       "    }\n",
       "\n",
       "    .dataframe tbody tr th {\n",
       "        vertical-align: top;\n",
       "    }\n",
       "\n",
       "    .dataframe thead th {\n",
       "        text-align: right;\n",
       "    }\n",
       "</style>\n",
       "<table border=\"1\" class=\"dataframe\">\n",
       "  <thead>\n",
       "    <tr style=\"text-align: right;\">\n",
       "      <th></th>\n",
       "      <th>status_group</th>\n",
       "    </tr>\n",
       "    <tr>\n",
       "      <th>id</th>\n",
       "      <th></th>\n",
       "    </tr>\n",
       "  </thead>\n",
       "  <tbody>\n",
       "    <tr>\n",
       "      <th>69572</th>\n",
       "      <td>functional</td>\n",
       "    </tr>\n",
       "    <tr>\n",
       "      <th>8776</th>\n",
       "      <td>functional</td>\n",
       "    </tr>\n",
       "    <tr>\n",
       "      <th>34310</th>\n",
       "      <td>functional</td>\n",
       "    </tr>\n",
       "    <tr>\n",
       "      <th>67743</th>\n",
       "      <td>non functional</td>\n",
       "    </tr>\n",
       "    <tr>\n",
       "      <th>19728</th>\n",
       "      <td>functional</td>\n",
       "    </tr>\n",
       "  </tbody>\n",
       "</table>\n",
       "</div>"
      ],
      "text/plain": [
       "         status_group\n",
       "id                   \n",
       "69572      functional\n",
       "8776       functional\n",
       "34310      functional\n",
       "67743  non functional\n",
       "19728      functional"
      ]
     },
     "execution_count": 4,
     "metadata": {},
     "output_type": "execute_result"
    }
   ],
   "source": [
    "target = pd.read_csv('TrainingSetLabels.csv', index_col='id')\n",
    "target.head()"
   ]
  },
  {
   "cell_type": "markdown",
   "metadata": {},
   "source": [
    "Next, we will look at the description of each feature. These descriptions are provided by Taarifa and the Tanzanian Ministry of Water.\n",
    "\n",
    "- amount_tsh - Total static head (amount water available to waterpoint)\n",
    "- date_recorded - The date the row was entered\n",
    "- funder - Who funded the well\n",
    "- gps_height - Altitude of the well\n",
    "- installer - Organization that installed the well\n",
    "- longitude - GPS coordinate\n",
    "- latitude - GPS coordinate\n",
    "- wpt_name - Name of the waterpoint if there is one\n",
    "- num_private -\n",
    "- basin - Geographic water basin\n",
    "- subvillage - Geographic location\n",
    "- region - Geographic location\n",
    "- region_code - Geographic location (coded)\n",
    "- district_code - Geographic location (coded)\n",
    "- lga - Geographic location\n",
    "- ward - Geographic location\n",
    "- population - Population around the well\n",
    "- public_meeting - True/False\n",
    "- recorded_by - Group entering this row of data\n",
    "- scheme_management - Who operates the waterpoint\n",
    "- scheme_name - Who operates the waterpoint\n",
    "- permit - If the waterpoint is permitted\n",
    "- construction_year - Year the waterpoint was constructed\n",
    "- extraction_type - The kind of extraction the waterpoint uses\n",
    "- extraction_type_group - The kind of extraction the waterpoint uses\n",
    "- extraction_type_class - The kind of extraction the waterpoint uses\n",
    "- management - How the waterpoint is managed\n",
    "- management_group - How the waterpoint is managed\n",
    "- payment - What the water costs\n",
    "- payment_type - What the water costs\n",
    "- water_quality - The quality of the water\n",
    "- quality_group - The quality of the water\n",
    "- quantity - The quantity of water\n",
    "- quantity_group - The quantity of water\n",
    "- source - The source of the water\n",
    "- source_type - The source of the water\n",
    "- source_class - The source of the water\n",
    "- waterpoint_type - The kind of waterpoint\n",
    "- waterpoint_type_group - The kind of waterpoint"
   ]
  },
  {
   "cell_type": "markdown",
   "metadata": {},
   "source": [
    "# Scrubbing Data - Removing Irrelevant Features"
   ]
  },
  {
   "cell_type": "markdown",
   "metadata": {},
   "source": [
    "By looking at these descriptions, we can realize that some of the features are irrelevant to the development of our model. Therefore, I will remove these features from the data frame. The features I will remove are - \n",
    "\n",
    "- date_recorded - The date the row was entered\n",
    "- funder - Who funded the well\n",
    "- wpt_name - Name of the waterpoint if there is one\n",
    "- recorded_by - Group entering this row of data"
   ]
  },
  {
   "cell_type": "code",
   "execution_count": 5,
   "metadata": {},
   "outputs": [],
   "source": [
    "features = features.drop(columns=['date_recorded', 'funder', 'wpt_name', 'recorded_by'], axis=1)"
   ]
  },
  {
   "cell_type": "code",
   "execution_count": 6,
   "metadata": {},
   "outputs": [
    {
     "data": {
      "text/plain": [
       "35"
      ]
     },
     "execution_count": 6,
     "metadata": {},
     "output_type": "execute_result"
    }
   ],
   "source": [
    "# checking how many columns are in the dataframe\n",
    "len(features.columns)"
   ]
  },
  {
   "cell_type": "markdown",
   "metadata": {},
   "source": [
    "The 4 features have been dropped as per the number of columns in the current dataframe.\n",
    "\n",
    "I also notice that some of the column names are similar. I will now check if these columns have identical values. If they do, we can remove the duplicate columns and consolidate our dataframe. The columns I will investigate are - \n",
    "\n",
    "- scheme_management - Who operates the waterpoint\n",
    "- scheme_name - Who operates the waterpoint\n",
    "- management - How the waterpoint is managed\n",
    "- management_group - How the waterpoint is managed\n",
    "<br>\n",
    "<br>\n",
    "- extraction_type - The kind of extraction the waterpoint uses\n",
    "- extraction_type_group - The kind of extraction the waterpoint uses\n",
    "- extraction_type_class - The kind of extraction the waterpoint uses\n",
    "<br>\n",
    "<br>\n",
    "- payment - What the water costs\n",
    "- payment_type - What the water costs\n",
    "<br>\n",
    "<br>\n",
    "- water_quality - The quality of the water\n",
    "- quality_group - The quality of the water\n",
    "<br>\n",
    "<br>\n",
    "- quantity - The quantity of water\n",
    "- quantity_group - The quantity of water\n",
    "<br>\n",
    "<br>\n",
    "- source - The source of the water\n",
    "- source_type - The source of the water\n",
    "- source_class - The source of the water\n",
    "<br>\n",
    "<br>\n",
    "- waterpoint_type - The kind of waterpoint\n",
    "- waterpoint_type_group - The kind of waterpoint"
   ]
  },
  {
   "cell_type": "markdown",
   "metadata": {},
   "source": [
    "First, I will write a function that will provide the number and names of unique values in the columns."
   ]
  },
  {
   "cell_type": "code",
   "execution_count": 7,
   "metadata": {},
   "outputs": [],
   "source": [
    "def check_unique(l):\n",
    "    for i in l:\n",
    "        print(\"Feature Name:\", i)\n",
    "        print(\"Number of Unique Values:\", len(features[i].unique()))\n",
    "        print(\"Unique Values:\", features[i].unique())\n",
    "        print('\\n')"
   ]
  },
  {
   "cell_type": "markdown",
   "metadata": {},
   "source": [
    "Next, I will check the first set of features with similar names."
   ]
  },
  {
   "cell_type": "code",
   "execution_count": 8,
   "metadata": {
    "scrolled": true
   },
   "outputs": [
    {
     "name": "stdout",
     "output_type": "stream",
     "text": [
      "Feature Name: scheme_management\n",
      "Number of Unique Values: 13\n",
      "Unique Values: ['VWC' 'Other' nan 'Private operator' 'WUG' 'Water Board' 'WUA'\n",
      " 'Water authority' 'Company' 'Parastatal' 'Trust' 'SWC' 'None']\n",
      "\n",
      "\n",
      "Feature Name: scheme_name\n",
      "Number of Unique Values: 2697\n",
      "Unique Values: ['Roman' nan 'Nyumba ya mungu pipe scheme' ... 'BL Nsherehehe'\n",
      " 'Magati  gravity spri' 'Mtawanya']\n",
      "\n",
      "\n",
      "Feature Name: management\n",
      "Number of Unique Values: 12\n",
      "Unique Values: ['vwc' 'wug' 'other' 'private operator' 'water board' 'wua' 'company'\n",
      " 'water authority' 'parastatal' 'unknown' 'other - school' 'trust']\n",
      "\n",
      "\n",
      "Feature Name: management_group\n",
      "Number of Unique Values: 5\n",
      "Unique Values: ['user-group' 'other' 'commercial' 'parastatal' 'unknown']\n",
      "\n",
      "\n"
     ]
    }
   ],
   "source": [
    "columns_1 = ['scheme_management', 'scheme_name', 'management', 'management_group']\n",
    "\n",
    "check_unique(columns_1)"
   ]
  },
  {
   "cell_type": "markdown",
   "metadata": {},
   "source": [
    "\"Scheme_management\" and \"management\" features have similar values. However, the former contains 'nan' and 'None' for missing values, and the latter has 'unknown' for the missing values. Therefore, I will drop the \"Scheme_management\" column and keep \"management\" column.\n",
    "<br>\n",
    "<br>\n",
    "I will also remove the \"scheme_name\" column since it has 2697 different categories. Such a high number of unique values will not be useful for our model. \"Management_group\" will be also removed because its categorical values are included in \"management\" as sub-categories."
   ]
  },
  {
   "cell_type": "code",
   "execution_count": 9,
   "metadata": {
    "scrolled": true
   },
   "outputs": [
    {
     "data": {
      "text/plain": [
       "32"
      ]
     },
     "execution_count": 9,
     "metadata": {},
     "output_type": "execute_result"
    }
   ],
   "source": [
    "# removing \"scheme_management\", \"scheme_name\" and \"management_group\"\n",
    "\n",
    "features = features.drop(columns=['scheme_management', 'scheme_name', 'management_group'], axis=1)\n",
    "\n",
    "# checking the remaining number of columns\n",
    "len(features.columns)"
   ]
  },
  {
   "cell_type": "markdown",
   "metadata": {},
   "source": [
    "Next, I will check the second set of features."
   ]
  },
  {
   "cell_type": "code",
   "execution_count": 10,
   "metadata": {
    "scrolled": false
   },
   "outputs": [
    {
     "name": "stdout",
     "output_type": "stream",
     "text": [
      "Feature Name: extraction_type\n",
      "Number of Unique Values: 18\n",
      "Unique Values: ['gravity' 'submersible' 'swn 80' 'nira/tanira' 'india mark ii' 'other'\n",
      " 'ksb' 'mono' 'windmill' 'afridev' 'other - rope pump' 'india mark iii'\n",
      " 'other - swn 81' 'other - play pump' 'cemo' 'climax' 'walimi'\n",
      " 'other - mkulima/shinyanga']\n",
      "\n",
      "\n",
      "Feature Name: extraction_type_group\n",
      "Number of Unique Values: 13\n",
      "Unique Values: ['gravity' 'submersible' 'swn 80' 'nira/tanira' 'india mark ii' 'other'\n",
      " 'mono' 'wind-powered' 'afridev' 'rope pump' 'india mark iii'\n",
      " 'other handpump' 'other motorpump']\n",
      "\n",
      "\n",
      "Feature Name: extraction_type_class\n",
      "Number of Unique Values: 7\n",
      "Unique Values: ['gravity' 'submersible' 'handpump' 'other' 'motorpump' 'wind-powered'\n",
      " 'rope pump']\n",
      "\n",
      "\n"
     ]
    }
   ],
   "source": [
    "columns_2 = ['extraction_type', 'extraction_type_group', 'extraction_type_class']\n",
    "\n",
    "check_unique(columns_2)"
   ]
  },
  {
   "cell_type": "markdown",
   "metadata": {},
   "source": [
    "These 3 features have identical values and \"extraction_type_class\" seems to have the highest level of category and the other two are sub-categories. Therefore, we can remove \"extraction_type\" and \"extraction_type_group\" while keeping \"extraction_type_class\" to construct our model."
   ]
  },
  {
   "cell_type": "code",
   "execution_count": 11,
   "metadata": {},
   "outputs": [
    {
     "data": {
      "text/plain": [
       "30"
      ]
     },
     "execution_count": 11,
     "metadata": {},
     "output_type": "execute_result"
    }
   ],
   "source": [
    "# removing \"extraction_type\" and \"extraction_type_group\"\n",
    "\n",
    "features = features.drop(columns=['extraction_type', 'extraction_type_group'], axis=1)\n",
    "\n",
    "# checking the remaining number of columns\n",
    "len(features.columns)"
   ]
  },
  {
   "cell_type": "markdown",
   "metadata": {},
   "source": [
    "Let's look at the next set - "
   ]
  },
  {
   "cell_type": "code",
   "execution_count": 12,
   "metadata": {
    "scrolled": false
   },
   "outputs": [
    {
     "name": "stdout",
     "output_type": "stream",
     "text": [
      "Feature Name: payment\n",
      "Number of Unique Values: 7\n",
      "Unique Values: ['pay annually' 'never pay' 'pay per bucket' 'unknown'\n",
      " 'pay when scheme fails' 'other' 'pay monthly']\n",
      "\n",
      "\n",
      "Feature Name: payment_type\n",
      "Number of Unique Values: 7\n",
      "Unique Values: ['annually' 'never pay' 'per bucket' 'unknown' 'on failure' 'other'\n",
      " 'monthly']\n",
      "\n",
      "\n"
     ]
    }
   ],
   "source": [
    "columns_3 = ['payment', 'payment_type']\n",
    "\n",
    "check_unique(columns_3)"
   ]
  },
  {
   "cell_type": "markdown",
   "metadata": {},
   "source": [
    "Both features have identical values. So, we will just keep one feature ('payment_type') and remove the other one ('payment')."
   ]
  },
  {
   "cell_type": "code",
   "execution_count": 13,
   "metadata": {
    "scrolled": true
   },
   "outputs": [
    {
     "data": {
      "text/plain": [
       "29"
      ]
     },
     "execution_count": 13,
     "metadata": {},
     "output_type": "execute_result"
    }
   ],
   "source": [
    "# removing \"payment\"\n",
    "\n",
    "features = features.drop(columns=['payment'], axis=1)\n",
    "\n",
    "# checking the remaining number of columns\n",
    "len(features.columns)"
   ]
  },
  {
   "cell_type": "markdown",
   "metadata": {},
   "source": [
    "Now, we move on to the fourth set - "
   ]
  },
  {
   "cell_type": "code",
   "execution_count": 14,
   "metadata": {
    "scrolled": false
   },
   "outputs": [
    {
     "name": "stdout",
     "output_type": "stream",
     "text": [
      "Feature Name: water_quality\n",
      "Number of Unique Values: 8\n",
      "Unique Values: ['soft' 'salty' 'milky' 'unknown' 'fluoride' 'coloured' 'salty abandoned'\n",
      " 'fluoride abandoned']\n",
      "\n",
      "\n",
      "Feature Name: quality_group\n",
      "Number of Unique Values: 6\n",
      "Unique Values: ['good' 'salty' 'milky' 'unknown' 'fluoride' 'colored']\n",
      "\n",
      "\n"
     ]
    }
   ],
   "source": [
    "columns_4 = ['water_quality', 'quality_group']\n",
    "\n",
    "check_unique(columns_4)"
   ]
  },
  {
   "cell_type": "markdown",
   "metadata": {},
   "source": [
    "These two features also have similar values. The \"water_quality\" has two more categories \"salty abandoned\" and \"fluoride abandoned\". These \"abandoned\" statuses might be important for our model. Therefore, we will keep \"water_qualtity\" and remove \"quality_group\"."
   ]
  },
  {
   "cell_type": "code",
   "execution_count": 15,
   "metadata": {},
   "outputs": [
    {
     "data": {
      "text/plain": [
       "28"
      ]
     },
     "execution_count": 15,
     "metadata": {},
     "output_type": "execute_result"
    }
   ],
   "source": [
    "# removing \"quality_group\"\n",
    "\n",
    "features = features.drop(columns=['quality_group'], axis=1)\n",
    "\n",
    "# checking the remaining number of columns\n",
    "len(features.columns)"
   ]
  },
  {
   "cell_type": "markdown",
   "metadata": {},
   "source": [
    "Next, we will look at \"quantity\" and \"quantity_group\" features."
   ]
  },
  {
   "cell_type": "code",
   "execution_count": 16,
   "metadata": {
    "scrolled": true
   },
   "outputs": [
    {
     "name": "stdout",
     "output_type": "stream",
     "text": [
      "Feature Name: quantity\n",
      "Number of Unique Values: 5\n",
      "Unique Values: ['enough' 'insufficient' 'dry' 'seasonal' 'unknown']\n",
      "\n",
      "\n",
      "Feature Name: quantity_group\n",
      "Number of Unique Values: 5\n",
      "Unique Values: ['enough' 'insufficient' 'dry' 'seasonal' 'unknown']\n",
      "\n",
      "\n"
     ]
    }
   ],
   "source": [
    "columns_5 = ['quantity', 'quantity_group']\n",
    "\n",
    "check_unique(columns_5)"
   ]
  },
  {
   "cell_type": "markdown",
   "metadata": {},
   "source": [
    "These two features also have similar values. We will keep \"quantity\" and remove \"quantity_group\"."
   ]
  },
  {
   "cell_type": "code",
   "execution_count": 17,
   "metadata": {
    "scrolled": true
   },
   "outputs": [
    {
     "data": {
      "text/plain": [
       "27"
      ]
     },
     "execution_count": 17,
     "metadata": {},
     "output_type": "execute_result"
    }
   ],
   "source": [
    "# removing \"quantity_group\"\n",
    "\n",
    "features = features.drop(columns=['quantity_group'], axis=1)\n",
    "\n",
    "# checking the remaining number of columns\n",
    "len(features.columns)"
   ]
  },
  {
   "cell_type": "markdown",
   "metadata": {},
   "source": [
    "Next, we will look at 'source', 'source_type' and 'source_class'. "
   ]
  },
  {
   "cell_type": "code",
   "execution_count": 18,
   "metadata": {
    "scrolled": true
   },
   "outputs": [
    {
     "name": "stdout",
     "output_type": "stream",
     "text": [
      "Feature Name: source\n",
      "Number of Unique Values: 10\n",
      "Unique Values: ['spring' 'rainwater harvesting' 'dam' 'machine dbh' 'other'\n",
      " 'shallow well' 'river' 'hand dtw' 'lake' 'unknown']\n",
      "\n",
      "\n",
      "Feature Name: source_type\n",
      "Number of Unique Values: 7\n",
      "Unique Values: ['spring' 'rainwater harvesting' 'dam' 'borehole' 'other' 'shallow well'\n",
      " 'river/lake']\n",
      "\n",
      "\n",
      "Feature Name: source_class\n",
      "Number of Unique Values: 3\n",
      "Unique Values: ['groundwater' 'surface' 'unknown']\n",
      "\n",
      "\n"
     ]
    }
   ],
   "source": [
    "columns_6 = ['source', 'source_type', 'source_class']\n",
    "\n",
    "check_unique(columns_6)"
   ]
  },
  {
   "cell_type": "markdown",
   "metadata": {},
   "source": [
    "These 3 features have similar values. \"Source_class\" have the highest level categories and the two others have sub-categories. Since the sub-categories are quite different, we will keep \"source\" which has 10 unique sub-categories and remove the other two features which have less categories."
   ]
  },
  {
   "cell_type": "code",
   "execution_count": 19,
   "metadata": {},
   "outputs": [
    {
     "data": {
      "text/plain": [
       "25"
      ]
     },
     "execution_count": 19,
     "metadata": {},
     "output_type": "execute_result"
    }
   ],
   "source": [
    "# removing \"source_type\" and \"source_class\"\n",
    "\n",
    "features = features.drop(columns=['source_type', 'source_class'], axis=1)\n",
    "\n",
    "# checking the remaining number of columns\n",
    "len(features.columns)"
   ]
  },
  {
   "cell_type": "markdown",
   "metadata": {},
   "source": [
    "Now, we will investigate the last  feature set."
   ]
  },
  {
   "cell_type": "code",
   "execution_count": 20,
   "metadata": {
    "scrolled": true
   },
   "outputs": [
    {
     "name": "stdout",
     "output_type": "stream",
     "text": [
      "Feature Name: waterpoint_type\n",
      "Number of Unique Values: 7\n",
      "Unique Values: ['communal standpipe' 'communal standpipe multiple' 'hand pump' 'other'\n",
      " 'improved spring' 'cattle trough' 'dam']\n",
      "\n",
      "\n",
      "Feature Name: waterpoint_type_group\n",
      "Number of Unique Values: 6\n",
      "Unique Values: ['communal standpipe' 'hand pump' 'other' 'improved spring'\n",
      " 'cattle trough' 'dam']\n",
      "\n",
      "\n"
     ]
    }
   ],
   "source": [
    "columns_7 = ['waterpoint_type', 'waterpoint_type_group']\n",
    "\n",
    "check_unique(columns_7)"
   ]
  },
  {
   "cell_type": "markdown",
   "metadata": {},
   "source": [
    "These two features also have similar values except that \"waterpoint_type\" has one extra category called 'communal standpipe multiple\". Since there is already a category called 'communal standpipe\" in both features, we will remove the \"waterpoint_type\" and keep \"waterpoint_type_group\" for our model."
   ]
  },
  {
   "cell_type": "code",
   "execution_count": 21,
   "metadata": {},
   "outputs": [
    {
     "data": {
      "text/plain": [
       "24"
      ]
     },
     "execution_count": 21,
     "metadata": {},
     "output_type": "execute_result"
    }
   ],
   "source": [
    "# removing \"waterpoint_type\"\n",
    "\n",
    "features = features.drop(columns=['waterpoint_type'], axis=1)\n",
    "\n",
    "# checking the remaining number of columns\n",
    "len(features.columns)"
   ]
  },
  {
   "cell_type": "markdown",
   "metadata": {},
   "source": [
    "For our next step, we will look at the features that "
   ]
  },
  {
   "cell_type": "markdown",
   "metadata": {},
   "source": [
    "Next, we will check the unique values and number of unique values in 'installer'."
   ]
  },
  {
   "cell_type": "code",
   "execution_count": 22,
   "metadata": {
    "scrolled": true
   },
   "outputs": [
    {
     "name": "stdout",
     "output_type": "stream",
     "text": [
      "['Roman' 'GRUMETI' 'World vision' ... 'Dina' 'brown' 'SELEPTA']\n",
      "2146\n"
     ]
    }
   ],
   "source": [
    "print(features['installer'].unique())\n",
    "print(len(features['installer'].unique()))"
   ]
  },
  {
   "cell_type": "markdown",
   "metadata": {},
   "source": [
    "This feature have a large number of unique and discrete values that seem to be the names of the companies that installed the water well. I will also remove this feature because it will not be very useful in predicting the status of the water well."
   ]
  },
  {
   "cell_type": "code",
   "execution_count": 23,
   "metadata": {},
   "outputs": [
    {
     "data": {
      "text/plain": [
       "23"
      ]
     },
     "execution_count": 23,
     "metadata": {},
     "output_type": "execute_result"
    }
   ],
   "source": [
    "# removing \"installer\"\n",
    "\n",
    "features = features.drop(columns=['installer'], axis=1)\n",
    "\n",
    "# checking the remaining number of columns\n",
    "len(features.columns)"
   ]
  },
  {
   "cell_type": "markdown",
   "metadata": {},
   "source": [
    "We will also investigate the features that are related to geographical locations. These features are shown below. \n",
    "\n",
    "longitude - GPS coordinate\n",
    "latitude - GPS coordinate\n",
    "basin - Geographic water basin\n",
    "subvillage - Geographic location\n",
    "region - Geographic location\n",
    "region_code - Geographic location (coded)\n",
    "district_code - Geographic location (coded)\n",
    "lga - Geographic location\n",
    "ward - Geographic location\n",
    "\n",
    "Since there are 9 features that have geographical location data, we should try to investigate and reduce the number. Let's take a look at the unique values and the number of unique values each feature has."
   ]
  },
  {
   "cell_type": "code",
   "execution_count": 24,
   "metadata": {
    "scrolled": true
   },
   "outputs": [
    {
     "name": "stdout",
     "output_type": "stream",
     "text": [
      "Feature Name: longitude\n",
      "Number of Unique Values: 57516\n",
      "Unique Values: [34.93809275 34.6987661  37.46066446 ... 34.01708706 35.86131531\n",
      " 38.10404822]\n",
      "\n",
      "\n",
      "Feature Name: latitude\n",
      "Number of Unique Values: 57517\n",
      "Unique Values: [-9.85632177 -2.14746569 -3.82132853 ... -8.75043433 -6.37857327\n",
      " -6.74746425]\n",
      "\n",
      "\n",
      "Feature Name: basin\n",
      "Number of Unique Values: 9\n",
      "Unique Values: ['Lake Nyasa' 'Lake Victoria' 'Pangani' 'Ruvuma / Southern Coast'\n",
      " 'Internal' 'Lake Tanganyika' 'Wami / Ruvu' 'Rufiji' 'Lake Rukwa']\n",
      "\n",
      "\n",
      "Feature Name: subvillage\n",
      "Number of Unique Values: 19288\n",
      "Unique Values: ['Mnyusi B' 'Nyamara' 'Majengo' ... 'Itete B' 'Maore Kati' 'Kikatanyemba']\n",
      "\n",
      "\n",
      "Feature Name: region\n",
      "Number of Unique Values: 21\n",
      "Unique Values: ['Iringa' 'Mara' 'Manyara' 'Mtwara' 'Kagera' 'Tanga' 'Shinyanga' 'Tabora'\n",
      " 'Pwani' 'Ruvuma' 'Kilimanjaro' 'Rukwa' 'Mwanza' 'Kigoma' 'Lindi' 'Dodoma'\n",
      " 'Arusha' 'Mbeya' 'Singida' 'Morogoro' 'Dar es Salaam']\n",
      "\n",
      "\n",
      "Feature Name: region_code\n",
      "Number of Unique Values: 27\n",
      "Unique Values: [11 20 21 90 18  4 17 14 60 10  3 15 19 16 80  1  6  2 12 13  5  7 99 24\n",
      "  9  8 40]\n",
      "\n",
      "\n",
      "Feature Name: district_code\n",
      "Number of Unique Values: 20\n",
      "Unique Values: [ 5  2  4 63  1  8  3  6 43  7 23 33 53 62 60 30 13  0 80 67]\n",
      "\n",
      "\n",
      "Feature Name: lga\n",
      "Number of Unique Values: 125\n",
      "Unique Values: ['Ludewa' 'Serengeti' 'Simanjiro' 'Nanyumbu' 'Karagwe' 'Mkinga'\n",
      " 'Shinyanga Rural' 'Kahama' 'Tabora Urban' 'Mkuranga' 'Namtumbo' 'Maswa'\n",
      " 'Siha' 'Meatu' 'Sumbawanga Rural' 'Njombe' 'Ukerewe' 'Bariadi' 'Same'\n",
      " 'Kigoma Rural' 'Moshi Rural' 'Lindi Rural' 'Rombo' 'Chamwino' 'Bagamoyo'\n",
      " 'Mafia' 'Arusha Rural' 'Kyela' 'Kondoa' 'Kilolo' 'Kibondo' 'Makete'\n",
      " 'Singida Rural' 'Masasi' 'Rungwe' 'Moshi Urban' 'Geita' 'Mbulu'\n",
      " 'Bukoba Rural' 'Muheza' 'Lushoto' 'Meru' 'Iramba' 'Kilombero' 'Mbarali'\n",
      " 'Kasulu' 'Bukoba Urban' 'Korogwe' 'Bukombe' 'Morogoro Rural' 'Kishapu'\n",
      " 'Musoma Rural' 'Sengerema' 'Iringa Rural' 'Muleba' 'Dodoma Urban'\n",
      " 'Ruangwa' 'Hanang' 'Misenyi' 'Missungwi' 'Songea Rural' 'Tanga' 'Tunduru'\n",
      " 'Hai' 'Mwanga' 'Chato' 'Biharamulo' 'Ileje' 'Mpwapwa' 'Mvomero' 'Bunda'\n",
      " 'Kiteto' 'Longido' 'Urambo' 'Mbozi' 'Sikonge' 'Ilala' 'Tarime' 'Temeke'\n",
      " 'Mbeya Rural' 'Magu' 'Manyoni' 'Igunga' 'Kilosa' 'Babati' 'Chunya'\n",
      " 'Mufindi' 'Mtwara Rural' 'Ngara' 'Karatu' 'Mpanda' 'Kibaha'\n",
      " 'Singida Urban' 'Newala' 'Nzega' 'Nkasi' 'Bahi' 'Mbinga' 'Ulanga'\n",
      " 'Sumbawanga Urban' 'Morogoro Urban' 'Tandahimba' 'Kisarawe'\n",
      " 'Mtwara Urban' 'Kilwa' 'Liwale' 'Kongwa' 'Uyui' 'Rufiji' 'Kwimba'\n",
      " 'Monduli' 'Shinyanga Urban' 'Ngorongoro' 'Handeni' 'Rorya' 'Pangani'\n",
      " 'Lindi Urban' 'Nachingwea' 'Kinondoni' 'Kigoma Urban' 'Ilemela' 'Kilindi'\n",
      " 'Arusha Urban' 'Songea Urban' 'Nyamagana']\n",
      "\n",
      "\n",
      "Feature Name: ward\n",
      "Number of Unique Values: 2092\n",
      "Unique Values: ['Mundindi' 'Natta' 'Ngorika' ... 'Chinugulu' 'Nyamtinga' 'Kinungu']\n",
      "\n",
      "\n"
     ]
    }
   ],
   "source": [
    "columns_8 = ['longitude', 'latitude', 'basin', 'subvillage', 'region', 'region_code', 'district_code', 'lga', 'ward']\n",
    "\n",
    "check_unique(columns_8)"
   ]
  },
  {
   "cell_type": "markdown",
   "metadata": {},
   "source": [
    "As per the analysis above, we can see that \"longitude\", \"latitude\", \"subvillage\", \"lga\" and \"ward\" have large nubmers of unique discrete values. These features will not very useful to classify the status of the water wells. Therefore, I will remove them."
   ]
  },
  {
   "cell_type": "code",
   "execution_count": 25,
   "metadata": {},
   "outputs": [
    {
     "data": {
      "text/plain": [
       "18"
      ]
     },
     "execution_count": 25,
     "metadata": {},
     "output_type": "execute_result"
    }
   ],
   "source": [
    "# removing 'longitude', 'latitude', 'subvillage', 'lga', 'ward'\n",
    "\n",
    "features = features.drop(columns=['longitude', 'latitude', 'subvillage', 'lga', 'ward'], axis=1)\n",
    "\n",
    "# checking the remaining number of columns\n",
    "len(features.columns)"
   ]
  },
  {
   "cell_type": "markdown",
   "metadata": {},
   "source": [
    "The remaining geographical features are 'basin', 'region', 'region_code' and 'district_code'. Since the values in 'region_code' are just the numerical codes of the regions, we can remove it and keep the 'region' feature. We will also keep 'basin' and 'district_code' for now."
   ]
  },
  {
   "cell_type": "code",
   "execution_count": 26,
   "metadata": {},
   "outputs": [
    {
     "data": {
      "text/plain": [
       "17"
      ]
     },
     "execution_count": 26,
     "metadata": {},
     "output_type": "execute_result"
    }
   ],
   "source": [
    "# removing 'region_code'\n",
    "\n",
    "features = features.drop(columns=['region_code'], axis=1)\n",
    "\n",
    "# checking the remaining number of columns\n",
    "len(features.columns)"
   ]
  },
  {
   "cell_type": "markdown",
   "metadata": {},
   "source": [
    "# Scrubbing Data - Outliers"
   ]
  },
  {
   "cell_type": "markdown",
   "metadata": {},
   "source": [
    "Next, we will see if our features have outliers by checking the 5-points summaries and boxplots. "
   ]
  },
  {
   "cell_type": "code",
   "execution_count": 27,
   "metadata": {
    "scrolled": true
   },
   "outputs": [
    {
     "data": {
      "text/html": [
       "<div>\n",
       "<style scoped>\n",
       "    .dataframe tbody tr th:only-of-type {\n",
       "        vertical-align: middle;\n",
       "    }\n",
       "\n",
       "    .dataframe tbody tr th {\n",
       "        vertical-align: top;\n",
       "    }\n",
       "\n",
       "    .dataframe thead th {\n",
       "        text-align: right;\n",
       "    }\n",
       "</style>\n",
       "<table border=\"1\" class=\"dataframe\">\n",
       "  <thead>\n",
       "    <tr style=\"text-align: right;\">\n",
       "      <th></th>\n",
       "      <th>amount_tsh</th>\n",
       "      <th>gps_height</th>\n",
       "      <th>num_private</th>\n",
       "      <th>district_code</th>\n",
       "      <th>population</th>\n",
       "      <th>construction_year</th>\n",
       "    </tr>\n",
       "  </thead>\n",
       "  <tbody>\n",
       "    <tr>\n",
       "      <th>count</th>\n",
       "      <td>59400.000000</td>\n",
       "      <td>59400.000000</td>\n",
       "      <td>59400.000000</td>\n",
       "      <td>59400.000000</td>\n",
       "      <td>59400.000000</td>\n",
       "      <td>59400.000000</td>\n",
       "    </tr>\n",
       "    <tr>\n",
       "      <th>mean</th>\n",
       "      <td>317.650385</td>\n",
       "      <td>668.297239</td>\n",
       "      <td>0.474141</td>\n",
       "      <td>5.629747</td>\n",
       "      <td>179.909983</td>\n",
       "      <td>1300.652475</td>\n",
       "    </tr>\n",
       "    <tr>\n",
       "      <th>std</th>\n",
       "      <td>2997.574558</td>\n",
       "      <td>693.116350</td>\n",
       "      <td>12.236230</td>\n",
       "      <td>9.633649</td>\n",
       "      <td>471.482176</td>\n",
       "      <td>951.620547</td>\n",
       "    </tr>\n",
       "    <tr>\n",
       "      <th>min</th>\n",
       "      <td>0.000000</td>\n",
       "      <td>-90.000000</td>\n",
       "      <td>0.000000</td>\n",
       "      <td>0.000000</td>\n",
       "      <td>0.000000</td>\n",
       "      <td>0.000000</td>\n",
       "    </tr>\n",
       "    <tr>\n",
       "      <th>25%</th>\n",
       "      <td>0.000000</td>\n",
       "      <td>0.000000</td>\n",
       "      <td>0.000000</td>\n",
       "      <td>2.000000</td>\n",
       "      <td>0.000000</td>\n",
       "      <td>0.000000</td>\n",
       "    </tr>\n",
       "    <tr>\n",
       "      <th>50%</th>\n",
       "      <td>0.000000</td>\n",
       "      <td>369.000000</td>\n",
       "      <td>0.000000</td>\n",
       "      <td>3.000000</td>\n",
       "      <td>25.000000</td>\n",
       "      <td>1986.000000</td>\n",
       "    </tr>\n",
       "    <tr>\n",
       "      <th>75%</th>\n",
       "      <td>20.000000</td>\n",
       "      <td>1319.250000</td>\n",
       "      <td>0.000000</td>\n",
       "      <td>5.000000</td>\n",
       "      <td>215.000000</td>\n",
       "      <td>2004.000000</td>\n",
       "    </tr>\n",
       "    <tr>\n",
       "      <th>max</th>\n",
       "      <td>350000.000000</td>\n",
       "      <td>2770.000000</td>\n",
       "      <td>1776.000000</td>\n",
       "      <td>80.000000</td>\n",
       "      <td>30500.000000</td>\n",
       "      <td>2013.000000</td>\n",
       "    </tr>\n",
       "  </tbody>\n",
       "</table>\n",
       "</div>"
      ],
      "text/plain": [
       "          amount_tsh    gps_height   num_private  district_code    population  \\\n",
       "count   59400.000000  59400.000000  59400.000000   59400.000000  59400.000000   \n",
       "mean      317.650385    668.297239      0.474141       5.629747    179.909983   \n",
       "std      2997.574558    693.116350     12.236230       9.633649    471.482176   \n",
       "min         0.000000    -90.000000      0.000000       0.000000      0.000000   \n",
       "25%         0.000000      0.000000      0.000000       2.000000      0.000000   \n",
       "50%         0.000000    369.000000      0.000000       3.000000     25.000000   \n",
       "75%        20.000000   1319.250000      0.000000       5.000000    215.000000   \n",
       "max    350000.000000   2770.000000   1776.000000      80.000000  30500.000000   \n",
       "\n",
       "       construction_year  \n",
       "count       59400.000000  \n",
       "mean         1300.652475  \n",
       "std           951.620547  \n",
       "min             0.000000  \n",
       "25%             0.000000  \n",
       "50%          1986.000000  \n",
       "75%          2004.000000  \n",
       "max          2013.000000  "
      ]
     },
     "execution_count": 27,
     "metadata": {},
     "output_type": "execute_result"
    }
   ],
   "source": [
    "features.describe()"
   ]
  },
  {
   "cell_type": "code",
   "execution_count": 28,
   "metadata": {},
   "outputs": [
    {
     "data": {
      "image/png": "[encoded data removed]",
      "text/plain": [
       "<Figure size 1440x720 with 1 Axes>"
      ]
     },
     "metadata": {
      "needs_background": "light"
     },
     "output_type": "display_data"
    }
   ],
   "source": [
    "# Listing features with continuous data\n",
    "\n",
    "cont_col = ['amount_tsh', 'gps_height', 'num_private', 'population']\n",
    "\n",
    "# Creating boxplots for features with continuous data\n",
    "plt.figure(figsize=(20, 10))\n",
    "plt.boxplot([features[col] for col in cont_col])\n",
    "plt.title(\"Box plot of all columns in dataset\")\n",
    "plt.xticks(range(1,5), cont_col)\n",
    "plt.show()"
   ]
  },
  {
   "cell_type": "markdown",
   "metadata": {},
   "source": [
    "As per the 5-points summaries and boxplots, the features \"amount_tsh\", \"num_private\" and \"population\" have positive outliers. Since these outliers can influence the next data-preprocessing steps and the model, I will replace them with the lower and upper range values of the features."
   ]
  },
  {
   "cell_type": "code",
   "execution_count": 29,
   "metadata": {},
   "outputs": [],
   "source": [
    "# Calculating the lower and upper range values\n",
    "\n",
    "Q1 = features.quantile(0.25)\n",
    "Q3 = features.quantile(0.75)\n",
    "IQR = Q3 - Q1\n",
    "lower_range = Q1-(1.5*IQR)\n",
    "upper_range = Q3+(1.5*IQR)"
   ]
  },
  {
   "cell_type": "code",
   "execution_count": 30,
   "metadata": {},
   "outputs": [
    {
     "data": {
      "text/html": [
       "<div>\n",
       "<style scoped>\n",
       "    .dataframe tbody tr th:only-of-type {\n",
       "        vertical-align: middle;\n",
       "    }\n",
       "\n",
       "    .dataframe tbody tr th {\n",
       "        vertical-align: top;\n",
       "    }\n",
       "\n",
       "    .dataframe thead th {\n",
       "        text-align: right;\n",
       "    }\n",
       "</style>\n",
       "<table border=\"1\" class=\"dataframe\">\n",
       "  <thead>\n",
       "    <tr style=\"text-align: right;\">\n",
       "      <th></th>\n",
       "      <th>amount_tsh</th>\n",
       "      <th>gps_height</th>\n",
       "      <th>num_private</th>\n",
       "      <th>district_code</th>\n",
       "      <th>population</th>\n",
       "      <th>construction_year</th>\n",
       "    </tr>\n",
       "  </thead>\n",
       "  <tbody>\n",
       "    <tr>\n",
       "      <th>count</th>\n",
       "      <td>59400.000000</td>\n",
       "      <td>59400.000000</td>\n",
       "      <td>59400.0</td>\n",
       "      <td>59400.000000</td>\n",
       "      <td>59400.000000</td>\n",
       "      <td>59400.000000</td>\n",
       "    </tr>\n",
       "    <tr>\n",
       "      <th>mean</th>\n",
       "      <td>12.748566</td>\n",
       "      <td>668.297239</td>\n",
       "      <td>0.0</td>\n",
       "      <td>5.629747</td>\n",
       "      <td>128.424537</td>\n",
       "      <td>1300.652475</td>\n",
       "    </tr>\n",
       "    <tr>\n",
       "      <th>std</th>\n",
       "      <td>20.976109</td>\n",
       "      <td>693.116350</td>\n",
       "      <td>0.0</td>\n",
       "      <td>9.633649</td>\n",
       "      <td>175.514950</td>\n",
       "      <td>951.620547</td>\n",
       "    </tr>\n",
       "    <tr>\n",
       "      <th>min</th>\n",
       "      <td>0.000000</td>\n",
       "      <td>-90.000000</td>\n",
       "      <td>0.0</td>\n",
       "      <td>0.000000</td>\n",
       "      <td>0.000000</td>\n",
       "      <td>0.000000</td>\n",
       "    </tr>\n",
       "    <tr>\n",
       "      <th>25%</th>\n",
       "      <td>0.000000</td>\n",
       "      <td>0.000000</td>\n",
       "      <td>0.0</td>\n",
       "      <td>2.000000</td>\n",
       "      <td>0.000000</td>\n",
       "      <td>0.000000</td>\n",
       "    </tr>\n",
       "    <tr>\n",
       "      <th>50%</th>\n",
       "      <td>0.000000</td>\n",
       "      <td>369.000000</td>\n",
       "      <td>0.0</td>\n",
       "      <td>3.000000</td>\n",
       "      <td>25.000000</td>\n",
       "      <td>1986.000000</td>\n",
       "    </tr>\n",
       "    <tr>\n",
       "      <th>75%</th>\n",
       "      <td>20.000000</td>\n",
       "      <td>1319.250000</td>\n",
       "      <td>0.0</td>\n",
       "      <td>5.000000</td>\n",
       "      <td>215.000000</td>\n",
       "      <td>2004.000000</td>\n",
       "    </tr>\n",
       "    <tr>\n",
       "      <th>max</th>\n",
       "      <td>50.000000</td>\n",
       "      <td>2770.000000</td>\n",
       "      <td>0.0</td>\n",
       "      <td>80.000000</td>\n",
       "      <td>537.500000</td>\n",
       "      <td>2013.000000</td>\n",
       "    </tr>\n",
       "  </tbody>\n",
       "</table>\n",
       "</div>"
      ],
      "text/plain": [
       "         amount_tsh    gps_height  num_private  district_code    population  \\\n",
       "count  59400.000000  59400.000000      59400.0   59400.000000  59400.000000   \n",
       "mean      12.748566    668.297239          0.0       5.629747    128.424537   \n",
       "std       20.976109    693.116350          0.0       9.633649    175.514950   \n",
       "min        0.000000    -90.000000          0.0       0.000000      0.000000   \n",
       "25%        0.000000      0.000000          0.0       2.000000      0.000000   \n",
       "50%        0.000000    369.000000          0.0       3.000000     25.000000   \n",
       "75%       20.000000   1319.250000          0.0       5.000000    215.000000   \n",
       "max       50.000000   2770.000000          0.0      80.000000    537.500000   \n",
       "\n",
       "       construction_year  \n",
       "count       59400.000000  \n",
       "mean         1300.652475  \n",
       "std           951.620547  \n",
       "min             0.000000  \n",
       "25%             0.000000  \n",
       "50%          1986.000000  \n",
       "75%          2004.000000  \n",
       "max          2013.000000  "
      ]
     },
     "execution_count": 30,
     "metadata": {},
     "output_type": "execute_result"
    }
   ],
   "source": [
    "# Replacing the outliers with lower and upper range values\n",
    "\n",
    "for col in cont_col:\n",
    "    features[col] = features[col].map(lambda x: upper_range[col] if x > upper_range[col] else x)\n",
    "    features[col] = features[col].map(lambda x: lower_range[col] if x < lower_range[col] else x)\n",
    "\n",
    "# Checking if the outliers have been dropped\n",
    "# Notice 'amount_tsh' no longer has 350000\n",
    "\n",
    "features.describe()"
   ]
  },
  {
   "cell_type": "code",
   "execution_count": 31,
   "metadata": {},
   "outputs": [
    {
     "data": {
      "image/png": "[encoded data removed]",
      "text/plain": [
       "<Figure size 1440x720 with 1 Axes>"
      ]
     },
     "metadata": {
      "needs_background": "light"
     },
     "output_type": "display_data"
    }
   ],
   "source": [
    "# Checking the boxplots again\n",
    "plt.figure(figsize=(20, 10))\n",
    "plt.boxplot([features[col] for col in cont_col])\n",
    "plt.title(\"Box plot of all columns in dataset\")\n",
    "plt.xticks(range(1,5), cont_col)\n",
    "plt.show()"
   ]
  },
  {
   "cell_type": "markdown",
   "metadata": {},
   "source": [
    "It looks like all the outliers have been replaced."
   ]
  },
  {
   "cell_type": "markdown",
   "metadata": {},
   "source": [
    "# Scrubbing Data - Missing and Filler Values"
   ]
  },
  {
   "cell_type": "markdown",
   "metadata": {},
   "source": [
    "As the next part of data scrubbing, we will check if our remaining features have missing and filler values. \n",
    "\n",
    "Let's take a look at the missing values first."
   ]
  },
  {
   "cell_type": "code",
   "execution_count": 32,
   "metadata": {
    "scrolled": false
   },
   "outputs": [
    {
     "data": {
      "text/plain": [
       "amount_tsh                  0\n",
       "gps_height                  0\n",
       "num_private                 0\n",
       "basin                       0\n",
       "region                      0\n",
       "district_code               0\n",
       "population                  0\n",
       "public_meeting           3334\n",
       "permit                   3056\n",
       "construction_year           0\n",
       "extraction_type_class       0\n",
       "management                  0\n",
       "payment_type                0\n",
       "water_quality               0\n",
       "quantity                    0\n",
       "source                      0\n",
       "waterpoint_type_group       0\n",
       "dtype: int64"
      ]
     },
     "execution_count": 32,
     "metadata": {},
     "output_type": "execute_result"
    }
   ],
   "source": [
    "features.isna().sum()"
   ]
  },
  {
   "cell_type": "markdown",
   "metadata": {},
   "source": [
    "Two features, \"public_meeting\" and \"permit\", have missing values. Next, we will look at the top most populated values in each feature and see if we can find any filler values."
   ]
  },
  {
   "cell_type": "code",
   "execution_count": 33,
   "metadata": {
    "scrolled": true
   },
   "outputs": [
    {
     "name": "stdout",
     "output_type": "stream",
     "text": [
      "amount_tsh \n",
      " 0.0     0.700993\n",
      "50.0    0.229512\n",
      "20.0    0.024630\n",
      "10.0    0.013569\n",
      "30.0    0.012508\n",
      "Name: amount_tsh, dtype: float64 \n",
      "\n",
      "\n",
      "gps_height \n",
      "  0     0.344074\n",
      "-15    0.001010\n",
      "-16    0.000926\n",
      "-13    0.000926\n",
      "-20    0.000875\n",
      "Name: gps_height, dtype: float64 \n",
      "\n",
      "\n",
      "num_private \n",
      " 0.0    1.0\n",
      "Name: num_private, dtype: float64 \n",
      "\n",
      "\n",
      "basin \n",
      " Lake Victoria      0.172525\n",
      "Pangani            0.150505\n",
      "Rufiji             0.134276\n",
      "Internal           0.131061\n",
      "Lake Tanganyika    0.108283\n",
      "Name: basin, dtype: float64 \n",
      "\n",
      "\n",
      "region \n",
      " Iringa         0.089125\n",
      "Shinyanga      0.083872\n",
      "Mbeya          0.078098\n",
      "Kilimanjaro    0.073721\n",
      "Morogoro       0.067441\n",
      "Name: region, dtype: float64 \n",
      "\n",
      "\n",
      "district_code \n",
      " 1    0.205438\n",
      "2    0.188098\n",
      "3    0.168316\n",
      "4    0.151498\n",
      "5    0.073333\n",
      "Name: district_code, dtype: float64 \n",
      "\n",
      "\n",
      "population \n",
      " 0.0      0.359949\n",
      "1.0      0.118266\n",
      "537.5    0.073788\n",
      "200.0    0.032660\n",
      "150.0    0.031852\n",
      "Name: population, dtype: float64 \n",
      "\n",
      "\n",
      "public_meeting \n",
      " True     0.909838\n",
      "False    0.090162\n",
      "Name: public_meeting, dtype: float64 \n",
      "\n",
      "\n",
      "permit \n",
      " True     0.68955\n",
      "False    0.31045\n",
      "Name: permit, dtype: float64 \n",
      "\n",
      "\n",
      "construction_year \n",
      " 0       0.348636\n",
      "2010    0.044529\n",
      "2008    0.043990\n",
      "2009    0.042643\n",
      "2000    0.035202\n",
      "Name: construction_year, dtype: float64 \n",
      "\n",
      "\n",
      "extraction_type_class \n",
      " gravity        0.450842\n",
      "handpump       0.277037\n",
      "other          0.108249\n",
      "submersible    0.104024\n",
      "motorpump      0.050286\n",
      "Name: extraction_type_class, dtype: float64 \n",
      "\n",
      "\n",
      "management \n",
      " vwc                 0.681936\n",
      "wug                 0.109680\n",
      "water board         0.049377\n",
      "wua                 0.042677\n",
      "private operator    0.033182\n",
      "Name: management, dtype: float64 \n",
      "\n",
      "\n",
      "payment_type \n",
      " never pay     0.426734\n",
      "per bucket    0.151263\n",
      "monthly       0.139731\n",
      "unknown       0.137323\n",
      "on failure    0.065892\n",
      "Name: payment_type, dtype: float64 \n",
      "\n",
      "\n",
      "water_quality \n",
      " soft        0.855522\n",
      "salty       0.081751\n",
      "unknown     0.031582\n",
      "milky       0.013535\n",
      "coloured    0.008249\n",
      "Name: water_quality, dtype: float64 \n",
      "\n",
      "\n",
      "quantity \n",
      " enough          0.558687\n",
      "insufficient    0.254697\n",
      "dry             0.105152\n",
      "seasonal        0.068182\n",
      "unknown         0.013283\n",
      "Name: quantity, dtype: float64 \n",
      "\n",
      "\n",
      "source \n",
      " spring                  0.286549\n",
      "shallow well            0.283232\n",
      "machine dbh             0.186448\n",
      "river                   0.161818\n",
      "rainwater harvesting    0.038636\n",
      "Name: source, dtype: float64 \n",
      "\n",
      "\n",
      "waterpoint_type_group \n",
      " communal standpipe    0.582912\n",
      "hand pump             0.294411\n",
      "other                 0.107407\n",
      "improved spring       0.013199\n",
      "cattle trough         0.001953\n",
      "Name: waterpoint_type_group, dtype: float64 \n",
      "\n",
      "\n"
     ]
    }
   ],
   "source": [
    "for col in features.columns:\n",
    "    print(col, '\\n', features[col].value_counts(normalize=True).head(), '\\n\\n' )"
   ]
  },
  {
   "cell_type": "markdown",
   "metadata": {},
   "source": [
    "The filler values we can find in the above analysis are -\n",
    "<br>\n",
    "- population: 0\n",
    "- construction_year: 0\n",
    "- payment_type: unknown\n",
    "- water_quality: unknown\n",
    "- quantity: unknown\n",
    "\n",
    "Since the population of missing and filler values are quite large, I will not remove their respective rows since we will suffer from the loss of data that might be value for our model. Also, I will not replace these values with their respective median, mean or mode values since it will reduce the variability of our features. Instead, I will use the KNN Imputer method from scikit-learn. This method replaces the missing values with the mean value from n_neighbors nearest neighbors found in the data.\n",
    "\n",
    "First, we need to replace the filler values in the above five columns with np.nan so that the KNN Imputer will correctly recognize them."
   ]
  },
  {
   "cell_type": "code",
   "execution_count": 34,
   "metadata": {},
   "outputs": [
    {
     "name": "stdout",
     "output_type": "stream",
     "text": [
      "Missing values in population : 21381\n",
      "Missing values in construction_year : 20709\n",
      "Missing values in payment_type : 8157\n",
      "Missing values in water_quality : 1876\n",
      "Missing values in quantity : 789\n"
     ]
    }
   ],
   "source": [
    "# Making a list of features with filler values\n",
    "nan_col = ['population', 'construction_year', 'payment_type', 'water_quality', 'quantity']\n",
    "\n",
    "# Making a list of filler values\n",
    "nan_val = [0, 0, 'unknown', 'unknown', 'unknown']\n",
    "\n",
    "# Using the for loop to replace the filler values with np.nan and printing out the resulting number of missing values\n",
    "for i in range(len(nan_col)):\n",
    "    features[nan_col[i]] = features[nan_col[i]].map(lambda x: np.nan if x == nan_val[i] else x)\n",
    "    print(\"Missing values in\", nan_col[i], \":\", features[nan_col[i]].isna().sum())"
   ]
  },
  {
   "cell_type": "markdown",
   "metadata": {},
   "source": [
    "Next, we will create dummies for our categorical features. Since most of the categorical features have text values, the KNN Imputer will generate errors. We will use pandas' get_dummies function for this step."
   ]
  },
  {
   "cell_type": "code",
   "execution_count": 35,
   "metadata": {},
   "outputs": [],
   "source": [
    "# Listing categorical features\n",
    "cat_features = features[['basin', 'region', 'district_code', 'public_meeting', 'permit', 'construction_year', 'extraction_type_class',\n",
    "                         'management', 'payment_type', 'water_quality', 'quantity', 'source', 'waterpoint_type_group']]"
   ]
  },
  {
   "cell_type": "code",
   "execution_count": 36,
   "metadata": {},
   "outputs": [
    {
     "data": {
      "text/html": [
       "<div>\n",
       "<style scoped>\n",
       "    .dataframe tbody tr th:only-of-type {\n",
       "        vertical-align: middle;\n",
       "    }\n",
       "\n",
       "    .dataframe tbody tr th {\n",
       "        vertical-align: top;\n",
       "    }\n",
       "\n",
       "    .dataframe thead th {\n",
       "        text-align: right;\n",
       "    }\n",
       "</style>\n",
       "<table border=\"1\" class=\"dataframe\">\n",
       "  <thead>\n",
       "    <tr style=\"text-align: right;\">\n",
       "      <th></th>\n",
       "      <th>district_code</th>\n",
       "      <th>construction_year</th>\n",
       "      <th>basin_Lake Nyasa</th>\n",
       "      <th>basin_Lake Rukwa</th>\n",
       "      <th>basin_Lake Tanganyika</th>\n",
       "      <th>basin_Lake Victoria</th>\n",
       "      <th>basin_Pangani</th>\n",
       "      <th>basin_Rufiji</th>\n",
       "      <th>basin_Ruvuma / Southern Coast</th>\n",
       "      <th>basin_Wami / Ruvu</th>\n",
       "      <th>...</th>\n",
       "      <th>source_rainwater harvesting</th>\n",
       "      <th>source_river</th>\n",
       "      <th>source_shallow well</th>\n",
       "      <th>source_spring</th>\n",
       "      <th>source_unknown</th>\n",
       "      <th>waterpoint_type_group_communal standpipe</th>\n",
       "      <th>waterpoint_type_group_dam</th>\n",
       "      <th>waterpoint_type_group_hand pump</th>\n",
       "      <th>waterpoint_type_group_improved spring</th>\n",
       "      <th>waterpoint_type_group_other</th>\n",
       "    </tr>\n",
       "    <tr>\n",
       "      <th>id</th>\n",
       "      <th></th>\n",
       "      <th></th>\n",
       "      <th></th>\n",
       "      <th></th>\n",
       "      <th></th>\n",
       "      <th></th>\n",
       "      <th></th>\n",
       "      <th></th>\n",
       "      <th></th>\n",
       "      <th></th>\n",
       "      <th></th>\n",
       "      <th></th>\n",
       "      <th></th>\n",
       "      <th></th>\n",
       "      <th></th>\n",
       "      <th></th>\n",
       "      <th></th>\n",
       "      <th></th>\n",
       "      <th></th>\n",
       "      <th></th>\n",
       "      <th></th>\n",
       "    </tr>\n",
       "  </thead>\n",
       "  <tbody>\n",
       "    <tr>\n",
       "      <th>69572</th>\n",
       "      <td>5</td>\n",
       "      <td>1999.0</td>\n",
       "      <td>1</td>\n",
       "      <td>0</td>\n",
       "      <td>0</td>\n",
       "      <td>0</td>\n",
       "      <td>0</td>\n",
       "      <td>0</td>\n",
       "      <td>0</td>\n",
       "      <td>0</td>\n",
       "      <td>...</td>\n",
       "      <td>0</td>\n",
       "      <td>0</td>\n",
       "      <td>0</td>\n",
       "      <td>1</td>\n",
       "      <td>0</td>\n",
       "      <td>1</td>\n",
       "      <td>0</td>\n",
       "      <td>0</td>\n",
       "      <td>0</td>\n",
       "      <td>0</td>\n",
       "    </tr>\n",
       "    <tr>\n",
       "      <th>8776</th>\n",
       "      <td>2</td>\n",
       "      <td>2010.0</td>\n",
       "      <td>0</td>\n",
       "      <td>0</td>\n",
       "      <td>0</td>\n",
       "      <td>1</td>\n",
       "      <td>0</td>\n",
       "      <td>0</td>\n",
       "      <td>0</td>\n",
       "      <td>0</td>\n",
       "      <td>...</td>\n",
       "      <td>1</td>\n",
       "      <td>0</td>\n",
       "      <td>0</td>\n",
       "      <td>0</td>\n",
       "      <td>0</td>\n",
       "      <td>1</td>\n",
       "      <td>0</td>\n",
       "      <td>0</td>\n",
       "      <td>0</td>\n",
       "      <td>0</td>\n",
       "    </tr>\n",
       "    <tr>\n",
       "      <th>34310</th>\n",
       "      <td>4</td>\n",
       "      <td>2009.0</td>\n",
       "      <td>0</td>\n",
       "      <td>0</td>\n",
       "      <td>0</td>\n",
       "      <td>0</td>\n",
       "      <td>1</td>\n",
       "      <td>0</td>\n",
       "      <td>0</td>\n",
       "      <td>0</td>\n",
       "      <td>...</td>\n",
       "      <td>0</td>\n",
       "      <td>0</td>\n",
       "      <td>0</td>\n",
       "      <td>0</td>\n",
       "      <td>0</td>\n",
       "      <td>1</td>\n",
       "      <td>0</td>\n",
       "      <td>0</td>\n",
       "      <td>0</td>\n",
       "      <td>0</td>\n",
       "    </tr>\n",
       "    <tr>\n",
       "      <th>67743</th>\n",
       "      <td>63</td>\n",
       "      <td>1986.0</td>\n",
       "      <td>0</td>\n",
       "      <td>0</td>\n",
       "      <td>0</td>\n",
       "      <td>0</td>\n",
       "      <td>0</td>\n",
       "      <td>0</td>\n",
       "      <td>1</td>\n",
       "      <td>0</td>\n",
       "      <td>...</td>\n",
       "      <td>0</td>\n",
       "      <td>0</td>\n",
       "      <td>0</td>\n",
       "      <td>0</td>\n",
       "      <td>0</td>\n",
       "      <td>1</td>\n",
       "      <td>0</td>\n",
       "      <td>0</td>\n",
       "      <td>0</td>\n",
       "      <td>0</td>\n",
       "    </tr>\n",
       "    <tr>\n",
       "      <th>19728</th>\n",
       "      <td>1</td>\n",
       "      <td>NaN</td>\n",
       "      <td>0</td>\n",
       "      <td>0</td>\n",
       "      <td>0</td>\n",
       "      <td>1</td>\n",
       "      <td>0</td>\n",
       "      <td>0</td>\n",
       "      <td>0</td>\n",
       "      <td>0</td>\n",
       "      <td>...</td>\n",
       "      <td>1</td>\n",
       "      <td>0</td>\n",
       "      <td>0</td>\n",
       "      <td>0</td>\n",
       "      <td>0</td>\n",
       "      <td>1</td>\n",
       "      <td>0</td>\n",
       "      <td>0</td>\n",
       "      <td>0</td>\n",
       "      <td>0</td>\n",
       "    </tr>\n",
       "  </tbody>\n",
       "</table>\n",
       "<p>5 rows × 77 columns</p>\n",
       "</div>"
      ],
      "text/plain": [
       "       district_code  construction_year  basin_Lake Nyasa  basin_Lake Rukwa  \\\n",
       "id                                                                            \n",
       "69572              5             1999.0                 1                 0   \n",
       "8776               2             2010.0                 0                 0   \n",
       "34310              4             2009.0                 0                 0   \n",
       "67743             63             1986.0                 0                 0   \n",
       "19728              1                NaN                 0                 0   \n",
       "\n",
       "       basin_Lake Tanganyika  basin_Lake Victoria  basin_Pangani  \\\n",
       "id                                                                 \n",
       "69572                      0                    0              0   \n",
       "8776                       0                    1              0   \n",
       "34310                      0                    0              1   \n",
       "67743                      0                    0              0   \n",
       "19728                      0                    1              0   \n",
       "\n",
       "       basin_Rufiji  basin_Ruvuma / Southern Coast  basin_Wami / Ruvu  ...  \\\n",
       "id                                                                     ...   \n",
       "69572             0                              0                  0  ...   \n",
       "8776              0                              0                  0  ...   \n",
       "34310             0                              0                  0  ...   \n",
       "67743             0                              1                  0  ...   \n",
       "19728             0                              0                  0  ...   \n",
       "\n",
       "       source_rainwater harvesting  source_river  source_shallow well  \\\n",
       "id                                                                      \n",
       "69572                            0             0                    0   \n",
       "8776                             1             0                    0   \n",
       "34310                            0             0                    0   \n",
       "67743                            0             0                    0   \n",
       "19728                            1             0                    0   \n",
       "\n",
       "       source_spring  source_unknown  \\\n",
       "id                                     \n",
       "69572              1               0   \n",
       "8776               0               0   \n",
       "34310              0               0   \n",
       "67743              0               0   \n",
       "19728              0               0   \n",
       "\n",
       "       waterpoint_type_group_communal standpipe  waterpoint_type_group_dam  \\\n",
       "id                                                                           \n",
       "69572                                         1                          0   \n",
       "8776                                          1                          0   \n",
       "34310                                         1                          0   \n",
       "67743                                         1                          0   \n",
       "19728                                         1                          0   \n",
       "\n",
       "       waterpoint_type_group_hand pump  waterpoint_type_group_improved spring  \\\n",
       "id                                                                              \n",
       "69572                                0                                      0   \n",
       "8776                                 0                                      0   \n",
       "34310                                0                                      0   \n",
       "67743                                0                                      0   \n",
       "19728                                0                                      0   \n",
       "\n",
       "       waterpoint_type_group_other  \n",
       "id                                  \n",
       "69572                            0  \n",
       "8776                             0  \n",
       "34310                            0  \n",
       "67743                            0  \n",
       "19728                            0  \n",
       "\n",
       "[5 rows x 77 columns]"
      ]
     },
     "execution_count": 36,
     "metadata": {},
     "output_type": "execute_result"
    }
   ],
   "source": [
    "# Creating dummies and dropping one variable to avoid dummy variable trap\n",
    "cat_dummies = pd.get_dummies(cat_features, drop_first=True)\n",
    "cat_dummies.head()"
   ]
  },
  {
   "cell_type": "code",
   "execution_count": 37,
   "metadata": {},
   "outputs": [],
   "source": [
    "# Removing the original categorical features from the dataframe\n",
    "features = features.drop(['basin', 'region', 'district_code', 'public_meeting', 'permit', 'construction_year',\n",
    "                          'extraction_type_class', 'management', 'payment_type', 'water_quality', 'quantity',\n",
    "                          'source', 'waterpoint_type_group'], axis=1)"
   ]
  },
  {
   "cell_type": "code",
   "execution_count": 38,
   "metadata": {},
   "outputs": [],
   "source": [
    "# Adding the dummy categories to the dataframe\n",
    "features = pd.concat([features, cat_dummies], axis=1)"
   ]
  },
  {
   "cell_type": "markdown",
   "metadata": {},
   "source": [
    "Now that we have the dummy categories, we can split our data into train and test datasets by using scikit-learn's train_test_split function. \n",
    "\n",
    "Spliting the data into train and test datasets at this point is to prevent data leak from the test datasets to next data-scrubing and model creation steps."
   ]
  },
  {
   "cell_type": "code",
   "execution_count": 39,
   "metadata": {},
   "outputs": [],
   "source": [
    "# Creating train and test datasets with 0.75/0.25 split\n",
    "from sklearn.model_selection import train_test_split\n",
    "\n",
    "X_train, X_test, y_train, y_test = train_test_split(features, target, test_size=0.25, random_state=42)"
   ]
  },
  {
   "cell_type": "markdown",
   "metadata": {},
   "source": [
    "Since we are using KNN Imputer, which is a distance based imputation method, we first need to normalize our data. If we skip this step, the features with larger magnitude values will have more weight on the imputation.\n",
    "\n",
    "We will use scikit-learn's MinMaxScaler to normalize our data."
   ]
  },
  {
   "cell_type": "code",
   "execution_count": 40,
   "metadata": {},
   "outputs": [],
   "source": [
    "from sklearn.preprocessing import MinMaxScaler\n",
    "\n",
    "scaler = MinMaxScaler()\n",
    "\n",
    "X_train = pd.DataFrame(scaler.fit_transform(X_train), columns = X_train.columns)\n",
    "X_test = pd.DataFrame(scaler.fit_transform(X_test), columns = X_test.columns)"
   ]
  },
  {
   "cell_type": "code",
   "execution_count": 41,
   "metadata": {},
   "outputs": [
    {
     "data": {
      "text/html": [
       "<div>\n",
       "<style scoped>\n",
       "    .dataframe tbody tr th:only-of-type {\n",
       "        vertical-align: middle;\n",
       "    }\n",
       "\n",
       "    .dataframe tbody tr th {\n",
       "        vertical-align: top;\n",
       "    }\n",
       "\n",
       "    .dataframe thead th {\n",
       "        text-align: right;\n",
       "    }\n",
       "</style>\n",
       "<table border=\"1\" class=\"dataframe\">\n",
       "  <thead>\n",
       "    <tr style=\"text-align: right;\">\n",
       "      <th></th>\n",
       "      <th>amount_tsh</th>\n",
       "      <th>gps_height</th>\n",
       "      <th>num_private</th>\n",
       "      <th>population</th>\n",
       "      <th>district_code</th>\n",
       "      <th>construction_year</th>\n",
       "      <th>basin_Lake Nyasa</th>\n",
       "      <th>basin_Lake Rukwa</th>\n",
       "      <th>basin_Lake Tanganyika</th>\n",
       "      <th>basin_Lake Victoria</th>\n",
       "      <th>...</th>\n",
       "      <th>source_rainwater harvesting</th>\n",
       "      <th>source_river</th>\n",
       "      <th>source_shallow well</th>\n",
       "      <th>source_spring</th>\n",
       "      <th>source_unknown</th>\n",
       "      <th>waterpoint_type_group_communal standpipe</th>\n",
       "      <th>waterpoint_type_group_dam</th>\n",
       "      <th>waterpoint_type_group_hand pump</th>\n",
       "      <th>waterpoint_type_group_improved spring</th>\n",
       "      <th>waterpoint_type_group_other</th>\n",
       "    </tr>\n",
       "  </thead>\n",
       "  <tbody>\n",
       "    <tr>\n",
       "      <th>count</th>\n",
       "      <td>44550.000000</td>\n",
       "      <td>44550.000000</td>\n",
       "      <td>44550.0</td>\n",
       "      <td>28578.000000</td>\n",
       "      <td>44550.000000</td>\n",
       "      <td>29087.000000</td>\n",
       "      <td>44550.000000</td>\n",
       "      <td>44550.000000</td>\n",
       "      <td>44550.000000</td>\n",
       "      <td>44550.000000</td>\n",
       "      <td>...</td>\n",
       "      <td>44550.000000</td>\n",
       "      <td>44550.000000</td>\n",
       "      <td>44550.000000</td>\n",
       "      <td>44550.000000</td>\n",
       "      <td>44550.000000</td>\n",
       "      <td>44550.000000</td>\n",
       "      <td>44550.000000</td>\n",
       "      <td>44550.000000</td>\n",
       "      <td>44550.000000</td>\n",
       "      <td>44550.000000</td>\n",
       "    </tr>\n",
       "    <tr>\n",
       "      <th>mean</th>\n",
       "      <td>0.254110</td>\n",
       "      <td>0.258068</td>\n",
       "      <td>0.0</td>\n",
       "      <td>0.370836</td>\n",
       "      <td>0.070641</td>\n",
       "      <td>0.694966</td>\n",
       "      <td>0.083973</td>\n",
       "      <td>0.041908</td>\n",
       "      <td>0.108822</td>\n",
       "      <td>0.172009</td>\n",
       "      <td>...</td>\n",
       "      <td>0.038182</td>\n",
       "      <td>0.162088</td>\n",
       "      <td>0.284646</td>\n",
       "      <td>0.284759</td>\n",
       "      <td>0.001167</td>\n",
       "      <td>0.581010</td>\n",
       "      <td>0.000067</td>\n",
       "      <td>0.296117</td>\n",
       "      <td>0.013423</td>\n",
       "      <td>0.107407</td>\n",
       "    </tr>\n",
       "    <tr>\n",
       "      <th>std</th>\n",
       "      <td>0.419046</td>\n",
       "      <td>0.244629</td>\n",
       "      <td>0.0</td>\n",
       "      <td>0.341256</td>\n",
       "      <td>0.121129</td>\n",
       "      <td>0.235121</td>\n",
       "      <td>0.277351</td>\n",
       "      <td>0.200381</td>\n",
       "      <td>0.311419</td>\n",
       "      <td>0.377392</td>\n",
       "      <td>...</td>\n",
       "      <td>0.191637</td>\n",
       "      <td>0.368535</td>\n",
       "      <td>0.451251</td>\n",
       "      <td>0.451305</td>\n",
       "      <td>0.034145</td>\n",
       "      <td>0.493399</td>\n",
       "      <td>0.008206</td>\n",
       "      <td>0.456548</td>\n",
       "      <td>0.115079</td>\n",
       "      <td>0.309634</td>\n",
       "    </tr>\n",
       "    <tr>\n",
       "      <th>min</th>\n",
       "      <td>0.000000</td>\n",
       "      <td>0.000000</td>\n",
       "      <td>0.0</td>\n",
       "      <td>0.000000</td>\n",
       "      <td>0.000000</td>\n",
       "      <td>0.000000</td>\n",
       "      <td>0.000000</td>\n",
       "      <td>0.000000</td>\n",
       "      <td>0.000000</td>\n",
       "      <td>0.000000</td>\n",
       "      <td>...</td>\n",
       "      <td>0.000000</td>\n",
       "      <td>0.000000</td>\n",
       "      <td>0.000000</td>\n",
       "      <td>0.000000</td>\n",
       "      <td>0.000000</td>\n",
       "      <td>0.000000</td>\n",
       "      <td>0.000000</td>\n",
       "      <td>0.000000</td>\n",
       "      <td>0.000000</td>\n",
       "      <td>0.000000</td>\n",
       "    </tr>\n",
       "    <tr>\n",
       "      <th>25%</th>\n",
       "      <td>0.000000</td>\n",
       "      <td>0.022238</td>\n",
       "      <td>0.0</td>\n",
       "      <td>0.072693</td>\n",
       "      <td>0.025000</td>\n",
       "      <td>0.528302</td>\n",
       "      <td>0.000000</td>\n",
       "      <td>0.000000</td>\n",
       "      <td>0.000000</td>\n",
       "      <td>0.000000</td>\n",
       "      <td>...</td>\n",
       "      <td>0.000000</td>\n",
       "      <td>0.000000</td>\n",
       "      <td>0.000000</td>\n",
       "      <td>0.000000</td>\n",
       "      <td>0.000000</td>\n",
       "      <td>0.000000</td>\n",
       "      <td>0.000000</td>\n",
       "      <td>0.000000</td>\n",
       "      <td>0.000000</td>\n",
       "      <td>0.000000</td>\n",
       "    </tr>\n",
       "    <tr>\n",
       "      <th>50%</th>\n",
       "      <td>0.000000</td>\n",
       "      <td>0.152489</td>\n",
       "      <td>0.0</td>\n",
       "      <td>0.277726</td>\n",
       "      <td>0.037500</td>\n",
       "      <td>0.754717</td>\n",
       "      <td>0.000000</td>\n",
       "      <td>0.000000</td>\n",
       "      <td>0.000000</td>\n",
       "      <td>0.000000</td>\n",
       "      <td>...</td>\n",
       "      <td>0.000000</td>\n",
       "      <td>0.000000</td>\n",
       "      <td>0.000000</td>\n",
       "      <td>0.000000</td>\n",
       "      <td>0.000000</td>\n",
       "      <td>1.000000</td>\n",
       "      <td>0.000000</td>\n",
       "      <td>0.000000</td>\n",
       "      <td>0.000000</td>\n",
       "      <td>0.000000</td>\n",
       "    </tr>\n",
       "    <tr>\n",
       "      <th>75%</th>\n",
       "      <td>0.400000</td>\n",
       "      <td>0.488175</td>\n",
       "      <td>0.0</td>\n",
       "      <td>0.594595</td>\n",
       "      <td>0.062500</td>\n",
       "      <td>0.905660</td>\n",
       "      <td>0.000000</td>\n",
       "      <td>0.000000</td>\n",
       "      <td>0.000000</td>\n",
       "      <td>0.000000</td>\n",
       "      <td>...</td>\n",
       "      <td>0.000000</td>\n",
       "      <td>0.000000</td>\n",
       "      <td>1.000000</td>\n",
       "      <td>1.000000</td>\n",
       "      <td>0.000000</td>\n",
       "      <td>1.000000</td>\n",
       "      <td>0.000000</td>\n",
       "      <td>1.000000</td>\n",
       "      <td>0.000000</td>\n",
       "      <td>0.000000</td>\n",
       "    </tr>\n",
       "    <tr>\n",
       "      <th>max</th>\n",
       "      <td>1.000000</td>\n",
       "      <td>1.000000</td>\n",
       "      <td>0.0</td>\n",
       "      <td>1.000000</td>\n",
       "      <td>1.000000</td>\n",
       "      <td>1.000000</td>\n",
       "      <td>1.000000</td>\n",
       "      <td>1.000000</td>\n",
       "      <td>1.000000</td>\n",
       "      <td>1.000000</td>\n",
       "      <td>...</td>\n",
       "      <td>1.000000</td>\n",
       "      <td>1.000000</td>\n",
       "      <td>1.000000</td>\n",
       "      <td>1.000000</td>\n",
       "      <td>1.000000</td>\n",
       "      <td>1.000000</td>\n",
       "      <td>1.000000</td>\n",
       "      <td>1.000000</td>\n",
       "      <td>1.000000</td>\n",
       "      <td>1.000000</td>\n",
       "    </tr>\n",
       "  </tbody>\n",
       "</table>\n",
       "<p>8 rows × 81 columns</p>\n",
       "</div>"
      ],
      "text/plain": [
       "         amount_tsh    gps_height  num_private    population  district_code  \\\n",
       "count  44550.000000  44550.000000      44550.0  28578.000000   44550.000000   \n",
       "mean       0.254110      0.258068          0.0      0.370836       0.070641   \n",
       "std        0.419046      0.244629          0.0      0.341256       0.121129   \n",
       "min        0.000000      0.000000          0.0      0.000000       0.000000   \n",
       "25%        0.000000      0.022238          0.0      0.072693       0.025000   \n",
       "50%        0.000000      0.152489          0.0      0.277726       0.037500   \n",
       "75%        0.400000      0.488175          0.0      0.594595       0.062500   \n",
       "max        1.000000      1.000000          0.0      1.000000       1.000000   \n",
       "\n",
       "       construction_year  basin_Lake Nyasa  basin_Lake Rukwa  \\\n",
       "count       29087.000000      44550.000000      44550.000000   \n",
       "mean            0.694966          0.083973          0.041908   \n",
       "std             0.235121          0.277351          0.200381   \n",
       "min             0.000000          0.000000          0.000000   \n",
       "25%             0.528302          0.000000          0.000000   \n",
       "50%             0.754717          0.000000          0.000000   \n",
       "75%             0.905660          0.000000          0.000000   \n",
       "max             1.000000          1.000000          1.000000   \n",
       "\n",
       "       basin_Lake Tanganyika  basin_Lake Victoria  ...  \\\n",
       "count           44550.000000         44550.000000  ...   \n",
       "mean                0.108822             0.172009  ...   \n",
       "std                 0.311419             0.377392  ...   \n",
       "min                 0.000000             0.000000  ...   \n",
       "25%                 0.000000             0.000000  ...   \n",
       "50%                 0.000000             0.000000  ...   \n",
       "75%                 0.000000             0.000000  ...   \n",
       "max                 1.000000             1.000000  ...   \n",
       "\n",
       "       source_rainwater harvesting  source_river  source_shallow well  \\\n",
       "count                 44550.000000  44550.000000         44550.000000   \n",
       "mean                      0.038182      0.162088             0.284646   \n",
       "std                       0.191637      0.368535             0.451251   \n",
       "min                       0.000000      0.000000             0.000000   \n",
       "25%                       0.000000      0.000000             0.000000   \n",
       "50%                       0.000000      0.000000             0.000000   \n",
       "75%                       0.000000      0.000000             1.000000   \n",
       "max                       1.000000      1.000000             1.000000   \n",
       "\n",
       "       source_spring  source_unknown  \\\n",
       "count   44550.000000    44550.000000   \n",
       "mean        0.284759        0.001167   \n",
       "std         0.451305        0.034145   \n",
       "min         0.000000        0.000000   \n",
       "25%         0.000000        0.000000   \n",
       "50%         0.000000        0.000000   \n",
       "75%         1.000000        0.000000   \n",
       "max         1.000000        1.000000   \n",
       "\n",
       "       waterpoint_type_group_communal standpipe  waterpoint_type_group_dam  \\\n",
       "count                              44550.000000               44550.000000   \n",
       "mean                                   0.581010                   0.000067   \n",
       "std                                    0.493399                   0.008206   \n",
       "min                                    0.000000                   0.000000   \n",
       "25%                                    0.000000                   0.000000   \n",
       "50%                                    1.000000                   0.000000   \n",
       "75%                                    1.000000                   0.000000   \n",
       "max                                    1.000000                   1.000000   \n",
       "\n",
       "       waterpoint_type_group_hand pump  waterpoint_type_group_improved spring  \\\n",
       "count                     44550.000000                           44550.000000   \n",
       "mean                          0.296117                               0.013423   \n",
       "std                           0.456548                               0.115079   \n",
       "min                           0.000000                               0.000000   \n",
       "25%                           0.000000                               0.000000   \n",
       "50%                           0.000000                               0.000000   \n",
       "75%                           1.000000                               0.000000   \n",
       "max                           1.000000                               1.000000   \n",
       "\n",
       "       waterpoint_type_group_other  \n",
       "count                 44550.000000  \n",
       "mean                      0.107407  \n",
       "std                       0.309634  \n",
       "min                       0.000000  \n",
       "25%                       0.000000  \n",
       "50%                       0.000000  \n",
       "75%                       0.000000  \n",
       "max                       1.000000  \n",
       "\n",
       "[8 rows x 81 columns]"
      ]
     },
     "execution_count": 41,
     "metadata": {},
     "output_type": "execute_result"
    }
   ],
   "source": [
    "# Checking the train dataset has been normalized\n",
    "X_train.describe()"
   ]
  },
  {
   "cell_type": "code",
   "execution_count": 42,
   "metadata": {
    "scrolled": true
   },
   "outputs": [
    {
     "data": {
      "text/html": [
       "<div>\n",
       "<style scoped>\n",
       "    .dataframe tbody tr th:only-of-type {\n",
       "        vertical-align: middle;\n",
       "    }\n",
       "\n",
       "    .dataframe tbody tr th {\n",
       "        vertical-align: top;\n",
       "    }\n",
       "\n",
       "    .dataframe thead th {\n",
       "        text-align: right;\n",
       "    }\n",
       "</style>\n",
       "<table border=\"1\" class=\"dataframe\">\n",
       "  <thead>\n",
       "    <tr style=\"text-align: right;\">\n",
       "      <th></th>\n",
       "      <th>amount_tsh</th>\n",
       "      <th>gps_height</th>\n",
       "      <th>num_private</th>\n",
       "      <th>population</th>\n",
       "      <th>district_code</th>\n",
       "      <th>construction_year</th>\n",
       "      <th>basin_Lake Nyasa</th>\n",
       "      <th>basin_Lake Rukwa</th>\n",
       "      <th>basin_Lake Tanganyika</th>\n",
       "      <th>basin_Lake Victoria</th>\n",
       "      <th>...</th>\n",
       "      <th>source_rainwater harvesting</th>\n",
       "      <th>source_river</th>\n",
       "      <th>source_shallow well</th>\n",
       "      <th>source_spring</th>\n",
       "      <th>source_unknown</th>\n",
       "      <th>waterpoint_type_group_communal standpipe</th>\n",
       "      <th>waterpoint_type_group_dam</th>\n",
       "      <th>waterpoint_type_group_hand pump</th>\n",
       "      <th>waterpoint_type_group_improved spring</th>\n",
       "      <th>waterpoint_type_group_other</th>\n",
       "    </tr>\n",
       "  </thead>\n",
       "  <tbody>\n",
       "    <tr>\n",
       "      <th>count</th>\n",
       "      <td>14850.000000</td>\n",
       "      <td>14850.000000</td>\n",
       "      <td>14850.0</td>\n",
       "      <td>9441.000000</td>\n",
       "      <td>14850.000000</td>\n",
       "      <td>9604.000000</td>\n",
       "      <td>14850.000000</td>\n",
       "      <td>14850.000000</td>\n",
       "      <td>14850.000000</td>\n",
       "      <td>14850.000000</td>\n",
       "      <td>...</td>\n",
       "      <td>14850.000000</td>\n",
       "      <td>14850.000000</td>\n",
       "      <td>14850.000000</td>\n",
       "      <td>14850.000000</td>\n",
       "      <td>14850.000000</td>\n",
       "      <td>14850.00000</td>\n",
       "      <td>14850.000000</td>\n",
       "      <td>14850.000000</td>\n",
       "      <td>14850.000000</td>\n",
       "      <td>14850.000000</td>\n",
       "    </tr>\n",
       "    <tr>\n",
       "      <th>mean</th>\n",
       "      <td>0.257556</td>\n",
       "      <td>0.279717</td>\n",
       "      <td>0.0</td>\n",
       "      <td>0.376044</td>\n",
       "      <td>0.069564</td>\n",
       "      <td>0.693557</td>\n",
       "      <td>0.090505</td>\n",
       "      <td>0.039529</td>\n",
       "      <td>0.106667</td>\n",
       "      <td>0.174074</td>\n",
       "      <td>...</td>\n",
       "      <td>0.040000</td>\n",
       "      <td>0.161010</td>\n",
       "      <td>0.278990</td>\n",
       "      <td>0.291919</td>\n",
       "      <td>0.000943</td>\n",
       "      <td>0.58862</td>\n",
       "      <td>0.000269</td>\n",
       "      <td>0.289293</td>\n",
       "      <td>0.012525</td>\n",
       "      <td>0.107407</td>\n",
       "    </tr>\n",
       "    <tr>\n",
       "      <th>std</th>\n",
       "      <td>0.420950</td>\n",
       "      <td>0.255580</td>\n",
       "      <td>0.0</td>\n",
       "      <td>0.343671</td>\n",
       "      <td>0.118270</td>\n",
       "      <td>0.235936</td>\n",
       "      <td>0.286914</td>\n",
       "      <td>0.194855</td>\n",
       "      <td>0.308699</td>\n",
       "      <td>0.379186</td>\n",
       "      <td>...</td>\n",
       "      <td>0.195966</td>\n",
       "      <td>0.367553</td>\n",
       "      <td>0.448518</td>\n",
       "      <td>0.454661</td>\n",
       "      <td>0.030691</td>\n",
       "      <td>0.49210</td>\n",
       "      <td>0.016411</td>\n",
       "      <td>0.453449</td>\n",
       "      <td>0.111217</td>\n",
       "      <td>0.309641</td>\n",
       "    </tr>\n",
       "    <tr>\n",
       "      <th>min</th>\n",
       "      <td>0.000000</td>\n",
       "      <td>0.000000</td>\n",
       "      <td>0.0</td>\n",
       "      <td>0.000000</td>\n",
       "      <td>0.000000</td>\n",
       "      <td>0.000000</td>\n",
       "      <td>0.000000</td>\n",
       "      <td>0.000000</td>\n",
       "      <td>0.000000</td>\n",
       "      <td>0.000000</td>\n",
       "      <td>...</td>\n",
       "      <td>0.000000</td>\n",
       "      <td>0.000000</td>\n",
       "      <td>0.000000</td>\n",
       "      <td>0.000000</td>\n",
       "      <td>0.000000</td>\n",
       "      <td>0.00000</td>\n",
       "      <td>0.000000</td>\n",
       "      <td>0.000000</td>\n",
       "      <td>0.000000</td>\n",
       "      <td>0.000000</td>\n",
       "    </tr>\n",
       "    <tr>\n",
       "      <th>25%</th>\n",
       "      <td>0.000000</td>\n",
       "      <td>0.033174</td>\n",
       "      <td>0.0</td>\n",
       "      <td>0.072693</td>\n",
       "      <td>0.025000</td>\n",
       "      <td>0.509434</td>\n",
       "      <td>0.000000</td>\n",
       "      <td>0.000000</td>\n",
       "      <td>0.000000</td>\n",
       "      <td>0.000000</td>\n",
       "      <td>...</td>\n",
       "      <td>0.000000</td>\n",
       "      <td>0.000000</td>\n",
       "      <td>0.000000</td>\n",
       "      <td>0.000000</td>\n",
       "      <td>0.000000</td>\n",
       "      <td>0.00000</td>\n",
       "      <td>0.000000</td>\n",
       "      <td>0.000000</td>\n",
       "      <td>0.000000</td>\n",
       "      <td>0.000000</td>\n",
       "    </tr>\n",
       "    <tr>\n",
       "      <th>50%</th>\n",
       "      <td>0.000000</td>\n",
       "      <td>0.169923</td>\n",
       "      <td>0.0</td>\n",
       "      <td>0.277726</td>\n",
       "      <td>0.037500</td>\n",
       "      <td>0.754717</td>\n",
       "      <td>0.000000</td>\n",
       "      <td>0.000000</td>\n",
       "      <td>0.000000</td>\n",
       "      <td>0.000000</td>\n",
       "      <td>...</td>\n",
       "      <td>0.000000</td>\n",
       "      <td>0.000000</td>\n",
       "      <td>0.000000</td>\n",
       "      <td>0.000000</td>\n",
       "      <td>0.000000</td>\n",
       "      <td>1.00000</td>\n",
       "      <td>0.000000</td>\n",
       "      <td>0.000000</td>\n",
       "      <td>0.000000</td>\n",
       "      <td>0.000000</td>\n",
       "    </tr>\n",
       "    <tr>\n",
       "      <th>75%</th>\n",
       "      <td>0.500000</td>\n",
       "      <td>0.519351</td>\n",
       "      <td>0.0</td>\n",
       "      <td>0.641193</td>\n",
       "      <td>0.062500</td>\n",
       "      <td>0.905660</td>\n",
       "      <td>0.000000</td>\n",
       "      <td>0.000000</td>\n",
       "      <td>0.000000</td>\n",
       "      <td>0.000000</td>\n",
       "      <td>...</td>\n",
       "      <td>0.000000</td>\n",
       "      <td>0.000000</td>\n",
       "      <td>1.000000</td>\n",
       "      <td>1.000000</td>\n",
       "      <td>0.000000</td>\n",
       "      <td>1.00000</td>\n",
       "      <td>0.000000</td>\n",
       "      <td>1.000000</td>\n",
       "      <td>0.000000</td>\n",
       "      <td>0.000000</td>\n",
       "    </tr>\n",
       "    <tr>\n",
       "      <th>max</th>\n",
       "      <td>1.000000</td>\n",
       "      <td>1.000000</td>\n",
       "      <td>0.0</td>\n",
       "      <td>1.000000</td>\n",
       "      <td>1.000000</td>\n",
       "      <td>1.000000</td>\n",
       "      <td>1.000000</td>\n",
       "      <td>1.000000</td>\n",
       "      <td>1.000000</td>\n",
       "      <td>1.000000</td>\n",
       "      <td>...</td>\n",
       "      <td>1.000000</td>\n",
       "      <td>1.000000</td>\n",
       "      <td>1.000000</td>\n",
       "      <td>1.000000</td>\n",
       "      <td>1.000000</td>\n",
       "      <td>1.00000</td>\n",
       "      <td>1.000000</td>\n",
       "      <td>1.000000</td>\n",
       "      <td>1.000000</td>\n",
       "      <td>1.000000</td>\n",
       "    </tr>\n",
       "  </tbody>\n",
       "</table>\n",
       "<p>8 rows × 81 columns</p>\n",
       "</div>"
      ],
      "text/plain": [
       "         amount_tsh    gps_height  num_private   population  district_code  \\\n",
       "count  14850.000000  14850.000000      14850.0  9441.000000   14850.000000   \n",
       "mean       0.257556      0.279717          0.0     0.376044       0.069564   \n",
       "std        0.420950      0.255580          0.0     0.343671       0.118270   \n",
       "min        0.000000      0.000000          0.0     0.000000       0.000000   \n",
       "25%        0.000000      0.033174          0.0     0.072693       0.025000   \n",
       "50%        0.000000      0.169923          0.0     0.277726       0.037500   \n",
       "75%        0.500000      0.519351          0.0     0.641193       0.062500   \n",
       "max        1.000000      1.000000          0.0     1.000000       1.000000   \n",
       "\n",
       "       construction_year  basin_Lake Nyasa  basin_Lake Rukwa  \\\n",
       "count        9604.000000      14850.000000      14850.000000   \n",
       "mean            0.693557          0.090505          0.039529   \n",
       "std             0.235936          0.286914          0.194855   \n",
       "min             0.000000          0.000000          0.000000   \n",
       "25%             0.509434          0.000000          0.000000   \n",
       "50%             0.754717          0.000000          0.000000   \n",
       "75%             0.905660          0.000000          0.000000   \n",
       "max             1.000000          1.000000          1.000000   \n",
       "\n",
       "       basin_Lake Tanganyika  basin_Lake Victoria  ...  \\\n",
       "count           14850.000000         14850.000000  ...   \n",
       "mean                0.106667             0.174074  ...   \n",
       "std                 0.308699             0.379186  ...   \n",
       "min                 0.000000             0.000000  ...   \n",
       "25%                 0.000000             0.000000  ...   \n",
       "50%                 0.000000             0.000000  ...   \n",
       "75%                 0.000000             0.000000  ...   \n",
       "max                 1.000000             1.000000  ...   \n",
       "\n",
       "       source_rainwater harvesting  source_river  source_shallow well  \\\n",
       "count                 14850.000000  14850.000000         14850.000000   \n",
       "mean                      0.040000      0.161010             0.278990   \n",
       "std                       0.195966      0.367553             0.448518   \n",
       "min                       0.000000      0.000000             0.000000   \n",
       "25%                       0.000000      0.000000             0.000000   \n",
       "50%                       0.000000      0.000000             0.000000   \n",
       "75%                       0.000000      0.000000             1.000000   \n",
       "max                       1.000000      1.000000             1.000000   \n",
       "\n",
       "       source_spring  source_unknown  \\\n",
       "count   14850.000000    14850.000000   \n",
       "mean        0.291919        0.000943   \n",
       "std         0.454661        0.030691   \n",
       "min         0.000000        0.000000   \n",
       "25%         0.000000        0.000000   \n",
       "50%         0.000000        0.000000   \n",
       "75%         1.000000        0.000000   \n",
       "max         1.000000        1.000000   \n",
       "\n",
       "       waterpoint_type_group_communal standpipe  waterpoint_type_group_dam  \\\n",
       "count                               14850.00000               14850.000000   \n",
       "mean                                    0.58862                   0.000269   \n",
       "std                                     0.49210                   0.016411   \n",
       "min                                     0.00000                   0.000000   \n",
       "25%                                     0.00000                   0.000000   \n",
       "50%                                     1.00000                   0.000000   \n",
       "75%                                     1.00000                   0.000000   \n",
       "max                                     1.00000                   1.000000   \n",
       "\n",
       "       waterpoint_type_group_hand pump  waterpoint_type_group_improved spring  \\\n",
       "count                     14850.000000                           14850.000000   \n",
       "mean                          0.289293                               0.012525   \n",
       "std                           0.453449                               0.111217   \n",
       "min                           0.000000                               0.000000   \n",
       "25%                           0.000000                               0.000000   \n",
       "50%                           0.000000                               0.000000   \n",
       "75%                           1.000000                               0.000000   \n",
       "max                           1.000000                               1.000000   \n",
       "\n",
       "       waterpoint_type_group_other  \n",
       "count                 14850.000000  \n",
       "mean                      0.107407  \n",
       "std                       0.309641  \n",
       "min                       0.000000  \n",
       "25%                       0.000000  \n",
       "50%                       0.000000  \n",
       "75%                       0.000000  \n",
       "max                       1.000000  \n",
       "\n",
       "[8 rows x 81 columns]"
      ]
     },
     "execution_count": 42,
     "metadata": {},
     "output_type": "execute_result"
    }
   ],
   "source": [
    "# Checking the test dataset has been normalized\n",
    "X_test.describe()"
   ]
  },
  {
   "cell_type": "markdown",
   "metadata": {},
   "source": [
    "Our datasets are now normalized. We can move on to KNN Imputation."
   ]
  },
  {
   "cell_type": "code",
   "execution_count": 43,
   "metadata": {},
   "outputs": [],
   "source": [
    "from sklearn.impute import KNNImputer\n",
    "imputer = KNNImputer(n_neighbors=5)\n",
    "\n",
    "X_train = pd.DataFrame(np.round(imputer.fit_transform(X_train)),columns = X_train.columns)\n",
    "X_test = pd.DataFrame(np.round(imputer.fit_transform(X_test)),columns = X_test.columns)"
   ]
  },
  {
   "cell_type": "code",
   "execution_count": 44,
   "metadata": {},
   "outputs": [
    {
     "data": {
      "text/plain": [
       "0"
      ]
     },
     "execution_count": 44,
     "metadata": {},
     "output_type": "execute_result"
    }
   ],
   "source": [
    "# Checking if the missing values have been replaced\n",
    "X_train.isna().sum().sum()"
   ]
  },
  {
   "cell_type": "code",
   "execution_count": 45,
   "metadata": {},
   "outputs": [
    {
     "data": {
      "text/plain": [
       "0"
      ]
     },
     "execution_count": 45,
     "metadata": {},
     "output_type": "execute_result"
    }
   ],
   "source": [
    "# Checking if the missing values have been replaced\n",
    "X_test.isna().sum().sum()"
   ]
  },
  {
   "cell_type": "markdown",
   "metadata": {},
   "source": [
    "It looks like all the missing values in our features have been filled."
   ]
  },
  {
   "cell_type": "markdown",
   "metadata": {},
   "source": [
    "# Exploring Data - Class Imbalance"
   ]
  },
  {
   "cell_type": "markdown",
   "metadata": {},
   "source": [
    "Our next step is to check if our training dataset has the imbalance class problem. If this problem exists, our models will have low predictive accuracy for the infrequent classes and our models' performance measurements will become unreliable.\n",
    "\n",
    "To check if this there is a class imbalance, we will see the population percentages of the target variables."
   ]
  },
  {
   "cell_type": "code",
   "execution_count": 46,
   "metadata": {
    "scrolled": true
   },
   "outputs": [
    {
     "data": {
      "text/plain": [
       "functional                 0.542334\n",
       "non functional             0.384871\n",
       "functional needs repair    0.072795\n",
       "Name: status_group, dtype: float64"
      ]
     },
     "execution_count": 46,
     "metadata": {},
     "output_type": "execute_result"
    }
   ],
   "source": [
    "# Checking the normalized value counts of target variable\n",
    "y_train['status_group'].value_counts(normalize=True)"
   ]
  },
  {
   "cell_type": "markdown",
   "metadata": {},
   "source": [
    "As we can see, the 'functional' label makes up about 54% and 'non functional' makes up about 38% of our training data set. The 'functional needs repair' has a very infrequent population with only about 7%. So, our training dataset definitely has an class imbalance problem.\n",
    "\n",
    "To fix this problem, we will utilize the Synthetic Minority Oversampling or SMOTE tool from imblearn package."
   ]
  },
  {
   "cell_type": "code",
   "execution_count": 47,
   "metadata": {},
   "outputs": [],
   "source": [
    "from imblearn.over_sampling import SMOTE\n",
    "\n",
    "smote = SMOTE()\n",
    "X_train, y_train= smote.fit_resample(X_train, y_train) "
   ]
  },
  {
   "cell_type": "markdown",
   "metadata": {},
   "source": [
    "Let's check if the population of the labels are now balance."
   ]
  },
  {
   "cell_type": "code",
   "execution_count": 48,
   "metadata": {},
   "outputs": [
    {
     "data": {
      "text/plain": [
       "functional needs repair    0.333333\n",
       "non functional             0.333333\n",
       "functional                 0.333333\n",
       "Name: status_group, dtype: float64"
      ]
     },
     "execution_count": 48,
     "metadata": {},
     "output_type": "execute_result"
    }
   ],
   "source": [
    "y_train['status_group'].value_counts(normalize=True)"
   ]
  },
  {
   "cell_type": "markdown",
   "metadata": {},
   "source": [
    "Now all the 3 target labels are balanced at 33.33% each."
   ]
  },
  {
   "cell_type": "markdown",
   "metadata": {},
   "source": [
    "# Exploring and Constructing Models"
   ]
  },
  {
   "cell_type": "markdown",
   "metadata": {},
   "source": [
    "In the next part of our project, we will explore different machine learning methods and see which one will give us the best result. The machine learning methods we will explore are -\n",
    "\n",
    "- K-Nearest Neighbors Classifier\n",
    "- Decision Tree Classifier\n",
    "- Random Forest Classifier\n",
    "- eXtreme Gradient Boosting (XGBoost)\n",
    "- Support Vector Machines (SVM)\n",
    "\n",
    "While we are exploring each method, we will also use GridSearchCV to check which hyperparameters give us the best result in the particular method. We will use precision, recall, accuracy and f1 scores to compare between models and sets of hyperparameters.\n",
    "\n",
    "Before we construct the models, let's create a function that enters testing scores into a dataframe. With this function, we can keep track of our models' performances and compare the scores at the end."
   ]
  },
  {
   "cell_type": "code",
   "execution_count": 49,
   "metadata": {},
   "outputs": [],
   "source": [
    "from sklearn.metrics import precision_score, recall_score, accuracy_score, f1_score\n",
    "\n",
    "# Creating an empty dataframe with column names\n",
    "scores_df = pd.DataFrame(columns = ['Model', 'Precision', 'Recall', 'Accuracy', 'F1'])\n",
    "\n",
    "# Writing the function\n",
    "def enter_scores(Model, y_test, y_hat_test):\n",
    "\n",
    "    # Calling the global dataframe\n",
    "    global scores_df\n",
    "    \n",
    "    # Calculating various test scores\n",
    "    precision = precision_score(y_test, y_hat_test, average='weighted')\n",
    "    recall = recall_score(y_test, y_hat_test, average='weighted')\n",
    "    accuracy = accuracy_score(y_test, y_hat_test)\n",
    "    f1 = f1_score(y_test, y_hat_test, average='weighted')\n",
    "    \n",
    "    # Entering the calculated scores into the dataframe\n",
    "    scores_df = scores_df.append({'Model':Model, 'Precision':precision, 'Recall':recall, 'Accuracy':accuracy, 'F1':f1}, ignore_index=True)"
   ]
  },
  {
   "cell_type": "markdown",
   "metadata": {},
   "source": [
    "### K-Nearest Neighbors Classifier"
   ]
  },
  {
   "cell_type": "markdown",
   "metadata": {},
   "source": [
    "The first method we will use to construct our classifier is K-Nearest Neighbors method. First, we will create the base model with the default hyperparametes. "
   ]
  },
  {
   "cell_type": "code",
   "execution_count": 50,
   "metadata": {
    "scrolled": true
   },
   "outputs": [
    {
     "data": {
      "text/plain": [
       "KNeighborsClassifier()"
      ]
     },
     "execution_count": 50,
     "metadata": {},
     "output_type": "execute_result"
    }
   ],
   "source": [
    "from sklearn.neighbors import KNeighborsClassifier\n",
    "\n",
    "# Instantiate KNeighborsClassifier\n",
    "clf = KNeighborsClassifier()\n",
    "\n",
    "# Fit the classifier\n",
    "clf.fit(X_train, y_train)"
   ]
  },
  {
   "cell_type": "markdown",
   "metadata": {},
   "source": [
    "Next, we will check the confusion matrix of this model."
   ]
  },
  {
   "cell_type": "code",
   "execution_count": 51,
   "metadata": {},
   "outputs": [
    {
     "name": "stdout",
     "output_type": "stream",
     "text": [
      "[[0.75771796 0.11336132 0.12892072]\n",
      " [0.41247672 0.44972067 0.13780261]\n",
      " [0.24286721 0.08383234 0.67330046]]\n"
     ]
    },
    {
     "data": {
      "image/png": "[encoded data removed]",
      "text/plain": [
       "<Figure size 432x288 with 2 Axes>"
      ]
     },
     "metadata": {
      "needs_background": "light"
     },
     "output_type": "display_data"
    }
   ],
   "source": [
    "from sklearn.metrics import plot_confusion_matrix\n",
    "\n",
    "class_names = y_train['status_group'].unique()\n",
    "\n",
    "disp = plot_confusion_matrix(clf, X_test, y_test,\n",
    "                             display_labels=class_names,\n",
    "                             cmap=plt.cm.Blues,\n",
    "                             normalize='true',\n",
    "                             xticks_rotation='vertical')\n",
    "disp.ax_.set_title('K-Nearest Neighbors Classifier')\n",
    "\n",
    "print(disp.confusion_matrix)"
   ]
  },
  {
   "cell_type": "markdown",
   "metadata": {},
   "source": [
    "As we can see from the above confusion matrix plot, our model did poorly in predicting the true positives. Among the 3 labels, our model only did a decent job with true positives for 'non functional' labels (75%) but the other two labels are far from decent.\n",
    "\n",
    "Let's see the scores of this model."
   ]
  },
  {
   "cell_type": "code",
   "execution_count": 52,
   "metadata": {},
   "outputs": [
    {
     "name": "stdout",
     "output_type": "stream",
     "text": [
      "Training Data\n",
      "                         precision    recall  f1-score   support\n",
      "\n",
      "             functional       0.64      0.83      0.72     24161\n",
      "functional needs repair       0.85      0.67      0.75     24161\n",
      "         non functional       0.83      0.76      0.80     24161\n",
      "\n",
      "               accuracy                           0.75     72483\n",
      "              macro avg       0.77      0.75      0.76     72483\n",
      "           weighted avg       0.77      0.75      0.76     72483\n",
      "\n",
      "\n",
      "\n",
      "Testing Data\n",
      "                         precision    recall  f1-score   support\n",
      "\n",
      "             functional       0.77      0.76      0.76      8098\n",
      "functional needs repair       0.26      0.45      0.33      1074\n",
      "         non functional       0.76      0.67      0.72      5678\n",
      "\n",
      "               accuracy                           0.70     14850\n",
      "              macro avg       0.60      0.63      0.60     14850\n",
      "           weighted avg       0.73      0.70      0.71     14850\n",
      "\n"
     ]
    }
   ],
   "source": [
    "from sklearn.metrics import classification_report\n",
    "\n",
    "# Predicting target values with the model\n",
    "\n",
    "y_hat_train = clf.predict(X_train)\n",
    "y_hat_test = clf.predict(X_test)\n",
    "\n",
    "# Entering the testing scores into the dataframe\n",
    "enter_scores('KNN', y_test, y_hat_test)\n",
    "\n",
    "# Printing out the scores\n",
    "print('Training Data')\n",
    "print(classification_report(y_train, y_hat_train))\n",
    "print('\\n')\n",
    "print('Testing Data')\n",
    "print(classification_report(y_test, y_hat_test))\n"
   ]
  },
  {
   "cell_type": "markdown",
   "metadata": {},
   "source": [
    "With this model, training data scores are higher than the testing data scores. This indicates that our model is overfitted. The scores for the testing dataset is also relatively low (approximately around 70%).\n",
    "\n",
    "Let's try to use the GridSearchCV function from scikit-learn to see if we can narrow the gap and improve the scores by tuning the hyperparameters. The hyperparameters that we will tune are 'leaf_size' and 'n_neighbors'."
   ]
  },
  {
   "cell_type": "code",
   "execution_count": 53,
   "metadata": {},
   "outputs": [],
   "source": [
    "from sklearn.model_selection import GridSearchCV\n",
    "\n",
    "# Set the grid for the GridSearchCV\n",
    "grid = [{'leaf_size': [20, 30, 40], \n",
    "         'n_neighbors': [5, 7, 9]}]"
   ]
  },
  {
   "cell_type": "code",
   "execution_count": 54,
   "metadata": {},
   "outputs": [],
   "source": [
    "# # Instantiate GridSearchCV\n",
    "gridsearch = GridSearchCV(estimator=clf, \n",
    "                          param_grid=grid, \n",
    "                          scoring='accuracy', \n",
    "                          cv=5)"
   ]
  },
  {
   "cell_type": "code",
   "execution_count": 55,
   "metadata": {},
   "outputs": [
    {
     "name": "stdout",
     "output_type": "stream",
     "text": [
      "Optimal Parameters: {'leaf_size': 20, 'n_neighbors': 5}\n"
     ]
    }
   ],
   "source": [
    "# Fit the training data\n",
    "gridsearch.fit(X_train, y_train)\n",
    "\n",
    "# Pring the best hyperparameters\n",
    "print(f\"Optimal Parameters: {gridsearch.best_params_}\")"
   ]
  },
  {
   "cell_type": "markdown",
   "metadata": {},
   "source": [
    "As per the GridSearchCV, the optimal hyperparameters are the same as the base model's hyperparameters."
   ]
  },
  {
   "cell_type": "code",
   "execution_count": 56,
   "metadata": {},
   "outputs": [
    {
     "name": "stdout",
     "output_type": "stream",
     "text": [
      "[[0.75771796 0.11336132 0.12892072]\n",
      " [0.41247672 0.44972067 0.13780261]\n",
      " [0.24286721 0.08383234 0.67330046]]\n"
     ]
    },
    {
     "data": {
      "image/png": "[encoded data removed]",
      "text/plain": [
       "<Figure size 432x288 with 2 Axes>"
      ]
     },
     "metadata": {
      "needs_background": "light"
     },
     "output_type": "display_data"
    }
   ],
   "source": [
    "disp = plot_confusion_matrix(gridsearch, X_test, y_test,\n",
    "                             display_labels=class_names,\n",
    "                             cmap=plt.cm.Blues,\n",
    "                             normalize='true',\n",
    "                             xticks_rotation='vertical')\n",
    "disp.ax_.set_title('K-Nearest Neighbors Classifier with GridSearchCV')\n",
    "\n",
    "print(disp.confusion_matrix)"
   ]
  },
  {
   "cell_type": "markdown",
   "metadata": {},
   "source": [
    "Because GridSearchCV uses the same hyperparameters as the base model, the confusion matrix is also the same."
   ]
  },
  {
   "cell_type": "code",
   "execution_count": 57,
   "metadata": {},
   "outputs": [
    {
     "name": "stdout",
     "output_type": "stream",
     "text": [
      "Training Data\n",
      "                         precision    recall  f1-score   support\n",
      "\n",
      "             functional       0.64      0.83      0.72     24161\n",
      "functional needs repair       0.85      0.67      0.75     24161\n",
      "         non functional       0.83      0.76      0.80     24161\n",
      "\n",
      "               accuracy                           0.75     72483\n",
      "              macro avg       0.77      0.75      0.76     72483\n",
      "           weighted avg       0.77      0.75      0.76     72483\n",
      "\n",
      "\n",
      "\n",
      "Testing Data\n",
      "                         precision    recall  f1-score   support\n",
      "\n",
      "             functional       0.77      0.76      0.76      8098\n",
      "functional needs repair       0.26      0.45      0.33      1074\n",
      "         non functional       0.76      0.67      0.72      5678\n",
      "\n",
      "               accuracy                           0.70     14850\n",
      "              macro avg       0.60      0.63      0.60     14850\n",
      "           weighted avg       0.73      0.70      0.71     14850\n",
      "\n"
     ]
    }
   ],
   "source": [
    "# Predicting target values with the model\n",
    "\n",
    "y_hat_train = gridsearch.predict(X_train)\n",
    "y_hat_test = gridsearch.predict(X_test)\n",
    "\n",
    "# Entering the testing scores into the dataframe\n",
    "enter_scores('KNN_GS', y_test, y_hat_test)\n",
    "\n",
    "# Printing out the scores\n",
    "print('Training Data')\n",
    "print(classification_report(y_train, y_hat_train))\n",
    "print('\\n')\n",
    "print('Testing Data')\n",
    "print(classification_report(y_test, y_hat_test))"
   ]
  },
  {
   "cell_type": "markdown",
   "metadata": {},
   "source": [
    "Similarly, the resulting scores do not change with the GridSearchCV."
   ]
  },
  {
   "cell_type": "markdown",
   "metadata": {},
   "source": [
    "### Decision Tree Classifier"
   ]
  },
  {
   "cell_type": "markdown",
   "metadata": {},
   "source": [
    "The next methold we will try to use is the Decision Tree Classifier. First, we will construct a base model with the default hyperparameters."
   ]
  },
  {
   "cell_type": "code",
   "execution_count": 58,
   "metadata": {
    "scrolled": true
   },
   "outputs": [
    {
     "data": {
      "text/plain": [
       "DecisionTreeClassifier(random_state=10)"
      ]
     },
     "execution_count": 58,
     "metadata": {},
     "output_type": "execute_result"
    }
   ],
   "source": [
    "# Train a DT classifier\n",
    "from sklearn import tree\n",
    "\n",
    "dt_clf = tree.DecisionTreeClassifier(random_state=10)  \n",
    "dt_clf.fit(X_train, y_train) "
   ]
  },
  {
   "cell_type": "markdown",
   "metadata": {},
   "source": [
    "Now, let's look at the confusion matrix of this base model."
   ]
  },
  {
   "cell_type": "code",
   "execution_count": 59,
   "metadata": {
    "scrolled": true
   },
   "outputs": [
    {
     "name": "stdout",
     "output_type": "stream",
     "text": [
      "[[0.74722154 0.13472462 0.11805384]\n",
      " [0.3566108  0.4972067  0.1461825 ]\n",
      " [0.22243748 0.09122931 0.68633322]]\n"
     ]
    },
    {
     "data": {
      "image/png": "[encoded data removed]",
      "text/plain": [
       "<Figure size 432x288 with 2 Axes>"
      ]
     },
     "metadata": {
      "needs_background": "light"
     },
     "output_type": "display_data"
    }
   ],
   "source": [
    "disp = plot_confusion_matrix(dt_clf, X_test, y_test,\n",
    "                             display_labels=class_names,\n",
    "                             cmap=plt.cm.Blues,\n",
    "                             normalize='true',\n",
    "                             xticks_rotation='vertical')\n",
    "disp.ax_.set_title('Decision Tree Classifier')\n",
    "\n",
    "print(disp.confusion_matrix)"
   ]
  },
  {
   "cell_type": "markdown",
   "metadata": {},
   "source": [
    "The DT model has slightly better percentages of true positives for 'non functional' and 'functional' labels than the KNN model. Let's compare the scores next."
   ]
  },
  {
   "cell_type": "code",
   "execution_count": 60,
   "metadata": {},
   "outputs": [
    {
     "name": "stdout",
     "output_type": "stream",
     "text": [
      "Training Data\n",
      "                         precision    recall  f1-score   support\n",
      "\n",
      "             functional       0.81      0.83      0.82     24161\n",
      "functional needs repair       0.84      0.90      0.87     24161\n",
      "         non functional       0.91      0.82      0.86     24161\n",
      "\n",
      "               accuracy                           0.85     72483\n",
      "              macro avg       0.85      0.85      0.85     72483\n",
      "           weighted avg       0.85      0.85      0.85     72483\n",
      "\n",
      "\n",
      "\n",
      "Testing Data\n",
      "                         precision    recall  f1-score   support\n",
      "\n",
      "             functional       0.79      0.75      0.77      8098\n",
      "functional needs repair       0.25      0.50      0.33      1074\n",
      "         non functional       0.78      0.69      0.73      5678\n",
      "\n",
      "               accuracy                           0.71     14850\n",
      "              macro avg       0.60      0.64      0.61     14850\n",
      "           weighted avg       0.74      0.71      0.72     14850\n",
      "\n"
     ]
    }
   ],
   "source": [
    "# Predicting target values with the model\n",
    "\n",
    "y_hat_train = dt_clf.predict(X_train)\n",
    "y_hat_test = dt_clf.predict(X_test)\n",
    "\n",
    "# Entering the testing scores into the dataframe\n",
    "enter_scores('Decision Tree', y_test, y_hat_test)\n",
    "\n",
    "# Printing out the scores\n",
    "print('Training Data')\n",
    "print(classification_report(y_train, y_hat_train))\n",
    "print('\\n')\n",
    "print('Testing Data')\n",
    "print(classification_report(y_test, y_hat_test))"
   ]
  },
  {
   "cell_type": "markdown",
   "metadata": {},
   "source": [
    "The DT classifier has significant improves on the training data scores. However, its testing data scores improves only slightly. Additionally, the gap between training and testing scores become larger which indicates that the DT model has overfitting problem.\n",
    "\n",
    "Next, let's try to see if we can improve the scores by using the GridSearchCV tool. The hyperparameters we will tune with GridSearchCV are 'criterion', 'max_depth', 'min_samples_split' and 'min_samples_leaf'."
   ]
  },
  {
   "cell_type": "code",
   "execution_count": 61,
   "metadata": {},
   "outputs": [],
   "source": [
    "dt_param_grid = {\n",
    "    'criterion': ['gini', 'entropy'],\n",
    "    'max_depth': [None, 2, 6, 10],\n",
    "    'min_samples_split': [5, 10],\n",
    "    'min_samples_leaf': [3, 6]\n",
    "}"
   ]
  },
  {
   "cell_type": "code",
   "execution_count": 62,
   "metadata": {},
   "outputs": [
    {
     "name": "stdout",
     "output_type": "stream",
     "text": [
      "Optimal Parameters: {'criterion': 'gini', 'max_depth': None, 'min_samples_leaf': 3, 'min_samples_split': 10}\n"
     ]
    }
   ],
   "source": [
    "dt_grid_search = GridSearchCV(dt_clf, dt_param_grid, cv=3)\n",
    "dt_grid_search.fit(X_train, y_train)\n",
    "\n",
    "print(f\"Optimal Parameters: {dt_grid_search.best_params_}\")"
   ]
  },
  {
   "cell_type": "markdown",
   "metadata": {},
   "source": [
    "As you can see, the hyperparameters selected by GridSearchCV is different from the default hyperparmeters. "
   ]
  },
  {
   "cell_type": "code",
   "execution_count": 63,
   "metadata": {},
   "outputs": [
    {
     "name": "stdout",
     "output_type": "stream",
     "text": [
      "[[0.74413435 0.13707088 0.11879476]\n",
      " [0.34729981 0.51955307 0.13314711]\n",
      " [0.21609722 0.09492779 0.68897499]]\n"
     ]
    },
    {
     "data": {
      "image/png": "[encoded data removed]",
      "text/plain": [
       "<Figure size 432x288 with 2 Axes>"
      ]
     },
     "metadata": {
      "needs_background": "light"
     },
     "output_type": "display_data"
    }
   ],
   "source": [
    "disp = plot_confusion_matrix(dt_grid_search, X_test, y_test,\n",
    "                             display_labels=class_names,\n",
    "                             cmap=plt.cm.Blues,\n",
    "                             normalize='true',\n",
    "                             xticks_rotation='vertical')\n",
    "disp.ax_.set_title('Decision Tree Classifier with GridSearchCV')\n",
    "\n",
    "print(disp.confusion_matrix)"
   ]
  },
  {
   "cell_type": "markdown",
   "metadata": {},
   "source": [
    "By using the optimal hyperparameters, the true positive percentage for 'non functional' lable slightly decreases while the percentages for the two other labels slightly increase."
   ]
  },
  {
   "cell_type": "code",
   "execution_count": 64,
   "metadata": {
    "scrolled": false
   },
   "outputs": [
    {
     "name": "stdout",
     "output_type": "stream",
     "text": [
      "Training Data\n",
      "                         precision    recall  f1-score   support\n",
      "\n",
      "             functional       0.78      0.79      0.78     24161\n",
      "functional needs repair       0.81      0.88      0.85     24161\n",
      "         non functional       0.87      0.78      0.82     24161\n",
      "\n",
      "               accuracy                           0.82     72483\n",
      "              macro avg       0.82      0.82      0.82     72483\n",
      "           weighted avg       0.82      0.82      0.82     72483\n",
      "\n",
      "\n",
      "\n",
      "Testing Data\n",
      "                         precision    recall  f1-score   support\n",
      "\n",
      "             functional       0.79      0.74      0.77      8098\n",
      "functional needs repair       0.25      0.52      0.34      1074\n",
      "         non functional       0.78      0.69      0.73      5678\n",
      "\n",
      "               accuracy                           0.71     14850\n",
      "              macro avg       0.61      0.65      0.61     14850\n",
      "           weighted avg       0.75      0.71      0.72     14850\n",
      "\n"
     ]
    }
   ],
   "source": [
    "# Predicting target values with the model\n",
    "\n",
    "y_hat_train = dt_grid_search.predict(X_train)\n",
    "y_hat_test = dt_grid_search.predict(X_test)\n",
    "\n",
    "# Entering the testing scores into the dataframe\n",
    "enter_scores('Decision Tree_GS', y_test, y_hat_test)\n",
    "\n",
    "# Printing out the scores\n",
    "print('Training Data')\n",
    "print(classification_report(y_train, y_hat_train))\n",
    "print('\\n')\n",
    "print('Testing Data')\n",
    "print(classification_report(y_test, y_hat_test))"
   ]
  },
  {
   "cell_type": "markdown",
   "metadata": {},
   "source": [
    "With the optimal hyperparameters, all the scores of both training and testing datasets decrease."
   ]
  },
  {
   "cell_type": "markdown",
   "metadata": {},
   "source": [
    "### Random Forest Classifier"
   ]
  },
  {
   "cell_type": "markdown",
   "metadata": {},
   "source": [
    "The next method we will use is Random Forest Classifier. Same as before, we will begin with a base model with default hyperparameters."
   ]
  },
  {
   "cell_type": "code",
   "execution_count": 65,
   "metadata": {},
   "outputs": [
    {
     "data": {
      "text/plain": [
       "RandomForestClassifier(random_state=123)"
      ]
     },
     "execution_count": 65,
     "metadata": {},
     "output_type": "execute_result"
    }
   ],
   "source": [
    "# Train a RF classifier\n",
    "\n",
    "from sklearn.ensemble import RandomForestClassifier\n",
    "\n",
    "rf_clf = RandomForestClassifier(random_state=123)\n",
    "rf_clf.fit(X_train, y_train)"
   ]
  },
  {
   "cell_type": "markdown",
   "metadata": {},
   "source": [
    "Now, we will look at the confusion matrix and the scores for this base model."
   ]
  },
  {
   "cell_type": "code",
   "execution_count": 66,
   "metadata": {},
   "outputs": [
    {
     "name": "stdout",
     "output_type": "stream",
     "text": [
      "[[0.75895283 0.12126451 0.11978266]\n",
      " [0.34636872 0.4972067  0.15642458]\n",
      " [0.20200775 0.07537865 0.7226136 ]]\n"
     ]
    },
    {
     "data": {
      "image/png": "[encoded data removed]",
      "text/plain": [
       "<Figure size 432x288 with 2 Axes>"
      ]
     },
     "metadata": {
      "needs_background": "light"
     },
     "output_type": "display_data"
    }
   ],
   "source": [
    "disp = plot_confusion_matrix(rf_clf, X_test, y_test,\n",
    "                             display_labels=class_names,\n",
    "                             cmap=plt.cm.Blues,\n",
    "                             normalize='true',\n",
    "                             xticks_rotation='vertical')\n",
    "disp.ax_.set_title('Random Forest Classifier')\n",
    "\n",
    "print(disp.confusion_matrix)"
   ]
  },
  {
   "cell_type": "markdown",
   "metadata": {},
   "source": [
    "The true positive percentage of RF for 'non functional' and 'functional needs repair' improve from the DT models but the percentage for 'functional' label decreases."
   ]
  },
  {
   "cell_type": "code",
   "execution_count": 67,
   "metadata": {},
   "outputs": [
    {
     "name": "stdout",
     "output_type": "stream",
     "text": [
      "Training Data\n",
      "                         precision    recall  f1-score   support\n",
      "\n",
      "             functional       0.82      0.81      0.81     24161\n",
      "functional needs repair       0.84      0.90      0.87     24161\n",
      "         non functional       0.89      0.83      0.86     24161\n",
      "\n",
      "               accuracy                           0.85     72483\n",
      "              macro avg       0.85      0.85      0.85     72483\n",
      "           weighted avg       0.85      0.85      0.85     72483\n",
      "\n",
      "\n",
      "\n",
      "Testing Data\n",
      "                         precision    recall  f1-score   support\n",
      "\n",
      "             functional       0.80      0.76      0.78      8098\n",
      "functional needs repair       0.27      0.50      0.35      1074\n",
      "         non functional       0.78      0.72      0.75      5678\n",
      "\n",
      "               accuracy                           0.73     14850\n",
      "              macro avg       0.62      0.66      0.63     14850\n",
      "           weighted avg       0.76      0.73      0.74     14850\n",
      "\n"
     ]
    }
   ],
   "source": [
    "# Predicting target values with the model\n",
    "\n",
    "y_hat_train = rf_clf.predict(X_train)\n",
    "y_hat_test = rf_clf.predict(X_test)\n",
    "\n",
    "# Entering the testing scores into the dataframe\n",
    "enter_scores('Random Forest', y_test, y_hat_test)\n",
    "\n",
    "# Printing out the scores\n",
    "print('Training Data')\n",
    "print(classification_report(y_train, y_hat_train))\n",
    "print('\\n')\n",
    "print('Testing Data')\n",
    "print(classification_report(y_test, y_hat_test))"
   ]
  },
  {
   "cell_type": "markdown",
   "metadata": {},
   "source": [
    "The RF base model has the same training scores as the DT base model but better scores than DT final model. It also has slightly better testing scores than both DT models. \n",
    "\n",
    "Let's see if we narrow this gap by using the GridSearchCV. The hyperparameters we will tune with GridSearchCV are 'n_estimators', 'criterion', 'max_depth', 'min_samples_split', and 'min_samples_leaf'."
   ]
  },
  {
   "cell_type": "code",
   "execution_count": 68,
   "metadata": {},
   "outputs": [],
   "source": [
    "rf_param_grid = {\n",
    "    'n_estimators': [10, 30, 100],\n",
    "    'criterion': ['gini', 'entropy'],\n",
    "    'max_depth': [None, 2, 6, 10],\n",
    "    'min_samples_split': [2, 5, 10],\n",
    "    'min_samples_leaf': [1, 3, 6]\n",
    "}"
   ]
  },
  {
   "cell_type": "code",
   "execution_count": 69,
   "metadata": {},
   "outputs": [
    {
     "name": "stdout",
     "output_type": "stream",
     "text": [
      "Optimal Parameters: {'criterion': 'entropy', 'max_depth': None, 'min_samples_leaf': 1, 'min_samples_split': 5, 'n_estimators': 100}\n"
     ]
    }
   ],
   "source": [
    "rf_grid_search = GridSearchCV(rf_clf, rf_param_grid, cv=3)\n",
    "rf_grid_search.fit(X_train, y_train)\n",
    "\n",
    "print(f\"Optimal Parameters: {rf_grid_search.best_params_}\")"
   ]
  },
  {
   "cell_type": "code",
   "execution_count": 70,
   "metadata": {
    "scrolled": false
   },
   "outputs": [
    {
     "name": "stdout",
     "output_type": "stream",
     "text": [
      "[[0.76327488 0.11583107 0.12089405]\n",
      " [0.3556797  0.49162011 0.15270019]\n",
      " [0.2005988  0.07502642 0.72437478]]\n"
     ]
    },
    {
     "data": {
      "image/png": "[encoded data removed]",
      "text/plain": [
       "<Figure size 432x288 with 2 Axes>"
      ]
     },
     "metadata": {
      "needs_background": "light"
     },
     "output_type": "display_data"
    }
   ],
   "source": [
    "disp = plot_confusion_matrix(rf_grid_search, X_test, y_test,\n",
    "                             display_labels=class_names,\n",
    "                             cmap=plt.cm.Blues,\n",
    "                             normalize='true',\n",
    "                             xticks_rotation='vertical')\n",
    "disp.ax_.set_title('Random Forest Classifier with GridSearchCV')\n",
    "\n",
    "print(disp.confusion_matrix)"
   ]
  },
  {
   "cell_type": "markdown",
   "metadata": {},
   "source": [
    "By using the GridSearchCV, we increase the true positive percentage for 'functional' but lower the percentages for 'non functional' and 'functional needs repair' labels. "
   ]
  },
  {
   "cell_type": "code",
   "execution_count": 71,
   "metadata": {
    "scrolled": false
   },
   "outputs": [
    {
     "name": "stdout",
     "output_type": "stream",
     "text": [
      "Training Data\n",
      "                         precision    recall  f1-score   support\n",
      "\n",
      "             functional       0.81      0.81      0.81     24161\n",
      "functional needs repair       0.83      0.90      0.87     24161\n",
      "         non functional       0.89      0.82      0.86     24161\n",
      "\n",
      "               accuracy                           0.84     72483\n",
      "              macro avg       0.85      0.84      0.84     72483\n",
      "           weighted avg       0.85      0.84      0.84     72483\n",
      "\n",
      "\n",
      "\n",
      "Testing Data\n",
      "                         precision    recall  f1-score   support\n",
      "\n",
      "             functional       0.80      0.76      0.78      8098\n",
      "functional needs repair       0.28      0.49      0.36      1074\n",
      "         non functional       0.78      0.72      0.75      5678\n",
      "\n",
      "               accuracy                           0.73     14850\n",
      "              macro avg       0.62      0.66      0.63     14850\n",
      "           weighted avg       0.76      0.73      0.74     14850\n",
      "\n"
     ]
    }
   ],
   "source": [
    "# Predicting target values with the model\n",
    "\n",
    "y_hat_train = rf_grid_search.predict(X_train)\n",
    "y_hat_test = rf_grid_search.predict(X_test)\n",
    "\n",
    "# Entering the testing scores into the dataframe\n",
    "enter_scores('Random Forest_GS', y_test, y_hat_test)\n",
    "\n",
    "# Printing out the scores\n",
    "print('Training Data')\n",
    "print(classification_report(y_train, y_hat_train))\n",
    "print('\\n')\n",
    "print('Testing Data')\n",
    "print(classification_report(y_test, y_hat_test))"
   ]
  },
  {
   "cell_type": "markdown",
   "metadata": {},
   "source": [
    "With the optimal hyperparameters, all four scores for the training data decrease. However, the precision score for the testing data increases by only 1%. The other 3 scores decrease slightly."
   ]
  },
  {
   "cell_type": "markdown",
   "metadata": {},
   "source": [
    "### XGBoost"
   ]
  },
  {
   "cell_type": "markdown",
   "metadata": {},
   "source": [
    "Now we will move on to the eXtreme Gradient Boosting (XGBoost) method. First, we will start with the default hyperparameters to build the base model."
   ]
  },
  {
   "cell_type": "code",
   "execution_count": 72,
   "metadata": {},
   "outputs": [],
   "source": [
    "import xgboost as xgb\n",
    "from sklearn.metrics import accuracy_score"
   ]
  },
  {
   "cell_type": "code",
   "execution_count": 73,
   "metadata": {},
   "outputs": [
    {
     "data": {
      "text/plain": [
       "XGBClassifier(objective='multi:softprob')"
      ]
     },
     "execution_count": 73,
     "metadata": {},
     "output_type": "execute_result"
    }
   ],
   "source": [
    "xgb_clf = xgb.XGBClassifier()\n",
    "xgb_clf.fit(X_train, y_train)"
   ]
  },
  {
   "cell_type": "code",
   "execution_count": 74,
   "metadata": {
    "scrolled": true
   },
   "outputs": [
    {
     "name": "stdout",
     "output_type": "stream",
     "text": [
      "[[0.69251667 0.21289207 0.09459126]\n",
      " [0.29888268 0.5735568  0.12756052]\n",
      " [0.26822825 0.12433956 0.60743219]]\n"
     ]
    },
    {
     "data": {
      "image/png": "[encoded data removed]",
      "text/plain": [
       "<Figure size 432x288 with 2 Axes>"
      ]
     },
     "metadata": {
      "needs_background": "light"
     },
     "output_type": "display_data"
    }
   ],
   "source": [
    "disp = plot_confusion_matrix(xgb_clf, X_test, y_test,\n",
    "                             display_labels=class_names,\n",
    "                             cmap=plt.cm.Blues,\n",
    "                             normalize='true',\n",
    "                             xticks_rotation='vertical')\n",
    "disp.ax_.set_title('eXtreme Gradient Boosting')\n",
    "\n",
    "print(disp.confusion_matrix)"
   ]
  },
  {
   "cell_type": "markdown",
   "metadata": {},
   "source": [
    "The base XGBoost model has higher true positive percentage for 'functional' than the previous models but lower percentages for the two other labels."
   ]
  },
  {
   "cell_type": "code",
   "execution_count": 75,
   "metadata": {},
   "outputs": [
    {
     "name": "stdout",
     "output_type": "stream",
     "text": [
      "Training Data\n",
      "                         precision    recall  f1-score   support\n",
      "\n",
      "             functional       0.63      0.70      0.67     24161\n",
      "functional needs repair       0.69      0.75      0.72     24161\n",
      "         non functional       0.78      0.63      0.70     24161\n",
      "\n",
      "               accuracy                           0.69     72483\n",
      "              macro avg       0.70      0.69      0.69     72483\n",
      "           weighted avg       0.70      0.69      0.69     72483\n",
      "\n",
      "\n",
      "\n",
      "Testing Data\n",
      "                         precision    recall  f1-score   support\n",
      "\n",
      "             functional       0.75      0.69      0.72      8098\n",
      "functional needs repair       0.20      0.57      0.30      1074\n",
      "         non functional       0.79      0.61      0.69      5678\n",
      "\n",
      "               accuracy                           0.65     14850\n",
      "              macro avg       0.58      0.62      0.57     14850\n",
      "           weighted avg       0.73      0.65      0.68     14850\n",
      "\n"
     ]
    }
   ],
   "source": [
    "# Predicting target values with the model\n",
    "\n",
    "y_hat_train = xgb_clf.predict(X_train)\n",
    "y_hat_test = xgb_clf.predict(X_test)\n",
    "\n",
    "# Entering the testing scores into the dataframe\n",
    "enter_scores('XGBoost', y_test, y_hat_test)\n",
    "\n",
    "# Printing out the scores\n",
    "print('Training Data')\n",
    "print(classification_report(y_train, y_hat_train))\n",
    "print('\\n')\n",
    "print('Testing Data')\n",
    "print(classification_report(y_test, y_hat_test))"
   ]
  },
  {
   "cell_type": "markdown",
   "metadata": {},
   "source": [
    "All the scores for training and testing datasets generated by the XGBoost model is lower than the Random Forest model with optimal hyperparameters. As the next step, we use GridSearchCV to set 'learning_rate', 'max_depth', 'min_child_weight' and 'subsample' as the values shown below and tune the 'n_estimators' by increasing it from 5 to 250."
   ]
  },
  {
   "cell_type": "code",
   "execution_count": 76,
   "metadata": {},
   "outputs": [],
   "source": [
    "param_grid = {\n",
    "    \"learning_rate\": [0.1],\n",
    "    'max_depth': [6],\n",
    "    'min_child_weight': [10],\n",
    "    'subsample': [ 0.7],\n",
    "    'n_estimators': [5, 30, 100, 250],\n",
    "}"
   ]
  },
  {
   "cell_type": "code",
   "execution_count": 77,
   "metadata": {},
   "outputs": [
    {
     "name": "stdout",
     "output_type": "stream",
     "text": [
      "Optimal Parameters: {'learning_rate': 0.1, 'max_depth': 6, 'min_child_weight': 10, 'n_estimators': 250, 'subsample': 0.7}\n"
     ]
    }
   ],
   "source": [
    "grid_xgb = GridSearchCV(xgb_clf, param_grid, scoring='accuracy', cv=None, n_jobs=1)\n",
    "grid_xgb.fit(X_train, y_train)\n",
    "\n",
    "best_parameters = grid_xgb.best_params_\n",
    "\n",
    "print(f\"Optimal Parameters: {grid_xgb.best_params_}\")"
   ]
  },
  {
   "cell_type": "markdown",
   "metadata": {},
   "source": [
    "With the GridSearchCV, the optimal 'n_estimators' is 250."
   ]
  },
  {
   "cell_type": "code",
   "execution_count": 78,
   "metadata": {},
   "outputs": [
    {
     "name": "stdout",
     "output_type": "stream",
     "text": [
      "[[0.75092615 0.15275377 0.09632008]\n",
      " [0.31005587 0.56145251 0.12849162]\n",
      " [0.23423741 0.09175766 0.67400493]]\n"
     ]
    },
    {
     "data": {
      "image/png": "[encoded data removed]",
      "text/plain": [
       "<Figure size 432x288 with 2 Axes>"
      ]
     },
     "metadata": {
      "needs_background": "light"
     },
     "output_type": "display_data"
    }
   ],
   "source": [
    "disp = plot_confusion_matrix(grid_xgb, X_test, y_test,\n",
    "                             display_labels=class_names,\n",
    "                             cmap=plt.cm.Blues,\n",
    "                             normalize='true',\n",
    "                             xticks_rotation='vertical')\n",
    "disp.ax_.set_title('eXtreme Gradient Boosting with GridSearchCV')\n",
    "\n",
    "print(disp.confusion_matrix)"
   ]
  },
  {
   "cell_type": "markdown",
   "metadata": {},
   "source": [
    "By using the optimal hyperparameters, the true positive percentages for 'non functional' and 'functional needs repair' improves but the percentage for 'functional' decreases slightly. Let's see the scores next."
   ]
  },
  {
   "cell_type": "code",
   "execution_count": 79,
   "metadata": {},
   "outputs": [
    {
     "name": "stdout",
     "output_type": "stream",
     "text": [
      "Training Data\n",
      "                         precision    recall  f1-score   support\n",
      "\n",
      "             functional       0.73      0.77      0.75     24161\n",
      "functional needs repair       0.78      0.87      0.82     24161\n",
      "         non functional       0.85      0.72      0.78     24161\n",
      "\n",
      "               accuracy                           0.79     72483\n",
      "              macro avg       0.79      0.79      0.79     72483\n",
      "           weighted avg       0.79      0.79      0.79     72483\n",
      "\n",
      "\n",
      "\n",
      "Testing Data\n",
      "                         precision    recall  f1-score   support\n",
      "\n",
      "             functional       0.79      0.75      0.77      8098\n",
      "functional needs repair       0.26      0.56      0.35      1074\n",
      "         non functional       0.81      0.67      0.73      5678\n",
      "\n",
      "               accuracy                           0.71     14850\n",
      "              macro avg       0.62      0.66      0.62     14850\n",
      "           weighted avg       0.76      0.71      0.72     14850\n",
      "\n"
     ]
    }
   ],
   "source": [
    "# Predicting target values with the model\n",
    "\n",
    "y_hat_train = grid_xgb.predict(X_train)\n",
    "y_hat_test = grid_xgb.predict(X_test)\n",
    "\n",
    "# Entering the testing scores into the dataframe\n",
    "enter_scores('XGBoost_GS', y_test, y_hat_test)\n",
    "\n",
    "# Printing out the scores\n",
    "print('Training Data')\n",
    "print(classification_report(y_train, y_hat_train))\n",
    "print('\\n')\n",
    "print('Testing Data')\n",
    "print(classification_report(y_test, y_hat_test))"
   ]
  },
  {
   "cell_type": "markdown",
   "metadata": {},
   "source": [
    "By using the GridSearchCV, the scores for both training and testing datasets improved."
   ]
  },
  {
   "cell_type": "markdown",
   "metadata": {},
   "source": [
    "### Support Vector Machines (SVM)"
   ]
  },
  {
   "cell_type": "markdown",
   "metadata": {},
   "source": [
    "The next method we will try is Support Vector Machines (SVM) method. First, we will build the base model with the default hyperparameters."
   ]
  },
  {
   "cell_type": "code",
   "execution_count": 80,
   "metadata": {},
   "outputs": [
    {
     "data": {
      "text/plain": [
       "SVC(kernel='linear')"
      ]
     },
     "execution_count": 80,
     "metadata": {},
     "output_type": "execute_result"
    }
   ],
   "source": [
    "# Train a SVM classifier\n",
    "\n",
    "from sklearn import svm\n",
    "\n",
    "svm_clf = svm.SVC(kernel='linear')\n",
    "svm_clf.fit(X_train, y_train)"
   ]
  },
  {
   "cell_type": "code",
   "execution_count": 81,
   "metadata": {},
   "outputs": [
    {
     "name": "stdout",
     "output_type": "stream",
     "text": [
      "[[0.62509262 0.30204989 0.0728575 ]\n",
      " [0.23277467 0.68063315 0.08659218]\n",
      " [0.25466714 0.18756604 0.55776682]]\n"
     ]
    },
    {
     "data": {
      "image/png": "[encoded data removed]",
      "text/plain": [
       "<Figure size 432x288 with 2 Axes>"
      ]
     },
     "metadata": {
      "needs_background": "light"
     },
     "output_type": "display_data"
    }
   ],
   "source": [
    "disp = plot_confusion_matrix(svm_clf, X_test, y_test,\n",
    "                             display_labels=class_names,\n",
    "                             cmap=plt.cm.Blues,\n",
    "                             normalize='true',\n",
    "                             xticks_rotation='vertical')\n",
    "disp.ax_.set_title('Support Vector Machines')\n",
    "\n",
    "print(disp.confusion_matrix)"
   ]
  },
  {
   "cell_type": "markdown",
   "metadata": {},
   "source": [
    "So far, the SVM base model gives us the best true positive percentage for 'functional' (68%). However, the percentages for the two other labels dropped."
   ]
  },
  {
   "cell_type": "code",
   "execution_count": 82,
   "metadata": {},
   "outputs": [
    {
     "name": "stdout",
     "output_type": "stream",
     "text": [
      "Training Data\n",
      "                         precision    recall  f1-score   support\n",
      "\n",
      "             functional       0.56      0.64      0.60     24161\n",
      "functional needs repair       0.59      0.68      0.63     24161\n",
      "         non functional       0.80      0.57      0.67     24161\n",
      "\n",
      "               accuracy                           0.63     72483\n",
      "              macro avg       0.65      0.63      0.63     72483\n",
      "           weighted avg       0.65      0.63      0.63     72483\n",
      "\n",
      "\n",
      "\n",
      "Testing Data\n",
      "                         precision    recall  f1-score   support\n",
      "\n",
      "             functional       0.75      0.63      0.68      8098\n",
      "functional needs repair       0.17      0.68      0.28      1074\n",
      "         non functional       0.82      0.56      0.66      5678\n",
      "\n",
      "               accuracy                           0.60     14850\n",
      "              macro avg       0.58      0.62      0.54     14850\n",
      "           weighted avg       0.74      0.60      0.65     14850\n",
      "\n"
     ]
    }
   ],
   "source": [
    "# Predicting target values with the model\n",
    "\n",
    "y_hat_train = svm_clf.predict(X_train)\n",
    "y_hat_test = svm_clf.predict(X_test)\n",
    "\n",
    "# Entering the testing scores into the dataframe\n",
    "enter_scores('SVM', y_test, y_hat_test)\n",
    "\n",
    "# Printing out the scores\n",
    "print('Training Data')\n",
    "print(classification_report(y_train, y_hat_train))\n",
    "print('\\n')\n",
    "print('Testing Data')\n",
    "print(classification_report(y_test, y_hat_test))"
   ]
  },
  {
   "cell_type": "markdown",
   "metadata": {},
   "source": [
    "The SVM base model has lower scores for both training and testing datasets as compared to both RF models. Let's try the GridSearchCV next."
   ]
  },
  {
   "cell_type": "markdown",
   "metadata": {},
   "source": [
    "# Model Selection"
   ]
  },
  {
   "cell_type": "markdown",
   "metadata": {},
   "source": [
    "Since we have constructed multiple classfication models, we can now compare their performance metrics altogether. In this comparison, we will use the F1 and Accuracy as our primary metrics. Accuracy tells us the total number of predictions a model gets right and F-1 tells us the harmonic mean of Precision and Recall.\n",
    "\n",
    "Let's print 'scores_df' where we entered our model scores and sort it by F1."
   ]
  },
  {
   "cell_type": "code",
   "execution_count": 83,
   "metadata": {
    "scrolled": false
   },
   "outputs": [
    {
     "data": {
      "text/html": [
       "<div>\n",
       "<style scoped>\n",
       "    .dataframe tbody tr th:only-of-type {\n",
       "        vertical-align: middle;\n",
       "    }\n",
       "\n",
       "    .dataframe tbody tr th {\n",
       "        vertical-align: top;\n",
       "    }\n",
       "\n",
       "    .dataframe thead th {\n",
       "        text-align: right;\n",
       "    }\n",
       "</style>\n",
       "<table border=\"1\" class=\"dataframe\">\n",
       "  <thead>\n",
       "    <tr style=\"text-align: right;\">\n",
       "      <th></th>\n",
       "      <th>Model</th>\n",
       "      <th>Precision</th>\n",
       "      <th>Recall</th>\n",
       "      <th>Accuracy</th>\n",
       "      <th>F1</th>\n",
       "    </tr>\n",
       "  </thead>\n",
       "  <tbody>\n",
       "    <tr>\n",
       "      <th>5</th>\n",
       "      <td>Random Forest_GS</td>\n",
       "      <td>0.757020</td>\n",
       "      <td>0.728754</td>\n",
       "      <td>0.728754</td>\n",
       "      <td>0.740070</td>\n",
       "    </tr>\n",
       "    <tr>\n",
       "      <th>4</th>\n",
       "      <td>Random Forest</td>\n",
       "      <td>0.756453</td>\n",
       "      <td>0.726128</td>\n",
       "      <td>0.726128</td>\n",
       "      <td>0.738189</td>\n",
       "    </tr>\n",
       "    <tr>\n",
       "      <th>7</th>\n",
       "      <td>XGBoost_GS</td>\n",
       "      <td>0.755069</td>\n",
       "      <td>0.707811</td>\n",
       "      <td>0.707811</td>\n",
       "      <td>0.724816</td>\n",
       "    </tr>\n",
       "    <tr>\n",
       "      <th>3</th>\n",
       "      <td>Decision Tree_GS</td>\n",
       "      <td>0.747335</td>\n",
       "      <td>0.706801</td>\n",
       "      <td>0.706801</td>\n",
       "      <td>0.722288</td>\n",
       "    </tr>\n",
       "    <tr>\n",
       "      <th>2</th>\n",
       "      <td>Decision Tree</td>\n",
       "      <td>0.744139</td>\n",
       "      <td>0.705859</td>\n",
       "      <td>0.705859</td>\n",
       "      <td>0.720656</td>\n",
       "    </tr>\n",
       "    <tr>\n",
       "      <th>0</th>\n",
       "      <td>KNN</td>\n",
       "      <td>0.730554</td>\n",
       "      <td>0.703165</td>\n",
       "      <td>0.703165</td>\n",
       "      <td>0.713880</td>\n",
       "    </tr>\n",
       "    <tr>\n",
       "      <th>1</th>\n",
       "      <td>KNN_GS</td>\n",
       "      <td>0.730554</td>\n",
       "      <td>0.703165</td>\n",
       "      <td>0.703165</td>\n",
       "      <td>0.713880</td>\n",
       "    </tr>\n",
       "    <tr>\n",
       "      <th>6</th>\n",
       "      <td>XGBoost</td>\n",
       "      <td>0.728028</td>\n",
       "      <td>0.651380</td>\n",
       "      <td>0.651380</td>\n",
       "      <td>0.677919</td>\n",
       "    </tr>\n",
       "    <tr>\n",
       "      <th>8</th>\n",
       "      <td>SVM</td>\n",
       "      <td>0.735454</td>\n",
       "      <td>0.603367</td>\n",
       "      <td>0.603367</td>\n",
       "      <td>0.645695</td>\n",
       "    </tr>\n",
       "  </tbody>\n",
       "</table>\n",
       "</div>"
      ],
      "text/plain": [
       "              Model  Precision    Recall  Accuracy        F1\n",
       "5  Random Forest_GS   0.757020  0.728754  0.728754  0.740070\n",
       "4     Random Forest   0.756453  0.726128  0.726128  0.738189\n",
       "7        XGBoost_GS   0.755069  0.707811  0.707811  0.724816\n",
       "3  Decision Tree_GS   0.747335  0.706801  0.706801  0.722288\n",
       "2     Decision Tree   0.744139  0.705859  0.705859  0.720656\n",
       "0               KNN   0.730554  0.703165  0.703165  0.713880\n",
       "1            KNN_GS   0.730554  0.703165  0.703165  0.713880\n",
       "6           XGBoost   0.728028  0.651380  0.651380  0.677919\n",
       "8               SVM   0.735454  0.603367  0.603367  0.645695"
      ]
     },
     "execution_count": 83,
     "metadata": {},
     "output_type": "execute_result"
    }
   ],
   "source": [
    "scores_df.sort_values('F1', ascending=False)"
   ]
  },
  {
   "cell_type": "markdown",
   "metadata": {},
   "source": [
    "As we can see, the Random Forest Model with the hyperparameters selected by the GridSearchCV has the highest Accuracy and F1 scores. Let's plot a bar graph so that we can visualize and compare the scores."
   ]
  },
  {
   "cell_type": "code",
   "execution_count": 84,
   "metadata": {},
   "outputs": [
    {
     "data": {
      "text/plain": [
       "Text(0.5, 1.0, 'Metrics Comparison between Classifiers')"
      ]
     },
     "execution_count": 84,
     "metadata": {},
     "output_type": "execute_result"
    },
    {
     "data": {
      "image/png": "[encoded data removed]",
      "text/plain": [
       "<Figure size 720x720 with 1 Axes>"
      ]
     },
     "metadata": {
      "needs_background": "light"
     },
     "output_type": "display_data"
    }
   ],
   "source": [
    "scores_df.plot(x='Model', kind='barh', figsize=(10,10), grid=True)\n",
    "plt.legend(loc='center left', bbox_to_anchor=(1.0, 0.5))\n",
    "plt.xlabel('Scores')\n",
    "plt.title('Metrics Comparison between Classifiers',fontweight=\"bold\")"
   ]
  },
  {
   "cell_type": "markdown",
   "metadata": {},
   "source": [
    "As per the plot, some of the model performaces are fairly close but the Random Forest Classifier with GridSearchCV has the overall highest scores. The Accuracy and F1 scores around 70% is not great but it is signficantly better than 33% of randomly selecting between 3 labels.\n",
    "\n",
    "Another important point that we have to draw our attention here is the recall score of 'functional needs repair' and 'non functional' labels of each model. The recall score is vital it tells us the proportion of actual positives that was identified correctly by our model. In other words, it tells us our model's ability to accurately predict the percentages of water wells that are either functional but needs repair, or non functional. If our model has good recall scores for these two labels, the Tanzanian Ministry of Water can use it in this water well maintenance efforts. By focusing on the recall, we might be compromising the accuracy scores of these two labels. Accuracy tell us the proportion of positive identifications by our model that is actually correct. However, it is quite okay to compromise accuracy here for better recall scores because it will be more detrimental to have a non-functional or a water well that needs repairs identified as functional. In this case, the people who use this particular water well will be out of clean water. On the other hand, if a functional water well is predicted as non-functional or needs repair, it will just waste some of the maintanence team's time to check if the water well is as predicted. \n",
    "\n",
    "The Random Tree Classifier with GridSearchCV has recall scores of 0.5 for 'functional needs repair' and 0.71 for 'non functional'. There are some models such as XGBoost and SVM which have higher recall scores for 'functional needs repair' label but the Random Tree Classifier with GridSearchCV model has the highest recall score for 'non functional'. Therefore, we will select the Random Tree Classifier with GridSearchCV as our model since it has the highest accuracy, f1 and the recall score for 'non functional' label."
   ]
  },
  {
   "cell_type": "markdown",
   "metadata": {},
   "source": [
    "# Interpretting the Model"
   ]
  },
  {
   "cell_type": "markdown",
   "metadata": {},
   "source": [
    "As the next step, we will interpret our Random Forest Classifier by looking at the 5 features with the highest importance. We will find out which features have the highest importance by using 'feature_importances_' attribute of the classifier."
   ]
  },
  {
   "cell_type": "code",
   "execution_count": 85,
   "metadata": {},
   "outputs": [
    {
     "data": {
      "text/plain": [
       "quantity_enough                     0.058033\n",
       "quantity_insufficient               0.046974\n",
       "population                          0.044102\n",
       "permit_True                         0.042188\n",
       "construction_year                   0.039732\n",
       "                                      ...   \n",
       "source_unknown                      0.000465\n",
       "management_other - school           0.000241\n",
       "water_quality_fluoride abandoned    0.000142\n",
       "waterpoint_type_group_dam           0.000012\n",
       "num_private                         0.000000\n",
       "Length: 81, dtype: float64"
      ]
     },
     "execution_count": 85,
     "metadata": {},
     "output_type": "execute_result"
    }
   ],
   "source": [
    "# Create a series with descending feature importance\n",
    "\n",
    "feature_imp = pd.Series(rf_grid_search.best_estimator_.feature_importances_,index=X_train.columns).sort_values(ascending=False)\n",
    "feature_imp"
   ]
  },
  {
   "cell_type": "markdown",
   "metadata": {},
   "source": [
    "Next, we will create two horizontal bar charts - one with all the features and another with just the top 5 features. These plots will help us visualize the importances of the features."
   ]
  },
  {
   "cell_type": "code",
   "execution_count": 86,
   "metadata": {},
   "outputs": [
    {
     "data": {
      "image/png": "[encoded data removed]",
      "text/plain": [
       "<Figure size 2160x2160 with 1 Axes>"
      ]
     },
     "metadata": {
      "needs_background": "light"
     },
     "output_type": "display_data"
    }
   ],
   "source": [
    "# Creating a bar plot with all the features\n",
    "plt.figure(figsize=(30,30))\n",
    "sns.barplot(x=feature_imp, y=feature_imp.index)\n",
    "plt.xlabel('Feature Importance Score')\n",
    "plt.ylabel('Features')\n",
    "plt.title(\"Visualizing Important Features\")\n",
    "plt.show()"
   ]
  },
  {
   "cell_type": "code",
   "execution_count": 87,
   "metadata": {},
   "outputs": [
    {
     "data": {
      "image/png": "[encoded data removed]",
      "text/plain": [
       "<Figure size 576x288 with 1 Axes>"
      ]
     },
     "metadata": {
      "needs_background": "light"
     },
     "output_type": "display_data"
    }
   ],
   "source": [
    "# Creating a series with the top 5 features\n",
    "top_5 = feature_imp[0:5]\n",
    "\n",
    "# Creating a bar plot with the top 5 features\n",
    "plt.figure(figsize=(8,4))\n",
    "sns.barplot(x=top_5, y=top_5.index)\n",
    "plt.xlabel('Feature Importance Score')\n",
    "plt.ylabel('Features')\n",
    "plt.title(\"Visualizing Top 5 Important Features\")\n",
    "plt.show()"
   ]
  },
  {
   "cell_type": "markdown",
   "metadata": {},
   "source": [
    "As per the chart above, top 5 features with highest importances are 'quantity_enough', 'quantity_insufficient', 'population', 'permit_True' and 'construction_year'. Let's dive into each feature and see if it makes sense in predicting the status of the water well.\n",
    "\n",
    "- Quantity_enough: This binary feature tells us if the water well has sufficient water quantity. It is logical that this feature is a estimator of the status of the water well.\n",
    "- Quantity_insufficient: This binary feature tells us if the water well has insufficient water quality. Similar to the above, it is a good estimator of the status of the water well.\n",
    "- Population: This feature indicates the size of the population that is accessible to the water well. This feature makes sense in a way that if a larger population is using a water well, it will be subject to more wear and tear.\n",
    "- Permit: This feature tells us if the water well has a permit. A water well with a permit will be more likely to have regular maintanence than one without a permit. Thus, it is a reasonable estimator of the status of the water well.\n",
    "- Construction Year: This feature shows us the year in which the water well was built. The older water well has a higher chance of being non-functional or in need of repair. So, this also makes sense."
   ]
  },
  {
   "cell_type": "markdown",
   "metadata": {},
   "source": [
    "# Reconstructing the Model with Top 5 Features"
   ]
  },
  {
   "cell_type": "markdown",
   "metadata": {},
   "source": [
    "What if if we use just the top 5 features to re-construct the Random Forest Classifier with its optimal hyperparameters. Can we improve our scores by doing so? Let's see."
   ]
  },
  {
   "cell_type": "code",
   "execution_count": 88,
   "metadata": {},
   "outputs": [],
   "source": [
    "# Creating new datasets with top 5 features\n",
    "X_train2 = X_train.filter(['quantity_enough','quantity_insufficient','population','permit_True','construction_year'], axis=1)\n",
    "X_test2 = X_test.filter(['quantity_enough','quantity_insufficient','population','permit_True','construction_year'], axis=1)"
   ]
  },
  {
   "cell_type": "code",
   "execution_count": 89,
   "metadata": {},
   "outputs": [
    {
     "data": {
      "text/plain": [
       "RandomForestClassifier(min_samples_split=5, random_state=123)"
      ]
     },
     "execution_count": 89,
     "metadata": {},
     "output_type": "execute_result"
    }
   ],
   "source": [
    "# Fiting the new datasets with a RF classifier using the optimal hyperparameters\n",
    "rf_clf2 = RandomForestClassifier(random_state=123, criterion='gini', max_depth=None, min_samples_leaf=1,\n",
    "                                 min_samples_split=5, n_estimators=100)\n",
    "rf_clf2.fit(X_train2, y_train)"
   ]
  },
  {
   "cell_type": "code",
   "execution_count": 90,
   "metadata": {},
   "outputs": [
    {
     "name": "stdout",
     "output_type": "stream",
     "text": [
      "[[0.61126204 0.24611015 0.14262781]\n",
      " [0.45065177 0.35009311 0.19925512]\n",
      " [0.33233533 0.22032406 0.44734061]]\n"
     ]
    },
    {
     "data": {
      "image/png": "[encoded data removed]",
      "text/plain": [
       "<Figure size 432x288 with 2 Axes>"
      ]
     },
     "metadata": {
      "needs_background": "light"
     },
     "output_type": "display_data"
    }
   ],
   "source": [
    "# Plotting the confusion matrix\n",
    "disp = plot_confusion_matrix(rf_clf2, X_test2, y_test,\n",
    "                             display_labels=class_names,\n",
    "                             cmap=plt.cm.Blues,\n",
    "                             normalize='true',\n",
    "                             xticks_rotation='vertical')\n",
    "disp.ax_.set_title('Random Forest Classifier with GridSearchCV')\n",
    "\n",
    "print(disp.confusion_matrix)"
   ]
  },
  {
   "cell_type": "markdown",
   "metadata": {},
   "source": [
    "In comparison to the classifier that uses the original data, this top 5 features classifier has lower true positive percentages for all 3 labels.\n",
    "\n",
    "What about the scores?"
   ]
  },
  {
   "cell_type": "code",
   "execution_count": 91,
   "metadata": {},
   "outputs": [
    {
     "name": "stdout",
     "output_type": "stream",
     "text": [
      "Training Data\n",
      "                         precision    recall  f1-score   support\n",
      "\n",
      "             functional       0.48      0.62      0.54     24161\n",
      "functional needs repair       0.53      0.51      0.52     24161\n",
      "         non functional       0.64      0.48      0.55     24161\n",
      "\n",
      "               accuracy                           0.54     72483\n",
      "              macro avg       0.55      0.54      0.54     72483\n",
      "           weighted avg       0.55      0.54      0.54     72483\n",
      "\n",
      "\n",
      "\n",
      "Testing Data\n",
      "                         precision    recall  f1-score   support\n",
      "\n",
      "             functional       0.68      0.61      0.64      8098\n",
      "functional needs repair       0.10      0.35      0.16      1074\n",
      "         non functional       0.65      0.45      0.53      5678\n",
      "\n",
      "               accuracy                           0.53     14850\n",
      "              macro avg       0.48      0.47      0.44     14850\n",
      "           weighted avg       0.62      0.53      0.56     14850\n",
      "\n"
     ]
    }
   ],
   "source": [
    "# Predicting target values with the model\n",
    "\n",
    "y_hat_train = rf_clf2.predict(X_train2)\n",
    "y_hat_test = rf_clf2.predict(X_test2)\n",
    "\n",
    "# Entering the testing scores into the dataframe\n",
    "enter_scores('Random Forest2_GS', y_test, y_hat_test)\n",
    "\n",
    "# Printing out the scores\n",
    "print('Training Data')\n",
    "print(classification_report(y_train, y_hat_train))\n",
    "print('\\n')\n",
    "print('Testing Data')\n",
    "print(classification_report(y_test, y_hat_test))"
   ]
  },
  {
   "cell_type": "markdown",
   "metadata": {},
   "source": [
    "The scores for both training and testing datasets also decreased. This proves that other features, although they may not be in the top 5, are still vital for our model. Therefore, we will stick to original to train our model."
   ]
  },
  {
   "cell_type": "markdown",
   "metadata": {},
   "source": [
    "# Reconstructing the Model with the Entire Training Dataset"
   ]
  },
  {
   "cell_type": "markdown",
   "metadata": {},
   "source": [
    "As you might recall, there were originally two datasets - training and testing. The former has both estimator and target variables but the latter only has the estimator variables. Therefore, we couldn't use the testing dataset to calculate our models' performance metrics. So, we split the training dataset into a training and a testing dataset.\n",
    "\n",
    "Now, we know which model performs the best. What if we use the entire original training dataset to re-fit this model? Maybe, we can improve its performance metrics.\n",
    "\n",
    "Please note that our 'X_train' and 'X_test' datasets have been scrubbed for missing, filler and outlier values. Our next step is to check if 'X_test' and 'y_test' have the class imbalance problem."
   ]
  },
  {
   "cell_type": "code",
   "execution_count": 92,
   "metadata": {},
   "outputs": [
    {
     "data": {
      "text/plain": [
       "functional                 0.545320\n",
       "non functional             0.382357\n",
       "functional needs repair    0.072323\n",
       "Name: status_group, dtype: float64"
      ]
     },
     "execution_count": 92,
     "metadata": {},
     "output_type": "execute_result"
    }
   ],
   "source": [
    "# Checking if there is a class imbalance problem\n",
    "y_test['status_group'].value_counts(normalize=True)"
   ]
  },
  {
   "cell_type": "markdown",
   "metadata": {},
   "source": [
    "As we can see, the 'X_test' and 'y_test' datasets have the imbalanced classes. We will use SMOTE to fix this problem."
   ]
  },
  {
   "cell_type": "code",
   "execution_count": 93,
   "metadata": {},
   "outputs": [
    {
     "data": {
      "text/plain": [
       "non functional             0.333333\n",
       "functional                 0.333333\n",
       "functional needs repair    0.333333\n",
       "Name: status_group, dtype: float64"
      ]
     },
     "execution_count": 93,
     "metadata": {},
     "output_type": "execute_result"
    }
   ],
   "source": [
    "smote = SMOTE()\n",
    "X_test, y_test= smote.fit_resample(X_test, y_test)\n",
    "\n",
    "y_test['status_group'].value_counts(normalize=True)"
   ]
  },
  {
   "cell_type": "markdown",
   "metadata": {},
   "source": [
    "Great! The class imbalance problem is now fixed. As the next step, we will combine 'X_train' and 'X_test', and 'y_train' and 'y_test' to re-create the original training dataset."
   ]
  },
  {
   "cell_type": "code",
   "execution_count": 94,
   "metadata": {},
   "outputs": [],
   "source": [
    "X_2 = pd.concat([X_train, X_test])\n",
    "y_2 = pd.concat([y_train, y_test])"
   ]
  },
  {
   "cell_type": "markdown",
   "metadata": {},
   "source": [
    "Next, we can use this combine datasets to refit our Random Forest Classifier with its optimal hyperparameters. This will be our final model."
   ]
  },
  {
   "cell_type": "code",
   "execution_count": 95,
   "metadata": {},
   "outputs": [
    {
     "data": {
      "text/plain": [
       "RandomForestClassifier(min_samples_split=5, random_state=123)"
      ]
     },
     "execution_count": 95,
     "metadata": {},
     "output_type": "execute_result"
    }
   ],
   "source": [
    "# Fiting the RF classifier with the entire training dataset\n",
    "rf_clf3 = RandomForestClassifier(random_state=123, criterion='gini', max_depth=None, min_samples_leaf=1,\n",
    "                                 min_samples_split=5, n_estimators=100)\n",
    "rf_clf3.fit(X_2, y_2)"
   ]
  },
  {
   "cell_type": "markdown",
   "metadata": {},
   "source": [
    "# Predictions"
   ]
  },
  {
   "cell_type": "markdown",
   "metadata": {},
   "source": [
    "Now that we have our final model, we can move on to generate predictions based on the actual test dataset provided by the source. But first, we have to clean up this dataset as we did with our training dataset."
   ]
  },
  {
   "cell_type": "code",
   "execution_count": 96,
   "metadata": {},
   "outputs": [],
   "source": [
    "# Creating a dataframe of the original test values\n",
    "test_values = pd.read_csv('TestSetValues.csv', index_col='id')"
   ]
  },
  {
   "cell_type": "code",
   "execution_count": 97,
   "metadata": {},
   "outputs": [
    {
     "data": {
      "text/plain": [
       "17"
      ]
     },
     "execution_count": 97,
     "metadata": {},
     "output_type": "execute_result"
    }
   ],
   "source": [
    "# Dropping the irrelevant and duplicated features\n",
    "test_values = test_values.drop(columns=['scheme_management', 'scheme_name', 'management_group', 'extraction_type', \n",
    "                                        'extraction_type_group', 'payment', 'quality_group', 'quantity_group', 'source_type', \n",
    "                                        'source_class', 'waterpoint_type', 'installer', 'longitude', 'latitude', 'subvillage', \n",
    "                                        'lga', 'ward', 'region_code', 'date_recorded', 'funder', 'wpt_name', 'recorded_by'],\n",
    "                                         axis=1)\n",
    "\n",
    "# checking the remaining number of columns\n",
    "len(test_values.columns)"
   ]
  },
  {
   "cell_type": "code",
   "execution_count": 98,
   "metadata": {},
   "outputs": [
    {
     "data": {
      "text/html": [
       "<div>\n",
       "<style scoped>\n",
       "    .dataframe tbody tr th:only-of-type {\n",
       "        vertical-align: middle;\n",
       "    }\n",
       "\n",
       "    .dataframe tbody tr th {\n",
       "        vertical-align: top;\n",
       "    }\n",
       "\n",
       "    .dataframe thead th {\n",
       "        text-align: right;\n",
       "    }\n",
       "</style>\n",
       "<table border=\"1\" class=\"dataframe\">\n",
       "  <thead>\n",
       "    <tr style=\"text-align: right;\">\n",
       "      <th></th>\n",
       "      <th>amount_tsh</th>\n",
       "      <th>gps_height</th>\n",
       "      <th>num_private</th>\n",
       "      <th>district_code</th>\n",
       "      <th>population</th>\n",
       "      <th>construction_year</th>\n",
       "    </tr>\n",
       "  </thead>\n",
       "  <tbody>\n",
       "    <tr>\n",
       "      <th>count</th>\n",
       "      <td>14850.000000</td>\n",
       "      <td>14850.000000</td>\n",
       "      <td>14850.0</td>\n",
       "      <td>14850.000000</td>\n",
       "      <td>14850.000000</td>\n",
       "      <td>14850.000000</td>\n",
       "    </tr>\n",
       "    <tr>\n",
       "      <th>mean</th>\n",
       "      <td>15.189609</td>\n",
       "      <td>655.147609</td>\n",
       "      <td>0.0</td>\n",
       "      <td>5.626397</td>\n",
       "      <td>129.081751</td>\n",
       "      <td>1289.708350</td>\n",
       "    </tr>\n",
       "    <tr>\n",
       "      <th>std</th>\n",
       "      <td>25.353870</td>\n",
       "      <td>691.261185</td>\n",
       "      <td>0.0</td>\n",
       "      <td>9.673842</td>\n",
       "      <td>178.869536</td>\n",
       "      <td>955.241087</td>\n",
       "    </tr>\n",
       "    <tr>\n",
       "      <th>min</th>\n",
       "      <td>0.000000</td>\n",
       "      <td>-57.000000</td>\n",
       "      <td>0.0</td>\n",
       "      <td>0.000000</td>\n",
       "      <td>0.000000</td>\n",
       "      <td>0.000000</td>\n",
       "    </tr>\n",
       "    <tr>\n",
       "      <th>25%</th>\n",
       "      <td>0.000000</td>\n",
       "      <td>0.000000</td>\n",
       "      <td>0.0</td>\n",
       "      <td>2.000000</td>\n",
       "      <td>0.000000</td>\n",
       "      <td>0.000000</td>\n",
       "    </tr>\n",
       "    <tr>\n",
       "      <th>50%</th>\n",
       "      <td>0.000000</td>\n",
       "      <td>344.000000</td>\n",
       "      <td>0.0</td>\n",
       "      <td>3.000000</td>\n",
       "      <td>20.000000</td>\n",
       "      <td>1986.000000</td>\n",
       "    </tr>\n",
       "    <tr>\n",
       "      <th>75%</th>\n",
       "      <td>25.000000</td>\n",
       "      <td>1308.000000</td>\n",
       "      <td>0.0</td>\n",
       "      <td>5.000000</td>\n",
       "      <td>220.000000</td>\n",
       "      <td>2004.000000</td>\n",
       "    </tr>\n",
       "    <tr>\n",
       "      <th>max</th>\n",
       "      <td>62.500000</td>\n",
       "      <td>2777.000000</td>\n",
       "      <td>0.0</td>\n",
       "      <td>80.000000</td>\n",
       "      <td>550.000000</td>\n",
       "      <td>2013.000000</td>\n",
       "    </tr>\n",
       "  </tbody>\n",
       "</table>\n",
       "</div>"
      ],
      "text/plain": [
       "         amount_tsh    gps_height  num_private  district_code    population  \\\n",
       "count  14850.000000  14850.000000      14850.0   14850.000000  14850.000000   \n",
       "mean      15.189609    655.147609          0.0       5.626397    129.081751   \n",
       "std       25.353870    691.261185          0.0       9.673842    178.869536   \n",
       "min        0.000000    -57.000000          0.0       0.000000      0.000000   \n",
       "25%        0.000000      0.000000          0.0       2.000000      0.000000   \n",
       "50%        0.000000    344.000000          0.0       3.000000     20.000000   \n",
       "75%       25.000000   1308.000000          0.0       5.000000    220.000000   \n",
       "max       62.500000   2777.000000          0.0      80.000000    550.000000   \n",
       "\n",
       "       construction_year  \n",
       "count       14850.000000  \n",
       "mean         1289.708350  \n",
       "std           955.241087  \n",
       "min             0.000000  \n",
       "25%             0.000000  \n",
       "50%          1986.000000  \n",
       "75%          2004.000000  \n",
       "max          2013.000000  "
      ]
     },
     "execution_count": 98,
     "metadata": {},
     "output_type": "execute_result"
    }
   ],
   "source": [
    "# Calculating the lower and upper range values\n",
    "\n",
    "Q1 = test_values.quantile(0.25)\n",
    "Q3 = test_values.quantile(0.75)\n",
    "IQR = Q3 - Q1\n",
    "lower_range = Q1-(1.5*IQR)\n",
    "upper_range = Q3+(1.5*IQR)\n",
    "\n",
    "# Replacing the outliers with lower and upper range values\n",
    "\n",
    "for col in cont_col:\n",
    "    test_values[col] = test_values[col].map(lambda x: upper_range[col] if x > upper_range[col] else x)\n",
    "    test_values[col] = test_values[col].map(lambda x: lower_range[col] if x < lower_range[col] else x)\n",
    "\n",
    "# Checking if the outliers have been dropped\n",
    "\n",
    "test_values.describe()"
   ]
  },
  {
   "cell_type": "code",
   "execution_count": 99,
   "metadata": {},
   "outputs": [
    {
     "data": {
      "text/plain": [
       "amount_tsh                 0\n",
       "gps_height                 0\n",
       "num_private                0\n",
       "basin                      0\n",
       "region                     0\n",
       "district_code              0\n",
       "population                 0\n",
       "public_meeting           821\n",
       "permit                   737\n",
       "construction_year          0\n",
       "extraction_type_class      0\n",
       "management                 0\n",
       "payment_type               0\n",
       "water_quality              0\n",
       "quantity                   0\n",
       "source                     0\n",
       "waterpoint_type_group      0\n",
       "dtype: int64"
      ]
     },
     "execution_count": 99,
     "metadata": {},
     "output_type": "execute_result"
    }
   ],
   "source": [
    "# Checking missing values\n",
    "test_values.isna().sum()"
   ]
  },
  {
   "cell_type": "code",
   "execution_count": 100,
   "metadata": {},
   "outputs": [
    {
     "name": "stdout",
     "output_type": "stream",
     "text": [
      "amount_tsh \n",
      " 0.0     0.701010\n",
      "62.5    0.188956\n",
      "50.0    0.042492\n",
      "20.0    0.023502\n",
      "10.0    0.012727\n",
      "Name: amount_tsh, dtype: float64 \n",
      "\n",
      "\n",
      "gps_height \n",
      "  0       0.350909\n",
      "-19      0.001212\n",
      " 1294    0.001212\n",
      " 1343    0.001212\n",
      " 1283    0.001145\n",
      "Name: gps_height, dtype: float64 \n",
      "\n",
      "\n",
      "num_private \n",
      " 0.0    1.0\n",
      "Name: num_private, dtype: float64 \n",
      "\n",
      "\n",
      "basin \n",
      " Lake Victoria      0.176633\n",
      "Pangani            0.148350\n",
      "Rufiji             0.135421\n",
      "Internal           0.125051\n",
      "Lake Tanganyika    0.109091\n",
      "Name: basin, dtype: float64 \n",
      "\n",
      "\n",
      "region \n",
      " Shinyanga      0.088283\n",
      "Iringa         0.087879\n",
      "Mbeya          0.075354\n",
      "Kilimanjaro    0.075084\n",
      "Morogoro       0.069495\n",
      "Name: region, dtype: float64 \n",
      "\n",
      "\n",
      "district_code \n",
      " 1    0.208485\n",
      "2    0.185589\n",
      "3    0.169899\n",
      "4    0.151785\n",
      "5    0.072189\n",
      "Name: district_code, dtype: float64 \n",
      "\n",
      "\n",
      "population \n",
      " 0.0      0.367205\n",
      "1.0      0.118316\n",
      "550.0    0.073266\n",
      "150.0    0.029360\n",
      "200.0    0.028956\n",
      "Name: population, dtype: float64 \n",
      "\n",
      "\n",
      "public_meeting \n",
      " True     0.907976\n",
      "False    0.092024\n",
      "Name: public_meeting, dtype: float64 \n",
      "\n",
      "\n",
      "permit \n",
      " True     0.691136\n",
      "False    0.308864\n",
      "Name: permit, dtype: float64 \n",
      "\n",
      "\n",
      "construction_year \n",
      " 0       0.354209\n",
      "2010    0.045051\n",
      "2009    0.044646\n",
      "2008    0.042424\n",
      "2000    0.032795\n",
      "Name: construction_year, dtype: float64 \n",
      "\n",
      "\n",
      "extraction_type_class \n",
      " gravity        0.436566\n",
      "handpump       0.279865\n",
      "other          0.112593\n",
      "submersible    0.107273\n",
      "motorpump      0.053199\n",
      "Name: extraction_type_class, dtype: float64 \n",
      "\n",
      "\n",
      "management \n",
      " vwc                 0.681279\n",
      "wug                 0.107273\n",
      "water board         0.050842\n",
      "wua                 0.039259\n",
      "private operator    0.035892\n",
      "Name: management, dtype: float64 \n",
      "\n",
      "\n",
      "payment_type \n",
      " never pay     0.428552\n",
      "per bucket    0.153603\n",
      "monthly       0.141212\n",
      "unknown       0.134141\n",
      "annually      0.062492\n",
      "Name: payment_type, dtype: float64 \n",
      "\n",
      "\n",
      "water_quality \n",
      " soft        0.854343\n",
      "salty       0.082559\n",
      "unknown     0.031582\n",
      "milky       0.013535\n",
      "coloured    0.008956\n",
      "Name: water_quality, dtype: float64 \n",
      "\n",
      "\n",
      "quantity \n",
      " enough          0.561347\n",
      "insufficient    0.253670\n",
      "dry             0.103434\n",
      "seasonal        0.069024\n",
      "unknown         0.012525\n",
      "Name: quantity, dtype: float64 \n",
      "\n",
      "\n",
      "source \n",
      " shallow well            0.290640\n",
      "spring                  0.282492\n",
      "machine dbh             0.184983\n",
      "river                   0.158384\n",
      "rainwater harvesting    0.038249\n",
      "Name: source, dtype: float64 \n",
      "\n",
      "\n",
      "waterpoint_type_group \n",
      " communal standpipe    0.580067\n",
      "hand pump             0.296027\n",
      "other                 0.109764\n",
      "improved spring       0.011785\n",
      "cattle trough         0.002290\n",
      "Name: waterpoint_type_group, dtype: float64 \n",
      "\n",
      "\n"
     ]
    }
   ],
   "source": [
    "# Checking filler/placeholder values\n",
    "for col in test_values.columns:\n",
    "    print(col, '\\n', test_values[col].value_counts(normalize=True).head(), '\\n\\n' )"
   ]
  },
  {
   "cell_type": "code",
   "execution_count": 101,
   "metadata": {},
   "outputs": [
    {
     "name": "stdout",
     "output_type": "stream",
     "text": [
      "Missing values in population : 5453\n",
      "Missing values in construction_year : 5260\n",
      "Missing values in payment_type : 1992\n",
      "Missing values in water_quality : 469\n",
      "Missing values in quantity : 186\n"
     ]
    }
   ],
   "source": [
    "# Making a list of features with filler values\n",
    "nan_col = ['population', 'construction_year', 'payment_type', 'water_quality', 'quantity']\n",
    "\n",
    "# Making a list of filler values\n",
    "nan_val = [0, 0, 'unknown', 'unknown', 'unknown']\n",
    "\n",
    "# Using the for loop to replace the filler values with np.nan and printing out the resulting number of missing values\n",
    "for i in range(len(nan_col)):\n",
    "    test_values[nan_col[i]] = test_values[nan_col[i]].map(lambda x: np.nan if x == nan_val[i] else x)\n",
    "    print(\"Missing values in\", nan_col[i], \":\", test_values[nan_col[i]].isna().sum())"
   ]
  },
  {
   "cell_type": "code",
   "execution_count": 102,
   "metadata": {},
   "outputs": [
    {
     "data": {
      "text/html": [
       "<div>\n",
       "<style scoped>\n",
       "    .dataframe tbody tr th:only-of-type {\n",
       "        vertical-align: middle;\n",
       "    }\n",
       "\n",
       "    .dataframe tbody tr th {\n",
       "        vertical-align: top;\n",
       "    }\n",
       "\n",
       "    .dataframe thead th {\n",
       "        text-align: right;\n",
       "    }\n",
       "</style>\n",
       "<table border=\"1\" class=\"dataframe\">\n",
       "  <thead>\n",
       "    <tr style=\"text-align: right;\">\n",
       "      <th></th>\n",
       "      <th>district_code</th>\n",
       "      <th>construction_year</th>\n",
       "      <th>basin_Lake Nyasa</th>\n",
       "      <th>basin_Lake Rukwa</th>\n",
       "      <th>basin_Lake Tanganyika</th>\n",
       "      <th>basin_Lake Victoria</th>\n",
       "      <th>basin_Pangani</th>\n",
       "      <th>basin_Rufiji</th>\n",
       "      <th>basin_Ruvuma / Southern Coast</th>\n",
       "      <th>basin_Wami / Ruvu</th>\n",
       "      <th>...</th>\n",
       "      <th>source_rainwater harvesting</th>\n",
       "      <th>source_river</th>\n",
       "      <th>source_shallow well</th>\n",
       "      <th>source_spring</th>\n",
       "      <th>source_unknown</th>\n",
       "      <th>waterpoint_type_group_communal standpipe</th>\n",
       "      <th>waterpoint_type_group_dam</th>\n",
       "      <th>waterpoint_type_group_hand pump</th>\n",
       "      <th>waterpoint_type_group_improved spring</th>\n",
       "      <th>waterpoint_type_group_other</th>\n",
       "    </tr>\n",
       "    <tr>\n",
       "      <th>id</th>\n",
       "      <th></th>\n",
       "      <th></th>\n",
       "      <th></th>\n",
       "      <th></th>\n",
       "      <th></th>\n",
       "      <th></th>\n",
       "      <th></th>\n",
       "      <th></th>\n",
       "      <th></th>\n",
       "      <th></th>\n",
       "      <th></th>\n",
       "      <th></th>\n",
       "      <th></th>\n",
       "      <th></th>\n",
       "      <th></th>\n",
       "      <th></th>\n",
       "      <th></th>\n",
       "      <th></th>\n",
       "      <th></th>\n",
       "      <th></th>\n",
       "      <th></th>\n",
       "    </tr>\n",
       "  </thead>\n",
       "  <tbody>\n",
       "    <tr>\n",
       "      <th>50785</th>\n",
       "      <td>3</td>\n",
       "      <td>2012.0</td>\n",
       "      <td>0</td>\n",
       "      <td>0</td>\n",
       "      <td>0</td>\n",
       "      <td>0</td>\n",
       "      <td>0</td>\n",
       "      <td>0</td>\n",
       "      <td>0</td>\n",
       "      <td>0</td>\n",
       "      <td>...</td>\n",
       "      <td>1</td>\n",
       "      <td>0</td>\n",
       "      <td>0</td>\n",
       "      <td>0</td>\n",
       "      <td>0</td>\n",
       "      <td>0</td>\n",
       "      <td>0</td>\n",
       "      <td>0</td>\n",
       "      <td>0</td>\n",
       "      <td>1</td>\n",
       "    </tr>\n",
       "    <tr>\n",
       "      <th>51630</th>\n",
       "      <td>2</td>\n",
       "      <td>2000.0</td>\n",
       "      <td>0</td>\n",
       "      <td>0</td>\n",
       "      <td>0</td>\n",
       "      <td>0</td>\n",
       "      <td>1</td>\n",
       "      <td>0</td>\n",
       "      <td>0</td>\n",
       "      <td>0</td>\n",
       "      <td>...</td>\n",
       "      <td>0</td>\n",
       "      <td>0</td>\n",
       "      <td>0</td>\n",
       "      <td>1</td>\n",
       "      <td>0</td>\n",
       "      <td>1</td>\n",
       "      <td>0</td>\n",
       "      <td>0</td>\n",
       "      <td>0</td>\n",
       "      <td>0</td>\n",
       "    </tr>\n",
       "    <tr>\n",
       "      <th>17168</th>\n",
       "      <td>2</td>\n",
       "      <td>2010.0</td>\n",
       "      <td>0</td>\n",
       "      <td>0</td>\n",
       "      <td>0</td>\n",
       "      <td>0</td>\n",
       "      <td>0</td>\n",
       "      <td>0</td>\n",
       "      <td>0</td>\n",
       "      <td>0</td>\n",
       "      <td>...</td>\n",
       "      <td>1</td>\n",
       "      <td>0</td>\n",
       "      <td>0</td>\n",
       "      <td>0</td>\n",
       "      <td>0</td>\n",
       "      <td>0</td>\n",
       "      <td>0</td>\n",
       "      <td>0</td>\n",
       "      <td>0</td>\n",
       "      <td>1</td>\n",
       "    </tr>\n",
       "    <tr>\n",
       "      <th>45559</th>\n",
       "      <td>43</td>\n",
       "      <td>1987.0</td>\n",
       "      <td>0</td>\n",
       "      <td>0</td>\n",
       "      <td>0</td>\n",
       "      <td>0</td>\n",
       "      <td>0</td>\n",
       "      <td>0</td>\n",
       "      <td>1</td>\n",
       "      <td>0</td>\n",
       "      <td>...</td>\n",
       "      <td>0</td>\n",
       "      <td>0</td>\n",
       "      <td>1</td>\n",
       "      <td>0</td>\n",
       "      <td>0</td>\n",
       "      <td>0</td>\n",
       "      <td>0</td>\n",
       "      <td>0</td>\n",
       "      <td>0</td>\n",
       "      <td>1</td>\n",
       "    </tr>\n",
       "    <tr>\n",
       "      <th>49871</th>\n",
       "      <td>3</td>\n",
       "      <td>2000.0</td>\n",
       "      <td>0</td>\n",
       "      <td>0</td>\n",
       "      <td>0</td>\n",
       "      <td>0</td>\n",
       "      <td>0</td>\n",
       "      <td>0</td>\n",
       "      <td>1</td>\n",
       "      <td>0</td>\n",
       "      <td>...</td>\n",
       "      <td>0</td>\n",
       "      <td>0</td>\n",
       "      <td>0</td>\n",
       "      <td>1</td>\n",
       "      <td>0</td>\n",
       "      <td>1</td>\n",
       "      <td>0</td>\n",
       "      <td>0</td>\n",
       "      <td>0</td>\n",
       "      <td>0</td>\n",
       "    </tr>\n",
       "  </tbody>\n",
       "</table>\n",
       "<p>5 rows × 77 columns</p>\n",
       "</div>"
      ],
      "text/plain": [
       "       district_code  construction_year  basin_Lake Nyasa  basin_Lake Rukwa  \\\n",
       "id                                                                            \n",
       "50785              3             2012.0                 0                 0   \n",
       "51630              2             2000.0                 0                 0   \n",
       "17168              2             2010.0                 0                 0   \n",
       "45559             43             1987.0                 0                 0   \n",
       "49871              3             2000.0                 0                 0   \n",
       "\n",
       "       basin_Lake Tanganyika  basin_Lake Victoria  basin_Pangani  \\\n",
       "id                                                                 \n",
       "50785                      0                    0              0   \n",
       "51630                      0                    0              1   \n",
       "17168                      0                    0              0   \n",
       "45559                      0                    0              0   \n",
       "49871                      0                    0              0   \n",
       "\n",
       "       basin_Rufiji  basin_Ruvuma / Southern Coast  basin_Wami / Ruvu  ...  \\\n",
       "id                                                                     ...   \n",
       "50785             0                              0                  0  ...   \n",
       "51630             0                              0                  0  ...   \n",
       "17168             0                              0                  0  ...   \n",
       "45559             0                              1                  0  ...   \n",
       "49871             0                              1                  0  ...   \n",
       "\n",
       "       source_rainwater harvesting  source_river  source_shallow well  \\\n",
       "id                                                                      \n",
       "50785                            1             0                    0   \n",
       "51630                            0             0                    0   \n",
       "17168                            1             0                    0   \n",
       "45559                            0             0                    1   \n",
       "49871                            0             0                    0   \n",
       "\n",
       "       source_spring  source_unknown  \\\n",
       "id                                     \n",
       "50785              0               0   \n",
       "51630              1               0   \n",
       "17168              0               0   \n",
       "45559              0               0   \n",
       "49871              1               0   \n",
       "\n",
       "       waterpoint_type_group_communal standpipe  waterpoint_type_group_dam  \\\n",
       "id                                                                           \n",
       "50785                                         0                          0   \n",
       "51630                                         1                          0   \n",
       "17168                                         0                          0   \n",
       "45559                                         0                          0   \n",
       "49871                                         1                          0   \n",
       "\n",
       "       waterpoint_type_group_hand pump  waterpoint_type_group_improved spring  \\\n",
       "id                                                                              \n",
       "50785                                0                                      0   \n",
       "51630                                0                                      0   \n",
       "17168                                0                                      0   \n",
       "45559                                0                                      0   \n",
       "49871                                0                                      0   \n",
       "\n",
       "       waterpoint_type_group_other  \n",
       "id                                  \n",
       "50785                            1  \n",
       "51630                            0  \n",
       "17168                            1  \n",
       "45559                            1  \n",
       "49871                            0  \n",
       "\n",
       "[5 rows x 77 columns]"
      ]
     },
     "execution_count": 102,
     "metadata": {},
     "output_type": "execute_result"
    }
   ],
   "source": [
    "# Listing categorical features\n",
    "cat_features2 = test_values[['basin', 'region', 'district_code', 'public_meeting', 'permit', 'construction_year', 'extraction_type_class',\n",
    "                         'management', 'payment_type', 'water_quality', 'quantity', 'source', 'waterpoint_type_group']]\n",
    "\n",
    "# Creating dummies and dropping one variable to avoid dummy variable trap\n",
    "cat_dummies = pd.get_dummies(cat_features2, drop_first=True)\n",
    "cat_dummies.head()"
   ]
  },
  {
   "cell_type": "code",
   "execution_count": 103,
   "metadata": {},
   "outputs": [],
   "source": [
    "# Removing the original categorical features from the dataframe\n",
    "test_values = test_values.drop(['basin', 'region', 'district_code', 'public_meeting', 'permit', 'construction_year',\n",
    "                          'extraction_type_class', 'management', 'payment_type', 'water_quality', 'quantity',\n",
    "                          'source', 'waterpoint_type_group'], axis=1)"
   ]
  },
  {
   "cell_type": "code",
   "execution_count": 104,
   "metadata": {},
   "outputs": [],
   "source": [
    "# Adding the dummy categories to the dataframe\n",
    "test_values = pd.concat([test_values, cat_dummies], axis=1)"
   ]
  },
  {
   "cell_type": "code",
   "execution_count": 105,
   "metadata": {},
   "outputs": [],
   "source": [
    "# Min-Max Normalizing\n",
    "test_values = pd.DataFrame(scaler.fit_transform(test_values), columns = test_values.columns)"
   ]
  },
  {
   "cell_type": "code",
   "execution_count": 106,
   "metadata": {},
   "outputs": [],
   "source": [
    "# KNN Imputation for missing values\n",
    "test_values = pd.DataFrame(np.round(imputer.fit_transform(test_values)),columns = test_values.columns)"
   ]
  },
  {
   "cell_type": "code",
   "execution_count": 107,
   "metadata": {},
   "outputs": [
    {
     "data": {
      "text/plain": [
       "0"
      ]
     },
     "execution_count": 107,
     "metadata": {},
     "output_type": "execute_result"
    }
   ],
   "source": [
    "# Checking if the missing values have been replaced\n",
    "test_values.isna().sum().sum()"
   ]
  },
  {
   "cell_type": "markdown",
   "metadata": {},
   "source": [
    "Now, we have taken care of all the missing, filler and outlier values in the test dataset. We also normalized it with the min-max scaler.\n",
    "\n",
    "Next, we will bring the submission file to enter the predictions."
   ]
  },
  {
   "cell_type": "code",
   "execution_count": 108,
   "metadata": {},
   "outputs": [],
   "source": [
    "test_labels = pd.read_csv('SubmissionFormat.csv', index_col='id')"
   ]
  },
  {
   "cell_type": "code",
   "execution_count": 109,
   "metadata": {},
   "outputs": [],
   "source": [
    "# Predicting the target labels by using our final RF model\n",
    "test_labels['status_group'] = rf_clf3.predict(test_values)"
   ]
  },
  {
   "cell_type": "markdown",
   "metadata": {},
   "source": [
    "Let's see the predictions have been populated."
   ]
  },
  {
   "cell_type": "code",
   "execution_count": 110,
   "metadata": {},
   "outputs": [
    {
     "data": {
      "text/html": [
       "<div>\n",
       "<style scoped>\n",
       "    .dataframe tbody tr th:only-of-type {\n",
       "        vertical-align: middle;\n",
       "    }\n",
       "\n",
       "    .dataframe tbody tr th {\n",
       "        vertical-align: top;\n",
       "    }\n",
       "\n",
       "    .dataframe thead th {\n",
       "        text-align: right;\n",
       "    }\n",
       "</style>\n",
       "<table border=\"1\" class=\"dataframe\">\n",
       "  <thead>\n",
       "    <tr style=\"text-align: right;\">\n",
       "      <th></th>\n",
       "      <th>status_group</th>\n",
       "    </tr>\n",
       "    <tr>\n",
       "      <th>id</th>\n",
       "      <th></th>\n",
       "    </tr>\n",
       "  </thead>\n",
       "  <tbody>\n",
       "    <tr>\n",
       "      <th>50785</th>\n",
       "      <td>non functional</td>\n",
       "    </tr>\n",
       "    <tr>\n",
       "      <th>51630</th>\n",
       "      <td>functional</td>\n",
       "    </tr>\n",
       "    <tr>\n",
       "      <th>17168</th>\n",
       "      <td>functional</td>\n",
       "    </tr>\n",
       "    <tr>\n",
       "      <th>45559</th>\n",
       "      <td>non functional</td>\n",
       "    </tr>\n",
       "    <tr>\n",
       "      <th>49871</th>\n",
       "      <td>functional</td>\n",
       "    </tr>\n",
       "  </tbody>\n",
       "</table>\n",
       "</div>"
      ],
      "text/plain": [
       "         status_group\n",
       "id                   \n",
       "50785  non functional\n",
       "51630      functional\n",
       "17168      functional\n",
       "45559  non functional\n",
       "49871      functional"
      ]
     },
     "execution_count": 110,
     "metadata": {},
     "output_type": "execute_result"
    }
   ],
   "source": [
    "test_labels.head()"
   ]
  },
  {
   "cell_type": "markdown",
   "metadata": {},
   "source": [
    "Great! Now, we can export this dataframe as a csv file for the submission."
   ]
  },
  {
   "cell_type": "code",
   "execution_count": 111,
   "metadata": {},
   "outputs": [],
   "source": [
    "test_labels.to_csv('SubmissionFormat_Complete.csv', index=True)"
   ]
  },
  {
   "cell_type": "markdown",
   "metadata": {},
   "source": [
    "# Areas for Improvements"
   ]
  },
  {
   "cell_type": "markdown",
   "metadata": {},
   "source": [
    "The areas that I need to work on further in order to improve my final model are as below - \n",
    "\n",
    "1. The range of hyperparameters input that I use in GridSearchCV for various model is quite limited due to the computing power of my desktop. For example, I couldn't successfuly use GridSearchCV for SVM because It took a very long time to complete. I think my model performance will be better if I can use a larger range of input in order to find the optimal hyperparameters.\n",
    "<br>\n",
    "\n",
    "\n",
    "2. I removed multiple features prior to the model constructions because I believe these features are irrelevant. Some of these features might be relevant and could help in improving my model's performance metrics.\n",
    "<br>\n",
    "\n",
    "3. As part of the data scrubbing, I used min-max scaler to normalize my datasets. Possibly, my model's performance metrics might improve if I use other methods such as standardization instead of min-max scaler."
   ]
  }
 ],
 "metadata": {
  "kernelspec": {
   "display_name": "Python 3",
   "language": "python",
   "name": "python3"
  },
  "language_info": {
   "codemirror_mode": {
    "name": "ipython",
    "version": 3
   },
   "file_extension": ".py",
   "mimetype": "text/x-python",
   "name": "python",
   "nbconvert_exporter": "python",
   "pygments_lexer": "ipython3",
   "version": "3.7.6"
  }
 },
 "nbformat": 4,
 "nbformat_minor": 2
}
